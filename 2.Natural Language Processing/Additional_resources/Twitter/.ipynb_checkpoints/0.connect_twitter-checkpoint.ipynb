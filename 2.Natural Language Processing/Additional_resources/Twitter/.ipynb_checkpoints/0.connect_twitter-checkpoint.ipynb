{
 "cells": [
  {
   "cell_type": "markdown",
   "metadata": {},
   "source": [
    "# NLP: Analysing Twitter Data\n",
    "\n",
    "Twitter is an online news and social networking service where users post and interact with messages, known as **tweets** .\n",
    "\n",
    "* A tweet can have at most 280 characters.\n",
    "* More than 319 million monthly active users (2016)\n",
    "* 400 million tweets per day\n",
    "* Tweets are publicly visible by default, but senders can restrict message delivery to just their followers.\n",
    "* Individual tweets can be forwarded by other users to their own feed, a process known as a **retweet**.\n",
    "* 44 percent of user accounts have never tweeted\n",
    "* Users can group posts together by topic or type by use of **hashtags  \\#**\n",
    "* The **@** sign followed by a username is used to mention other users.\n",
    "* A word, phrase, or topic that is mentioned at a greater rate than others is said to be a **trending topic**: https://twitter.com/whatstrending.\n"
   ]
  },
  {
   "cell_type": "markdown",
   "metadata": {},
   "source": [
    "### 1. Import the necessary libraries"
   ]
  },
  {
   "cell_type": "code",
   "execution_count": 6,
   "metadata": {},
   "outputs": [],
   "source": [
    "import tweepy"
   ]
  },
  {
   "cell_type": "markdown",
   "metadata": {},
   "source": [
    "To use teepy we need to have a developer account in twitter. This has to be requested from:\n",
    "\n",
    "https://developer.twitter.com/en"
   ]
  },
  {
   "cell_type": "code",
   "execution_count": 2,
   "metadata": {},
   "outputs": [],
   "source": [
    "# Creating the authentication object\n",
    "auth = tweepy.OAuthHandler(consumer_key, consumer_secret)\n",
    "\n",
    "# Setting your access token and secret\n",
    "auth.set_access_token(access_token, access_token_secret)\n",
    "\n",
    "# Creating the API object while passing in auth information\n",
    "myapi = tweepy.API(auth) "
   ]
  },
  {
   "cell_type": "code",
   "execution_count": null,
   "metadata": {},
   "outputs": [],
   "source": []
  }
 ],
 "metadata": {
  "anaconda-cloud": {},
  "kernelspec": {
   "display_name": "Python 3",
   "language": "python",
   "name": "python3"
  },
  "language_info": {
   "codemirror_mode": {
    "name": "ipython",
    "version": 3
   },
   "file_extension": ".py",
   "mimetype": "text/x-python",
   "name": "python",
   "nbconvert_exporter": "python",
   "pygments_lexer": "ipython3",
   "version": "3.6.5"
  }
 },
 "nbformat": 4,
 "nbformat_minor": 2
}

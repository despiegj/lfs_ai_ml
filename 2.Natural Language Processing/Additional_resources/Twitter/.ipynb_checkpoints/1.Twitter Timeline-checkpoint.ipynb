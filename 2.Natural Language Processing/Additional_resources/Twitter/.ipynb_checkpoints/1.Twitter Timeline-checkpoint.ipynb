{
 "cells": [
  {
   "cell_type": "code",
   "execution_count": 1,
   "metadata": {},
   "outputs": [
    {
     "name": "stdout",
     "output_type": "stream",
     "text": [
      "my API Connected !\n"
     ]
    }
   ],
   "source": [
    "%run connect_twitter.ipynb"
   ]
  },
  {
   "cell_type": "code",
   "execution_count": 2,
   "metadata": {},
   "outputs": [],
   "source": [
    "import tweepy\n",
    "import re\n",
    "import webbrowser"
   ]
  },
  {
   "cell_type": "markdown",
   "metadata": {},
   "source": [
    "Collecting the tweets. <br>\n",
    "By default 20 tweets are assembled from the time_line"
   ]
  },
  {
   "cell_type": "code",
   "execution_count": 3,
   "metadata": {},
   "outputs": [
    {
     "name": "stdout",
     "output_type": "stream",
     "text": [
      "nbr tweets: 20\n"
     ]
    }
   ],
   "source": [
    "public_tweets =  myapi.home_timeline()\n",
    "print('nbr tweets:',len(public_tweets[:]))"
   ]
  },
  {
   "cell_type": "markdown",
   "metadata": {},
   "source": [
    "Collecting URL adresses from the feed"
   ]
  },
  {
   "cell_type": "code",
   "execution_count": 4,
   "metadata": {
    "scrolled": true
   },
   "outputs": [
    {
     "name": "stdout",
     "output_type": "stream",
     "text": [
      "2020-07-22 (location:London UK)\n",
      ".@AccuityTweets partners Encompass to automate KYC processes\n",
      "\n",
      "https://t.co/TR8IKm95x6 \n",
      "\n",
      "2020-07-22 (location:London UK)\n",
      "“There has never been a less profitable time to run current accounts,” says the CEO James Roy Poulter… https://t.co/2bWGnHGbha \n",
      "\n",
      "2020-07-22 (location:Everything fintech, worldwide)\n",
      "Company announcement: Pine Labs invests in South East Asian loyalty platfor... https://t.co/K7KKy1x9L4 #fintech \n",
      "\n",
      "2020-07-22 (location:Everything fintech, worldwide)\n",
      "Company announcement: Diebold Nixdorf wins BankDhofar contract https://t.co/VAid00JgdL #fintech \n",
      "\n",
      "2020-07-22 (location:Everything fintech, worldwide)\n",
      "Company announcement: Princeton FCU to undertake core conversion with Corel... https://t.co/kIbW2tUpHQ #fintech \n",
      "\n"
     ]
    }
   ],
   "source": [
    "\n",
    "url_list = []\n",
    "for tweet in public_tweets[0:5]:\n",
    "    print(tweet.created_at.strftime('%Y-%m-%d') + ' (location:' + tweet.user.location + ')')\n",
    "    print(tweet.text,'\\n')\n",
    "    url = re.findall('http[s]?://(?:[a-zA-Z]|[0-9]|[$-_@.&+]|[!*\\(\\),]|(?:%[0-9a-fA-F][0-9a-fA-F]))+', tweet.text)\n",
    "    if url!=[]:\n",
    "        url_list.append(url)"
   ]
  },
  {
   "cell_type": "code",
   "execution_count": 5,
   "metadata": {},
   "outputs": [
    {
     "data": {
      "text/plain": [
       "[['https://t.co/TR8IKm95x6'],\n",
       " ['https://t.co/2bWGnHGbha'],\n",
       " ['https://t.co/K7KKy1x9L4'],\n",
       " ['https://t.co/VAid00JgdL'],\n",
       " ['https://t.co/kIbW2tUpHQ']]"
      ]
     },
     "execution_count": 5,
     "metadata": {},
     "output_type": "execute_result"
    }
   ],
   "source": [
    "url_list"
   ]
  },
  {
   "cell_type": "markdown",
   "metadata": {},
   "source": [
    "Open up the first webpage in the list:"
   ]
  },
  {
   "cell_type": "code",
   "execution_count": 6,
   "metadata": {},
   "outputs": [
    {
     "data": {
      "text/plain": [
       "True"
      ]
     },
     "execution_count": 6,
     "metadata": {},
     "output_type": "execute_result"
    }
   ],
   "source": [
    "webbrowser.open(url_list[0][0])"
   ]
  },
  {
   "cell_type": "code",
   "execution_count": null,
   "metadata": {},
   "outputs": [],
   "source": []
  }
 ],
 "metadata": {
  "anaconda-cloud": {},
  "kernelspec": {
   "display_name": "Python 3",
   "language": "python",
   "name": "python3"
  },
  "language_info": {
   "codemirror_mode": {
    "name": "ipython",
    "version": 3
   },
   "file_extension": ".py",
   "mimetype": "text/x-python",
   "name": "python",
   "nbconvert_exporter": "python",
   "pygments_lexer": "ipython3",
   "version": "3.6.5"
  }
 },
 "nbformat": 4,
 "nbformat_minor": 2
}

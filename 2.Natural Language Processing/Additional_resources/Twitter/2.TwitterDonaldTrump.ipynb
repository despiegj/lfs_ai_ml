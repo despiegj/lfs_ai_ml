{
 "cells": [
  {
   "cell_type": "code",
   "execution_count": 1,
   "metadata": {},
   "outputs": [
    {
     "name": "stdout",
     "output_type": "stream",
     "text": [
      "my API Connected !\n"
     ]
    }
   ],
   "source": [
    "%run connect_twitter.ipynb"
   ]
  },
  {
   "cell_type": "code",
   "execution_count": 2,
   "metadata": {},
   "outputs": [],
   "source": [
    "import pandas as pd\n",
    "import numpy as np\n",
    "import seaborn as sns\n",
    "import matplotlib.pyplot as plt\n",
    "%matplotlib inline"
   ]
  },
  {
   "cell_type": "markdown",
   "metadata": {},
   "source": [
    "<h3>Gathering Data</h3><br>\n",
    "Find 200 most recent tweets fom user @realDonaldTrump:"
   ]
  },
  {
   "cell_type": "code",
   "execution_count": 3,
   "metadata": {},
   "outputs": [],
   "source": [
    "name = '@realDonaldTrump'\n",
    "nbr_tweets = 200\n",
    "results = myapi.user_timeline(id=name, count=nbr_tweets)"
   ]
  },
  {
   "cell_type": "code",
   "execution_count": 4,
   "metadata": {},
   "outputs": [
    {
     "data": {
      "text/plain": [
       "tweepy.models.ResultSet"
      ]
     },
     "execution_count": 4,
     "metadata": {},
     "output_type": "execute_result"
    }
   ],
   "source": [
    "type(results)"
   ]
  },
  {
   "cell_type": "code",
   "execution_count": 5,
   "metadata": {},
   "outputs": [],
   "source": [
    "data=[tweet.text for tweet in results]\n"
   ]
  },
  {
   "cell_type": "markdown",
   "metadata": {},
   "source": [
    "Assemble the text into a dataframe"
   ]
  },
  {
   "cell_type": "code",
   "execution_count": 6,
   "metadata": {},
   "outputs": [],
   "source": [
    "data = pd.DataFrame(data=[tweet.text for tweet in results],\n",
    "                    columns=['Tweets'])"
   ]
  },
  {
   "cell_type": "code",
   "execution_count": 8,
   "metadata": {},
   "outputs": [
    {
     "data": {
      "text/plain": [
       "200"
      ]
     },
     "execution_count": 8,
     "metadata": {},
     "output_type": "execute_result"
    }
   ],
   "source": [
    "len(data)"
   ]
  },
  {
   "cell_type": "markdown",
   "metadata": {},
   "source": [
    "The interesting part from here is the quantity of metadata contained in a single tweet. If we want to obtain data such as the creation date, or the source of creation, we can access the info with this attributes. An example is the following:"
   ]
  },
  {
   "cell_type": "code",
   "execution_count": 41,
   "metadata": {},
   "outputs": [
    {
     "name": "stdout",
     "output_type": "stream",
     "text": [
      "['__class__', '__delattr__', '__dict__', '__dir__', '__doc__', '__eq__', '__format__', '__ge__', '__getattribute__', '__getstate__', '__gt__', '__hash__', '__init__', '__init_subclass__', '__le__', '__lt__', '__module__', '__ne__', '__new__', '__reduce__', '__reduce_ex__', '__repr__', '__setattr__', '__sizeof__', '__str__', '__subclasshook__', '__weakref__', '_api', '_json', 'author', 'contributors', 'coordinates', 'created_at', 'destroy', 'entities', 'favorite', 'favorite_count', 'favorited', 'geo', 'id', 'id_str', 'in_reply_to_screen_name', 'in_reply_to_status_id', 'in_reply_to_status_id_str', 'in_reply_to_user_id', 'in_reply_to_user_id_str', 'is_quote_status', 'lang', 'parse', 'parse_list', 'place', 'retweet', 'retweet_count', 'retweeted', 'retweets', 'source', 'source_url', 'text', 'truncated', 'user']\n"
     ]
    }
   ],
   "source": [
    "print(dir(results[0]))"
   ]
  },
  {
   "cell_type": "markdown",
   "metadata": {},
   "source": [
    "Getting the meta data from the first tweet in the lsit"
   ]
  },
  {
   "cell_type": "code",
   "execution_count": 9,
   "metadata": {},
   "outputs": [
    {
     "name": "stdout",
     "output_type": "stream",
     "text": [
      "id: 1299165476996743176\n",
      "created at: 2020-08-28 02:02:41\n",
      "source: Twitter for iPhone\n",
      "likes: 0\n",
      "retweets: 6077\n",
      "geo-location: None\n",
      "message: RT @TeamTrump: WATCH: Republican National Convention - Night 4: Land of Greatness #GOP2020 https://t.co/rZXogq3RBg\n"
     ]
    }
   ],
   "source": [
    "print('id:',results[0].id)\n",
    "print('created at:',results[0].created_at)\n",
    "print('source:',results[0].source)\n",
    "print('likes:',results[0].favorite_count)\n",
    "print('retweets:',results[0].retweet_count)\n",
    "print('geo-location:',results[0].geo)\n",
    "print('message:',results[0].text)"
   ]
  },
  {
   "cell_type": "markdown",
   "metadata": {},
   "source": [
    "<h4>Adding more data to the dataframe </h4>"
   ]
  },
  {
   "cell_type": "code",
   "execution_count": 10,
   "metadata": {},
   "outputs": [],
   "source": [
    "data['len']  = np.array([len(tweet.text) for tweet in results])\n",
    "data['ID']   = np.array([tweet.id for tweet in results])\n",
    "data['Date'] = np.array([tweet.created_at for tweet in results])\n",
    "data['Source'] = np.array([tweet.source for tweet in results])\n",
    "data['Likes']  = np.array([tweet.favorite_count for tweet in results])\n",
    "data['RTs']    = np.array([tweet.retweet_count for tweet in results])"
   ]
  },
  {
   "cell_type": "code",
   "execution_count": 11,
   "metadata": {},
   "outputs": [
    {
     "data": {
      "text/html": [
       "<div>\n",
       "<style scoped>\n",
       "    .dataframe tbody tr th:only-of-type {\n",
       "        vertical-align: middle;\n",
       "    }\n",
       "\n",
       "    .dataframe tbody tr th {\n",
       "        vertical-align: top;\n",
       "    }\n",
       "\n",
       "    .dataframe thead th {\n",
       "        text-align: right;\n",
       "    }\n",
       "</style>\n",
       "<table border=\"1\" class=\"dataframe\">\n",
       "  <thead>\n",
       "    <tr style=\"text-align: right;\">\n",
       "      <th></th>\n",
       "      <th>Tweets</th>\n",
       "      <th>len</th>\n",
       "      <th>ID</th>\n",
       "      <th>Date</th>\n",
       "      <th>Source</th>\n",
       "      <th>Likes</th>\n",
       "      <th>RTs</th>\n",
       "    </tr>\n",
       "  </thead>\n",
       "  <tbody>\n",
       "    <tr>\n",
       "      <th>0</th>\n",
       "      <td>RT @TeamTrump: WATCH: Republican National Conv...</td>\n",
       "      <td>114</td>\n",
       "      <td>1299165476996743176</td>\n",
       "      <td>2020-08-28 02:02:41</td>\n",
       "      <td>Twitter for iPhone</td>\n",
       "      <td>0</td>\n",
       "      <td>6077</td>\n",
       "    </tr>\n",
       "    <tr>\n",
       "      <th>1</th>\n",
       "      <td>https://t.co/PuqeF1ctDs</td>\n",
       "      <td>23</td>\n",
       "      <td>1299165375830073344</td>\n",
       "      <td>2020-08-28 02:02:17</td>\n",
       "      <td>Twitter for iPhone</td>\n",
       "      <td>47645</td>\n",
       "      <td>15088</td>\n",
       "    </tr>\n",
       "    <tr>\n",
       "      <th>2</th>\n",
       "      <td>https://t.co/QekykcJKMw</td>\n",
       "      <td>23</td>\n",
       "      <td>1299165334310653952</td>\n",
       "      <td>2020-08-28 02:02:07</td>\n",
       "      <td>Twitter for iPhone</td>\n",
       "      <td>26811</td>\n",
       "      <td>7938</td>\n",
       "    </tr>\n",
       "    <tr>\n",
       "      <th>3</th>\n",
       "      <td>https://t.co/vskaY4jx1g</td>\n",
       "      <td>23</td>\n",
       "      <td>1299165301674835968</td>\n",
       "      <td>2020-08-28 02:01:59</td>\n",
       "      <td>Twitter for iPhone</td>\n",
       "      <td>17651</td>\n",
       "      <td>4629</td>\n",
       "    </tr>\n",
       "    <tr>\n",
       "      <th>4</th>\n",
       "      <td>https://t.co/FCBc2JjrCs</td>\n",
       "      <td>23</td>\n",
       "      <td>1299165273195524101</td>\n",
       "      <td>2020-08-28 02:01:53</td>\n",
       "      <td>Twitter for iPhone</td>\n",
       "      <td>24324</td>\n",
       "      <td>6803</td>\n",
       "    </tr>\n",
       "  </tbody>\n",
       "</table>\n",
       "</div>"
      ],
      "text/plain": [
       "                                              Tweets  len  \\\n",
       "0  RT @TeamTrump: WATCH: Republican National Conv...  114   \n",
       "1                            https://t.co/PuqeF1ctDs   23   \n",
       "2                            https://t.co/QekykcJKMw   23   \n",
       "3                            https://t.co/vskaY4jx1g   23   \n",
       "4                            https://t.co/FCBc2JjrCs   23   \n",
       "\n",
       "                    ID                Date              Source  Likes    RTs  \n",
       "0  1299165476996743176 2020-08-28 02:02:41  Twitter for iPhone      0   6077  \n",
       "1  1299165375830073344 2020-08-28 02:02:17  Twitter for iPhone  47645  15088  \n",
       "2  1299165334310653952 2020-08-28 02:02:07  Twitter for iPhone  26811   7938  \n",
       "3  1299165301674835968 2020-08-28 02:01:59  Twitter for iPhone  17651   4629  \n",
       "4  1299165273195524101 2020-08-28 02:01:53  Twitter for iPhone  24324   6803  "
      ]
     },
     "execution_count": 11,
     "metadata": {},
     "output_type": "execute_result"
    }
   ],
   "source": [
    "data.head()"
   ]
  },
  {
   "cell_type": "markdown",
   "metadata": {},
   "source": [
    "<h3>Interpretation of the data</h3>"
   ]
  },
  {
   "cell_type": "code",
   "execution_count": 12,
   "metadata": {},
   "outputs": [],
   "source": [
    "likes_max = np.max(data['Likes'])\n",
    "retweet_max  = np.max(data['RTs'])"
   ]
  },
  {
   "cell_type": "code",
   "execution_count": 13,
   "metadata": {},
   "outputs": [],
   "source": [
    "likes = data[data['Likes'] == likes_max].index[0]\n",
    "retweets  = data[data.RTs == retweet_max].index[0]"
   ]
  },
  {
   "cell_type": "code",
   "execution_count": 14,
   "metadata": {},
   "outputs": [
    {
     "data": {
      "text/plain": [
       "65"
      ]
     },
     "execution_count": 14,
     "metadata": {},
     "output_type": "execute_result"
    }
   ],
   "source": [
    "retweets"
   ]
  },
  {
   "cell_type": "code",
   "execution_count": 17,
   "metadata": {},
   "outputs": [
    {
     "name": "stdout",
     "output_type": "stream",
     "text": [
      "The tweet with most likes is: \n",
      "We will NOT stand for looting, arson, violence, and lawlessness on American streets. My team just got off the phone… https://t.co/cOfgqN5Tor\n",
      "Number of likes: 290691\n",
      "140 characters.\n",
      "Tweeted at 2020-08-26 17:19:36\n"
     ]
    }
   ],
   "source": [
    "# Max FAVs:\n",
    "print(\"The tweet with most likes is: \\n{}\".format(data['Tweets'][likes]))\n",
    "print(\"Number of likes: {}\".format(likes_max))\n",
    "print(\"{} characters.\".format(data['len'][likes]))\n",
    "print(\"Tweeted at {s}\".format(s=data['Date'][likes]))"
   ]
  },
  {
   "cell_type": "code",
   "execution_count": 18,
   "metadata": {},
   "outputs": [
    {
     "data": {
      "text/html": [
       "<div>\n",
       "<style scoped>\n",
       "    .dataframe tbody tr th:only-of-type {\n",
       "        vertical-align: middle;\n",
       "    }\n",
       "\n",
       "    .dataframe tbody tr th {\n",
       "        vertical-align: top;\n",
       "    }\n",
       "\n",
       "    .dataframe thead th {\n",
       "        text-align: right;\n",
       "    }\n",
       "</style>\n",
       "<table border=\"1\" class=\"dataframe\">\n",
       "  <thead>\n",
       "    <tr style=\"text-align: right;\">\n",
       "      <th></th>\n",
       "      <th>Tweets</th>\n",
       "      <th>len</th>\n",
       "      <th>ID</th>\n",
       "      <th>Date</th>\n",
       "      <th>Source</th>\n",
       "      <th>Likes</th>\n",
       "      <th>RTs</th>\n",
       "    </tr>\n",
       "  </thead>\n",
       "  <tbody>\n",
       "    <tr>\n",
       "      <th>65</th>\n",
       "      <td>We will NOT stand for looting, arson, violence...</td>\n",
       "      <td>140</td>\n",
       "      <td>1298671449968959490</td>\n",
       "      <td>2020-08-26 17:19:36</td>\n",
       "      <td>Twitter for iPhone</td>\n",
       "      <td>290691</td>\n",
       "      <td>60524</td>\n",
       "    </tr>\n",
       "    <tr>\n",
       "      <th>158</th>\n",
       "      <td>Joe Biden has said he would lock down the Coun...</td>\n",
       "      <td>140</td>\n",
       "      <td>1298029780437270530</td>\n",
       "      <td>2020-08-24 22:49:50</td>\n",
       "      <td>Twitter for iPhone</td>\n",
       "      <td>240238</td>\n",
       "      <td>47922</td>\n",
       "    </tr>\n",
       "    <tr>\n",
       "      <th>119</th>\n",
       "      <td>Very appreciative that @CNN covered the vast m...</td>\n",
       "      <td>140</td>\n",
       "      <td>1298236091313651715</td>\n",
       "      <td>2020-08-25 12:29:38</td>\n",
       "      <td>Twitter for iPhone</td>\n",
       "      <td>228437</td>\n",
       "      <td>35770</td>\n",
       "    </tr>\n",
       "    <tr>\n",
       "      <th>67</th>\n",
       "      <td>Just In: Chinese State Media and Leaders of CH...</td>\n",
       "      <td>140</td>\n",
       "      <td>1298637609871212545</td>\n",
       "      <td>2020-08-26 15:05:08</td>\n",
       "      <td>Twitter for iPhone</td>\n",
       "      <td>206746</td>\n",
       "      <td>52129</td>\n",
       "    </tr>\n",
       "  </tbody>\n",
       "</table>\n",
       "</div>"
      ],
      "text/plain": [
       "                                                Tweets  len  \\\n",
       "65   We will NOT stand for looting, arson, violence...  140   \n",
       "158  Joe Biden has said he would lock down the Coun...  140   \n",
       "119  Very appreciative that @CNN covered the vast m...  140   \n",
       "67   Just In: Chinese State Media and Leaders of CH...  140   \n",
       "\n",
       "                      ID                Date              Source   Likes  \\\n",
       "65   1298671449968959490 2020-08-26 17:19:36  Twitter for iPhone  290691   \n",
       "158  1298029780437270530 2020-08-24 22:49:50  Twitter for iPhone  240238   \n",
       "119  1298236091313651715 2020-08-25 12:29:38  Twitter for iPhone  228437   \n",
       "67   1298637609871212545 2020-08-26 15:05:08  Twitter for iPhone  206746   \n",
       "\n",
       "       RTs  \n",
       "65   60524  \n",
       "158  47922  \n",
       "119  35770  \n",
       "67   52129  "
      ]
     },
     "execution_count": 18,
     "metadata": {},
     "output_type": "execute_result"
    }
   ],
   "source": [
    "data.sort_values(by='Likes',ascending=False).head(4)"
   ]
  },
  {
   "cell_type": "markdown",
   "metadata": {},
   "source": [
    "<h3>Making Graphs</h3>"
   ]
  },
  {
   "cell_type": "code",
   "execution_count": 19,
   "metadata": {},
   "outputs": [],
   "source": [
    "t_likes = pd.Series(data=data['Likes'].values, index=data['Date'])"
   ]
  },
  {
   "cell_type": "code",
   "execution_count": 20,
   "metadata": {},
   "outputs": [],
   "source": [
    "t_retweets = pd.Series(data=data['RTs'].values, index=data['Date'])"
   ]
  },
  {
   "cell_type": "code",
   "execution_count": 21,
   "metadata": {},
   "outputs": [
    {
     "data": {
      "image/png": "[encoded data removed]",
      "text/plain": [
       "<Figure size 864x432 with 1 Axes>"
      ]
     },
     "metadata": {
      "needs_background": "light"
     },
     "output_type": "display_data"
    }
   ],
   "source": [
    "t_likes.plot(title='Donald Trump',\n",
    "             figsize=(12,6),\n",
    "             legend=True,\n",
    "             label='Likes');\n",
    "t_retweets.plot(legend=True,label='Retweets');"
   ]
  },
  {
   "cell_type": "markdown",
   "metadata": {},
   "source": [
    "<h3>Sentiment Analysis of the Tweets</h3>"
   ]
  },
  {
   "cell_type": "code",
   "execution_count": 22,
   "metadata": {},
   "outputs": [],
   "source": [
    "from textblob import TextBlob\n",
    "import re"
   ]
  },
  {
   "cell_type": "markdown",
   "metadata": {},
   "source": [
    "Define 2 different utility functions"
   ]
  },
  {
   "cell_type": "code",
   "execution_count": 23,
   "metadata": {},
   "outputs": [],
   "source": [
    "def clean_tweet(tweet):\n",
    "    '''\n",
    "    Utility function to clean the text in a tweet by removing \n",
    "    links and special characters using regex.\n",
    "    '''\n",
    "    return ' '.join(re.sub(\"(@[A-Za-z0-9]+)|([^0-9A-Za-z \\t])|(\\w+:\\/\\/\\S+)\", \" \", tweet).split())\n",
    "\n",
    "def analyze_sentiment(tweet):\n",
    "    '''\n",
    "    Utility function to classify the polarity of a tweet\n",
    "    using textblob.\n",
    "    '''\n",
    "    #analysis = TextBlob(clean_tweet(tweet))\n",
    "    analysis = TextBlob(tweet)\n",
    "    if analysis.sentiment.polarity > 0:\n",
    "        return 1\n",
    "    elif analysis.sentiment.polarity == 0:\n",
    "        return 0\n",
    "    else:\n",
    "        return -1"
   ]
  },
  {
   "cell_type": "code",
   "execution_count": 24,
   "metadata": {},
   "outputs": [],
   "source": [
    "x  = [ analyze_sentiment(tweet) for tweet in data['Tweets'] ]"
   ]
  },
  {
   "cell_type": "code",
   "execution_count": 32,
   "metadata": {},
   "outputs": [],
   "source": [
    "data['SA'] = np.array(x)"
   ]
  },
  {
   "cell_type": "code",
   "execution_count": 33,
   "metadata": {},
   "outputs": [
    {
     "data": {
      "text/html": [
       "<div>\n",
       "<style scoped>\n",
       "    .dataframe tbody tr th:only-of-type {\n",
       "        vertical-align: middle;\n",
       "    }\n",
       "\n",
       "    .dataframe tbody tr th {\n",
       "        vertical-align: top;\n",
       "    }\n",
       "\n",
       "    .dataframe thead th {\n",
       "        text-align: right;\n",
       "    }\n",
       "</style>\n",
       "<table border=\"1\" class=\"dataframe\">\n",
       "  <thead>\n",
       "    <tr style=\"text-align: right;\">\n",
       "      <th></th>\n",
       "      <th>Tweets</th>\n",
       "      <th>len</th>\n",
       "      <th>ID</th>\n",
       "      <th>Date</th>\n",
       "      <th>Source</th>\n",
       "      <th>Likes</th>\n",
       "      <th>RTs</th>\n",
       "      <th>SA</th>\n",
       "    </tr>\n",
       "  </thead>\n",
       "  <tbody>\n",
       "    <tr>\n",
       "      <th>0</th>\n",
       "      <td>RT @TeamTrump: WATCH: Republican National Conv...</td>\n",
       "      <td>114</td>\n",
       "      <td>1299165476996743176</td>\n",
       "      <td>2020-08-28</td>\n",
       "      <td>Twitter for iPhone</td>\n",
       "      <td>0</td>\n",
       "      <td>6077</td>\n",
       "      <td>0</td>\n",
       "    </tr>\n",
       "    <tr>\n",
       "      <th>11</th>\n",
       "      <td>https://t.co/RAuKRzEW9e</td>\n",
       "      <td>23</td>\n",
       "      <td>1299155621875453952</td>\n",
       "      <td>2020-08-28</td>\n",
       "      <td>Twitter for iPhone</td>\n",
       "      <td>19837</td>\n",
       "      <td>6158</td>\n",
       "      <td>0</td>\n",
       "    </tr>\n",
       "    <tr>\n",
       "      <th>19</th>\n",
       "      <td>https://t.co/XVQNptQZoQ</td>\n",
       "      <td>23</td>\n",
       "      <td>1299150878788722690</td>\n",
       "      <td>2020-08-28</td>\n",
       "      <td>Twitter for iPhone</td>\n",
       "      <td>50666</td>\n",
       "      <td>11595</td>\n",
       "      <td>0</td>\n",
       "    </tr>\n",
       "    <tr>\n",
       "      <th>18</th>\n",
       "      <td>https://t.co/0HdfZPC7JZ</td>\n",
       "      <td>23</td>\n",
       "      <td>1299150906039173122</td>\n",
       "      <td>2020-08-28</td>\n",
       "      <td>Twitter for iPhone</td>\n",
       "      <td>18647</td>\n",
       "      <td>5027</td>\n",
       "      <td>0</td>\n",
       "    </tr>\n",
       "    <tr>\n",
       "      <th>17</th>\n",
       "      <td>https://t.co/bOKlM8PwxB</td>\n",
       "      <td>23</td>\n",
       "      <td>1299150949789900802</td>\n",
       "      <td>2020-08-28</td>\n",
       "      <td>Twitter for iPhone</td>\n",
       "      <td>19261</td>\n",
       "      <td>5417</td>\n",
       "      <td>0</td>\n",
       "    </tr>\n",
       "  </tbody>\n",
       "</table>\n",
       "</div>"
      ],
      "text/plain": [
       "                                               Tweets  len  \\\n",
       "0   RT @TeamTrump: WATCH: Republican National Conv...  114   \n",
       "11                            https://t.co/RAuKRzEW9e   23   \n",
       "19                            https://t.co/XVQNptQZoQ   23   \n",
       "18                            https://t.co/0HdfZPC7JZ   23   \n",
       "17                            https://t.co/bOKlM8PwxB   23   \n",
       "\n",
       "                     ID       Date              Source  Likes    RTs  SA  \n",
       "0   1299165476996743176 2020-08-28  Twitter for iPhone      0   6077   0  \n",
       "11  1299155621875453952 2020-08-28  Twitter for iPhone  19837   6158   0  \n",
       "19  1299150878788722690 2020-08-28  Twitter for iPhone  50666  11595   0  \n",
       "18  1299150906039173122 2020-08-28  Twitter for iPhone  18647   5027   0  \n",
       "17  1299150949789900802 2020-08-28  Twitter for iPhone  19261   5417   0  "
      ]
     },
     "execution_count": 33,
     "metadata": {},
     "output_type": "execute_result"
    }
   ],
   "source": [
    "data.sort_values(by='Date',ascending=False,inplace=True)\n",
    "data.head()"
   ]
  },
  {
   "cell_type": "markdown",
   "metadata": {},
   "source": [
    "The time has to be removed from the date"
   ]
  },
  {
   "cell_type": "code",
   "execution_count": 34,
   "metadata": {},
   "outputs": [],
   "source": [
    "data['Date']=data['Date'].apply(lambda x : pd.to_datetime(pd.to_datetime(x).strftime('%Y%m%d')))"
   ]
  },
  {
   "cell_type": "code",
   "execution_count": 35,
   "metadata": {},
   "outputs": [],
   "source": [
    "df = data.groupby('Date').sum()"
   ]
  },
  {
   "cell_type": "code",
   "execution_count": 36,
   "metadata": {},
   "outputs": [
    {
     "data": {
      "text/html": [
       "<div>\n",
       "<style scoped>\n",
       "    .dataframe tbody tr th:only-of-type {\n",
       "        vertical-align: middle;\n",
       "    }\n",
       "\n",
       "    .dataframe tbody tr th {\n",
       "        vertical-align: top;\n",
       "    }\n",
       "\n",
       "    .dataframe thead th {\n",
       "        text-align: right;\n",
       "    }\n",
       "</style>\n",
       "<table border=\"1\" class=\"dataframe\">\n",
       "  <thead>\n",
       "    <tr style=\"text-align: right;\">\n",
       "      <th></th>\n",
       "      <th>len</th>\n",
       "      <th>ID</th>\n",
       "      <th>Likes</th>\n",
       "      <th>RTs</th>\n",
       "      <th>SA</th>\n",
       "    </tr>\n",
       "    <tr>\n",
       "      <th>Date</th>\n",
       "      <th></th>\n",
       "      <th></th>\n",
       "      <th></th>\n",
       "      <th></th>\n",
       "      <th></th>\n",
       "    </tr>\n",
       "  </thead>\n",
       "  <tbody>\n",
       "    <tr>\n",
       "      <th>2020-08-22</th>\n",
       "      <td>899.0</td>\n",
       "      <td>1.037835e+19</td>\n",
       "      <td>445442.0</td>\n",
       "      <td>167192.0</td>\n",
       "      <td>1.0</td>\n",
       "    </tr>\n",
       "    <tr>\n",
       "      <th>2020-08-23</th>\n",
       "      <td>1462.0</td>\n",
       "      <td>1.686778e+19</td>\n",
       "      <td>1345566.0</td>\n",
       "      <td>356156.0</td>\n",
       "      <td>3.0</td>\n",
       "    </tr>\n",
       "    <tr>\n",
       "      <th>2020-08-24</th>\n",
       "      <td>2196.0</td>\n",
       "      <td>2.725543e+19</td>\n",
       "      <td>1135135.0</td>\n",
       "      <td>493573.0</td>\n",
       "      <td>5.0</td>\n",
       "    </tr>\n",
       "    <tr>\n",
       "      <th>2020-08-25</th>\n",
       "      <td>2898.0</td>\n",
       "      <td>6.620508e+19</td>\n",
       "      <td>2826940.0</td>\n",
       "      <td>761167.0</td>\n",
       "      <td>4.0</td>\n",
       "    </tr>\n",
       "    <tr>\n",
       "      <th>2020-08-26</th>\n",
       "      <td>1762.0</td>\n",
       "      <td>5.583372e+19</td>\n",
       "      <td>2622561.0</td>\n",
       "      <td>642075.0</td>\n",
       "      <td>1.0</td>\n",
       "    </tr>\n",
       "  </tbody>\n",
       "</table>\n",
       "</div>"
      ],
      "text/plain": [
       "               len            ID      Likes       RTs   SA\n",
       "Date                                                      \n",
       "2020-08-22   899.0  1.037835e+19   445442.0  167192.0  1.0\n",
       "2020-08-23  1462.0  1.686778e+19  1345566.0  356156.0  3.0\n",
       "2020-08-24  2196.0  2.725543e+19  1135135.0  493573.0  5.0\n",
       "2020-08-25  2898.0  6.620508e+19  2826940.0  761167.0  4.0\n",
       "2020-08-26  1762.0  5.583372e+19  2622561.0  642075.0  1.0"
      ]
     },
     "execution_count": 36,
     "metadata": {},
     "output_type": "execute_result"
    }
   ],
   "source": [
    "df.head()"
   ]
  },
  {
   "cell_type": "code",
   "execution_count": 37,
   "metadata": {},
   "outputs": [],
   "source": [
    "df['mood']= df['SA'].rolling(window=5).apply(lambda x : np.sum(x))"
   ]
  },
  {
   "cell_type": "code",
   "execution_count": 38,
   "metadata": {},
   "outputs": [
    {
     "data": {
      "image/png": "[encoded data removed]",
      "text/plain": [
       "<Figure size 1008x576 with 1 Axes>"
      ]
     },
     "metadata": {
      "needs_background": "light"
     },
     "output_type": "display_data"
    }
   ],
   "source": [
    "fig = plt.subplots(1,1,figsize=(14,8))\n",
    "plt.plot(df.index,df['mood'])\n",
    "plt.title('The Mood of the President',fontsize=14);"
   ]
  },
  {
   "cell_type": "code",
   "execution_count": 39,
   "metadata": {},
   "outputs": [],
   "source": [
    "pos_tweets = [ tweet for index,tweet in enumerate(data['Tweets']) if data['SA'][index] > 0]\n",
    "neu_tweets = [ tweet for index, tweet in enumerate(data['Tweets']) if data['SA'][index] == 0]\n",
    "neg_tweets = [ tweet for index, tweet in enumerate(data['Tweets']) if data['SA'][index] < 0]"
   ]
  },
  {
   "cell_type": "code",
   "execution_count": 40,
   "metadata": {},
   "outputs": [
    {
     "name": "stdout",
     "output_type": "stream",
     "text": [
      "30\n",
      "155\n",
      "15\n"
     ]
    }
   ],
   "source": [
    "print(len(pos_tweets))\n",
    "print(len(neu_tweets))\n",
    "print(len(neg_tweets))"
   ]
  },
  {
   "cell_type": "markdown",
   "metadata": {},
   "source": [
    "<h4>Most Liked positive tweet</h4>"
   ]
  },
  {
   "cell_type": "code",
   "execution_count": 43,
   "metadata": {},
   "outputs": [
    {
     "data": {
      "text/plain": [
       "array([['Very appreciative that @CNN covered the vast majority of the Republican Convention last night. That was really good… https://t.co/s1MjsyqsZY',\n",
       "        140, 1298236091313651715, Timestamp('2020-08-25 00:00:00'),\n",
       "        'Twitter for iPhone', 228437, 35770, 1]], dtype=object)"
      ]
     },
     "execution_count": 43,
     "metadata": {},
     "output_type": "execute_result"
    }
   ],
   "source": [
    "df_positive = data[data['SA']>0].copy()\n",
    "df_positive.sort_values(by='Likes',ascending=False,inplace=True)\n",
    "df_positive.head(1).values"
   ]
  },
  {
   "cell_type": "code",
   "execution_count": 44,
   "metadata": {},
   "outputs": [
    {
     "data": {
      "text/plain": [
       "array([['Joe Biden has said he would lock down the Country again. That’s crazy! We’re having record job growth and a booming… https://t.co/OgwWPGfwXy',\n",
       "        140, 1298029780437270530, Timestamp('2020-08-24 00:00:00'),\n",
       "        'Twitter for iPhone', 240238, 47922, -1]], dtype=object)"
      ]
     },
     "execution_count": 44,
     "metadata": {},
     "output_type": "execute_result"
    }
   ],
   "source": [
    "df_negative = data[data['SA']<0].copy()\n",
    "df_negative.sort_values(by='Likes',ascending=False,inplace=True)\n",
    "df_negative.head(1).values"
   ]
  },
  {
   "cell_type": "markdown",
   "metadata": {},
   "source": [
    "<b> What about the stock market </b>"
   ]
  },
  {
   "cell_type": "code",
   "execution_count": null,
   "metadata": {},
   "outputs": [],
   "source": []
  }
 ],
 "metadata": {
  "anaconda-cloud": {},
  "kernelspec": {
   "display_name": "Python 3",
   "language": "python",
   "name": "python3"
  },
  "language_info": {
   "codemirror_mode": {
    "name": "ipython",
    "version": 3
   },
   "file_extension": ".py",
   "mimetype": "text/x-python",
   "name": "python",
   "nbconvert_exporter": "python",
   "pygments_lexer": "ipython3",
   "version": "3.6.10"
  },
  "toc": {
   "base_numbering": 1,
   "nav_menu": {},
   "number_sections": true,
   "sideBar": true,
   "skip_h1_title": false,
   "title_cell": "Table of Contents",
   "title_sidebar": "Contents",
   "toc_cell": false,
   "toc_position": {},
   "toc_section_display": true,
   "toc_window_display": false
  },
  "varInspector": {
   "cols": {
    "lenName": 16,
    "lenType": 16,
    "lenVar": 40
   },
   "kernels_config": {
    "python": {
     "delete_cmd_postfix": "",
     "delete_cmd_prefix": "del ",
     "library": "var_list.py",
     "varRefreshCmd": "print(var_dic_list())"
    },
    "r": {
     "delete_cmd_postfix": ") ",
     "delete_cmd_prefix": "rm(",
     "library": "var_list.r",
     "varRefreshCmd": "cat(var_dic_list()) "
    }
   },
   "types_to_exclude": [
    "module",
    "function",
    "builtin_function_or_method",
    "instance",
    "_Feature"
   ],
   "window_display": false
  }
 },
 "nbformat": 4,
 "nbformat_minor": 2
}

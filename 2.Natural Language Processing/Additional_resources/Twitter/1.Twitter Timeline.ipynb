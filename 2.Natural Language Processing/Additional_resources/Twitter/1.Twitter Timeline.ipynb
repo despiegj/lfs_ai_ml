{
 "cells": [
  {
   "cell_type": "code",
   "execution_count": 1,
   "metadata": {},
   "outputs": [
    {
     "name": "stdout",
     "output_type": "stream",
     "text": [
      "my API Connected !\n"
     ]
    }
   ],
   "source": [
    "%run connect_twitter.ipynb"
   ]
  },
  {
   "cell_type": "code",
   "execution_count": 2,
   "metadata": {},
   "outputs": [],
   "source": [
    "import tweepy\n",
    "import re\n",
    "import webbrowser"
   ]
  },
  {
   "cell_type": "markdown",
   "metadata": {},
   "source": [
    "Collecting the tweets. <br>\n",
    "By default 20 tweets are assembled from the time_line"
   ]
  },
  {
   "cell_type": "code",
   "execution_count": 3,
   "metadata": {},
   "outputs": [
    {
     "name": "stdout",
     "output_type": "stream",
     "text": [
      "nbr tweets: 20\n"
     ]
    }
   ],
   "source": [
    "public_tweets =  myapi.home_timeline()\n",
    "print('nbr tweets:',len(public_tweets[:]))"
   ]
  },
  {
   "cell_type": "markdown",
   "metadata": {},
   "source": [
    "Collecting URL adresses from the feed"
   ]
  },
  {
   "cell_type": "code",
   "execution_count": 4,
   "metadata": {
    "scrolled": true
   },
   "outputs": [
    {
     "name": "stdout",
     "output_type": "stream",
     "text": [
      "2020-08-26 (location:Washington, DC)\n",
      "Hurricane Laura has been officially designated a Category 4 storm. To those in Texas and Louisiana, please stay saf… https://t.co/qtqw0AYPBz \n",
      "\n",
      "2020-08-26 (location:Brussels, Belgium)\n",
      "OVERZICHT. Steeds meer gebieden op oranje en rood: naar waar mogen we nog op reis gaan? https://t.co/BDV8oAza7f https://t.co/90lKJ6J7jc \n",
      "\n",
      "2020-08-26 (location:Everywhere)\n",
      "A federal appeals court ruled that policies segregating transgender students from their peers are unconstitutional… https://t.co/yLY62396Lh \n",
      "\n",
      "2020-08-26 (location:New York, NY)\n",
      "RT @djtgallagher: Palantir wears its national security label proudly. But a government contractor may have a hard time living up to a Silic… \n",
      "\n",
      "2020-08-26 (location:New York, NY)\n",
      "Palantir could be the tech industry's next big I.P.O. But explaining what it does takes a little work https://t.co/pSqCOqfqZq \n",
      "\n"
     ]
    }
   ],
   "source": [
    "\n",
    "url_list = []\n",
    "for tweet in public_tweets[0:5]:\n",
    "    print(tweet.created_at.strftime('%Y-%m-%d') + ' (location:' + tweet.user.location + ')')\n",
    "    print(tweet.text,'\\n')\n",
    "    url = re.findall('http[s]?://(?:[a-zA-Z]|[0-9]|[$-_@.&+]|[!*\\(\\),]|(?:%[0-9a-fA-F][0-9a-fA-F]))+', tweet.text)\n",
    "    if url!=[]:\n",
    "        url_list.append(url)"
   ]
  },
  {
   "cell_type": "code",
   "execution_count": 5,
   "metadata": {},
   "outputs": [
    {
     "data": {
      "text/plain": [
       "[['https://t.co/qtqw0AYPBz'],\n",
       " ['https://t.co/BDV8oAza7f', 'https://t.co/90lKJ6J7jc'],\n",
       " ['https://t.co/yLY62396Lh'],\n",
       " ['https://t.co/pSqCOqfqZq']]"
      ]
     },
     "execution_count": 5,
     "metadata": {},
     "output_type": "execute_result"
    }
   ],
   "source": [
    "url_list"
   ]
  },
  {
   "cell_type": "markdown",
   "metadata": {},
   "source": [
    "Open up the first webpage in the list:"
   ]
  },
  {
   "cell_type": "code",
   "execution_count": 6,
   "metadata": {},
   "outputs": [
    {
     "data": {
      "text/plain": [
       "True"
      ]
     },
     "execution_count": 6,
     "metadata": {},
     "output_type": "execute_result"
    }
   ],
   "source": [
    "webbrowser.open(url_list[0][0])"
   ]
  },
  {
   "cell_type": "code",
   "execution_count": null,
   "metadata": {},
   "outputs": [],
   "source": []
  }
 ],
 "metadata": {
  "anaconda-cloud": {},
  "kernelspec": {
   "display_name": "Python 3",
   "language": "python",
   "name": "python3"
  },
  "language_info": {
   "codemirror_mode": {
    "name": "ipython",
    "version": 3
   },
   "file_extension": ".py",
   "mimetype": "text/x-python",
   "name": "python",
   "nbconvert_exporter": "python",
   "pygments_lexer": "ipython3",
   "version": "3.6.10"
  },
  "toc": {
   "base_numbering": 1,
   "nav_menu": {},
   "number_sections": true,
   "sideBar": true,
   "skip_h1_title": false,
   "title_cell": "Table of Contents",
   "title_sidebar": "Contents",
   "toc_cell": false,
   "toc_position": {},
   "toc_section_display": true,
   "toc_window_display": false
  },
  "varInspector": {
   "cols": {
    "lenName": 16,
    "lenType": 16,
    "lenVar": 40
   },
   "kernels_config": {
    "python": {
     "delete_cmd_postfix": "",
     "delete_cmd_prefix": "del ",
     "library": "var_list.py",
     "varRefreshCmd": "print(var_dic_list())"
    },
    "r": {
     "delete_cmd_postfix": ") ",
     "delete_cmd_prefix": "rm(",
     "library": "var_list.r",
     "varRefreshCmd": "cat(var_dic_list()) "
    }
   },
   "types_to_exclude": [
    "module",
    "function",
    "builtin_function_or_method",
    "instance",
    "_Feature"
   ],
   "window_display": false
  }
 },
 "nbformat": 4,
 "nbformat_minor": 2
}

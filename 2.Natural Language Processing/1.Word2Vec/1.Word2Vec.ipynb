{
 "cells": [
  {
   "cell_type": "markdown",
   "metadata": {},
   "source": [
    "# NLP: Word2Vec\n",
    "\n",
    "**Word2vec** cosists of training a neural network to  store \"most\" of the important information in a fixed, smaller number of dimensions: **a vector encoding**.\n",
    "\n",
    "* It detects similarities mathematically\n",
    "* Creates vectors that are distributed numerical representations of word features\n",
    "* Uses features such as the context of individual words\n",
    "* It does so without human intervention\n",
    "* Given enough data, usage and contexts, Word2vec can make highly accurate guesses about a word’s meaning."
   ]
  },
  {
   "cell_type": "markdown",
   "metadata": {},
   "source": [
    "### 1. Import the necessary packages"
   ]
  },
  {
   "cell_type": "code",
   "execution_count": 1,
   "metadata": {},
   "outputs": [],
   "source": [
    "from nltk.tokenize import sent_tokenize, word_tokenize \n",
    "import warnings \n",
    "\n",
    "warnings.filterwarnings(action = 'ignore') \n",
    "import gensim \n",
    "from gensim.models import Word2Vec \n",
    "import numpy as np"
   ]
  },
  {
   "cell_type": "markdown",
   "metadata": {},
   "source": [
    "### 2. Define the text to analyse"
   ]
  },
  {
   "cell_type": "code",
   "execution_count": 2,
   "metadata": {},
   "outputs": [],
   "source": [
    "text = \"\"\"Nobody knows for certain what the world will look like in the aftermath of the COVID-19 pandemic that\n",
    "has claimed and upended so many lives. One thing that is certain is that the pandemic has already impacted \n",
    "the way people work, live, and assess their finances. As a company founded in the wake of the 2008 financial crisis,\n",
    "we know market turbulence is an inevitable part of a long-term investment strategy. But we also understand that \n",
    "that doesn’t make ups and downs any easier, and the emotional wear and tear of COVID can make rocky markets all \n",
    "the more challenging to stomach. In the first report of a three-part series, Betterment examines how the COVID-19 \n",
    "crisis has and will continue to impact investors through their financial security, spending habits, and reactions \n",
    "to the market turbulence. Over the course of the next few months, we’ll be continuing to measure ongoing reactions \n",
    "and sentiment shifts as investors adjust to a changing economic environment.\n",
    "An online survey was conducted with a panel of potential respondents. The recruitment period was April 14 to April 16,\n",
    "2020. A total of 5,005 respondents living in the United States, who are invested in the markets completed the survey.\n",
    "The sample was provided by Market Cube, a research panel company. Panel respondents were invited to take the \n",
    "survey via an email invitation and were incentivized to participate via the panel’s established points program.\n",
    "Has your income been directly impacted by COVID-19? COVID-19 has had an immediate impact on investors’ \n",
    "financial security and confidence. More than half (54%) of all respondents had their income directly impacted \n",
    "as a result of COVID-19 and three-quarters said they are at least somewhat more stressed due to COVID-19 when \n",
    "it comes to their financial position and outlook. Has your income been directly impacted by COVID-19?\n",
    "A pie chart that demonstrates how income has been affected during the coronavirus. Over a third of investors \n",
    "(34%) indicated they did not come into the COVID-19 pandemic with a sufficient emergency fund (i.e. three to six \n",
    "months of expenses in savings built up). Betterment, and most financial advisors, recommend having at least three \n",
    "months of expenses saved in a fund.\n",
    "Top income impacts of COVID-19 across all investors. A good deal of unease around the pandemic stems from the unknown,\n",
    "and the inability to plan for or know what’s next. Most investors reported some form of increased uncertainty in \n",
    "their financial situation: more than half (52%) of respondents believe they’ll need to tap into their long-term \n",
    "savings in a year or less and 43% believe it will take six months or longer to recover financially from the financial \n",
    "impacts of the pandemic. As a direct result of COVID-19, 18% of respondents have stopped saving and 21% have \n",
    "withdrawn from their savings account to cover regular expenses. On the left-hand side, the statistic says \"18% \n",
    "of respondents have stopped savings.\" One the right-hand side, the statistic says \"21% have withdrawn from their \n",
    "savings.\" Pay cuts, furloughs, layoffs, and other income losses disproportionately impacted younger generations.\n",
    "Two graphs showing the generational impact from covid-19, those who lost their jobs and those who took a pay cut \n",
    "as a result of COVID-19's financial impact. How do investors plan to spend their stimulus checks?\n",
    "Investors who expected to receive a federal stimulus check indicated a variety of ways they planned to use that \n",
    "money:  ",
    "27% planned to use their stimulus check to cover rent and/or utility bills, 28% planned to use it to pay \n",
    "off debt, and 41% planned to put their stimulus check into a safety net fund.\n",
    "Traditionally, our advice is to put away any windfall into savings, like an emergency fund (after basic expenses \n",
    "and high-interest debt are covered), and 41% of investors did exactly that. But the purpose of the stimulus checks\n",
    "was to relieve short-term financial pressures and stimulate the economy through spending. While helpful, a one-time\n",
    "check is not enough to ease fears and create the “shot-in-the-arm” to the economy it’s intended to; the checks may \n",
    "not have reached their desired destination with the 41% of savers and 13% of other investors who stashed their cash \n",
    "for another day. In response to COVID-19’s impact on the market, 20% of investors surveyed report that they \n",
    "took money out of the market. When asked to select all the reasons they did so, investors were equally likely\n",
    "to select “to cover bills/necessary payments” as they were to select “to keep money safe from further losses,”\n",
    "showing these sell-offs are not primarily need-based, but also fear-based.\n",
    "Have you taken money out of the market in the last few weeks (March to mid-April)?\n",
    "A pie chart demonstrating how the majority of people have not taken money out of the market in the past few weeks.\n",
    "When do you plan to reinvest the money you took out?\n",
    "There are four percentages. On the upper left-hand side, it says \"48th say they will only reivest when the\n",
    "market either is fully corrected or begins to correct.\" The bottom left-hand statistic says \"7% unsure/other,\"\n",
    "the upper right-hand side says \"39% of those that pulled out will reinvest when they're financial secure again,\"\n",
    "and the last statistic says \"6% have no plans to reinvest at all.\"\n",
    "While we’re glad to see that the large majority of investors haven’t taken their money out of the market, we’d\n",
    "still like to see that 20% be closer to 0% (the exception being pulling from an invested safety net fund). \n",
    "Historically, downturns tend to have a temporary impact on economies and markets. The average bear market period\n",
    "lasted 1.4 years with an average cumulative loss of -41%, while the average bull market period lasted 9.1 years \n",
    "with an average cumulative return of 476%. Feeling some level of anxiety when the market drops is only natural, \n",
    "but investors who react by pulling money out of the market might be doing themselves a disservice in the long-run\n",
    "by costing themselves gains by waiting for the market to recover.\n",
    "“As a result of the pandemic and financial fallout, 26% of respondents said they will switch financial institutions,\n",
    "or are not sure they will stay at their current institution.”\n",
    "Nearly half (47%) of the investors we surveyed reported that they were also investing during the crash of 2008,\n",
    "indicating that they are now investing through their second “once-in-a-lifetime” global financial crisis.\n",
    "With that, we took a look at how investors who have been through a downturn reacted versus newer investors.\n",
    "Six data points showing a comparison of investor behaviour between new investors and those who went through\n",
    "the financial crisis.\"\"\""
   ]
  },
  {
   "cell_type": "code",
   "execution_count": 3,
   "metadata": {},
   "outputs": [],
   "source": [
    "# Replaces escape character with space \n",
    "text = text.replace(\"\\n\", \" \") "
   ]
  },
  {
   "cell_type": "markdown",
   "metadata": {},
   "source": [
    "### 3. Tokenize the text"
   ]
  },
  {
   "cell_type": "code",
   "execution_count": 4,
   "metadata": {},
   "outputs": [],
   "source": [
    "data = [] \n",
    "  \n",
    "# iterate through each sentence in the file \n",
    "for i in sent_tokenize(text): \n",
    "    temp = [] \n",
    "      \n",
    "    # tokenize the sentence into words \n",
    "    for j in word_tokenize(i): \n",
    "        temp.append(j.lower()) \n",
    "  \n",
    "    data.append(temp) "
   ]
  },
  {
   "cell_type": "code",
   "execution_count": 5,
   "metadata": {},
   "outputs": [
    {
     "data": {
      "text/plain": [
       "['nobody',\n",
       " 'knows',\n",
       " 'for',\n",
       " 'certain',\n",
       " 'what',\n",
       " 'the',\n",
       " 'world',\n",
       " 'will',\n",
       " 'look',\n",
       " 'like',\n",
       " 'in',\n",
       " 'the',\n",
       " 'aftermath',\n",
       " 'of',\n",
       " 'the',\n",
       " 'covid-19',\n",
       " 'pandemic',\n",
       " 'that',\n",
       " 'has',\n",
       " 'claimed',\n",
       " 'and',\n",
       " 'upended',\n",
       " 'so',\n",
       " 'many',\n",
       " 'lives',\n",
       " '.']"
      ]
     },
     "execution_count": 5,
     "metadata": {},
     "output_type": "execute_result"
    }
   ],
   "source": [
    "data[0]"
   ]
  },
  {
   "cell_type": "markdown",
   "metadata": {},
   "source": [
    "### 3. Train the word2vec model"
   ]
  },
  {
   "cell_type": "code",
   "execution_count": 6,
   "metadata": {},
   "outputs": [],
   "source": [
    "# size represents the size of the vector embedings that we will use\n",
    "# window is the amount of words in the vicinity that well take into account\n",
    "model1 = gensim.models.Word2Vec(data, min_count = 1, size = 100, window = 5) "
   ]
  },
  {
   "cell_type": "markdown",
   "metadata": {},
   "source": [
    "### 4. Evaluate word differences according to our model"
   ]
  },
  {
   "cell_type": "code",
   "execution_count": 7,
   "metadata": {},
   "outputs": [
    {
     "name": "stdout",
     "output_type": "stream",
     "text": [
      "Cosine similarity between 'markets' and 'money':  0.0007011285\n"
     ]
    }
   ],
   "source": [
    "print(\"Cosine similarity between 'markets' \" + \n",
    "               \"and 'money': \", \n",
    "    model1.similarity('markets', 'money'))  "
   ]
  },
  {
   "cell_type": "code",
   "execution_count": 8,
   "metadata": {},
   "outputs": [
    {
     "name": "stdout",
     "output_type": "stream",
     "text": [
      "Cosine similarity between 'markets' and 'environment':  -0.124752864\n"
     ]
    }
   ],
   "source": [
    "print(\"Cosine similarity between 'markets' \" + \n",
    "               \"and 'environment': \", \n",
    "    model1.similarity('markets', 'environment'))  "
   ]
  },
  {
   "cell_type": "markdown",
   "metadata": {},
   "source": [
    "### 5. Plotting the result of the model"
   ]
  },
  {
   "cell_type": "markdown",
   "metadata": {},
   "source": [
    "#### 5.1 Extract the vectors created by our model"
   ]
  },
  {
   "cell_type": "markdown",
   "metadata": {},
   "source": [
    "We can retrieve all of the vectors from a trained model as follows:"
   ]
  },
  {
   "cell_type": "code",
   "execution_count": 9,
   "metadata": {},
   "outputs": [],
   "source": [
    "X = model1[model1.wv.vocab]"
   ]
  },
  {
   "cell_type": "markdown",
   "metadata": {},
   "source": [
    "#### 5.2 Reduce the dimentionality to plot in a 2D space"
   ]
  },
  {
   "cell_type": "markdown",
   "metadata": {},
   "source": [
    "To plot the results in a 2D graph we first neet to make a dimentionality reduction, since we are working with vectors of size 100 we need to reduce them to only two dimentions. We will use PCA for this task"
   ]
  },
  {
   "cell_type": "code",
   "execution_count": 13,
   "metadata": {},
   "outputs": [],
   "source": [
    "from sklearn.decomposition import PCA\n",
    "# we will need the plotting libraries as well\n",
    "from matplotlib import pyplot as plt\n",
    "import seaborn as sns\n",
    "sns.set()"
   ]
  },
  {
   "cell_type": "code",
   "execution_count": 14,
   "metadata": {},
   "outputs": [],
   "source": [
    "pca = PCA(n_components=2)\n",
    "result = pca.fit_transform(X)"
   ]
  },
  {
   "cell_type": "markdown",
   "metadata": {},
   "source": [
    "#### 5.3 Plot the results"
   ]
  },
  {
   "cell_type": "code",
   "execution_count": 16,
   "metadata": {},
   "outputs": [
    {
     "data": {
      "image/png": "[encoded data removed]",
      "text/plain": [
       "<Figure size 360x360 with 1 Axes>"
      ]
     },
     "metadata": {},
     "output_type": "display_data"
    }
   ],
   "source": [
    "# Pick the words to plot\n",
    "plt.figure(figsize=(5,5))\n",
    "words = np.array(list(model1.wv.vocab))\n",
    "\n",
    "idx = np.where(np.isin(words, ['market', 'investors', 'money', 'crisis', 'pandemic','financial',\n",
    "                              'savings', 'expenses' ]))[0]\n",
    "\n",
    "plt.scatter(result[idx, 0], result[idx, 1])\n",
    "\n",
    "for i, word in zip(idx,words[idx]):\n",
    "    plt.annotate(word, xy=(result[i, 0], result[i, 1]))"
   ]
  },
  {
   "cell_type": "code",
   "execution_count": null,
   "metadata": {},
   "outputs": [],
   "source": []
  }
 ],
 "metadata": {
  "kernelspec": {
   "display_name": "Python 3",
   "language": "python",
   "name": "python3"
  },
  "language_info": {
   "codemirror_mode": {
    "name": "ipython",
    "version": 3
   },
   "file_extension": ".py",
   "mimetype": "text/x-python",
   "name": "python",
   "nbconvert_exporter": "python",
   "pygments_lexer": "ipython3",
   "version": "3.6.10"
  },
  "toc": {
   "base_numbering": 1,
   "nav_menu": {},
   "number_sections": true,
   "sideBar": true,
   "skip_h1_title": false,
   "title_cell": "Table of Contents",
   "title_sidebar": "Contents",
   "toc_cell": false,
   "toc_position": {},
   "toc_section_display": true,
   "toc_window_display": false
  },
  "varInspector": {
   "cols": {
    "lenName": 16,
    "lenType": 16,
    "lenVar": 40
   },
   "kernels_config": {
    "python": {
     "delete_cmd_postfix": "",
     "delete_cmd_prefix": "del ",
     "library": "var_list.py",
     "varRefreshCmd": "print(var_dic_list())"
    },
    "r": {
     "delete_cmd_postfix": ") ",
     "delete_cmd_prefix": "rm(",
     "library": "var_list.r",
     "varRefreshCmd": "cat(var_dic_list()) "
    }
   },
   "types_to_exclude": [
    "module",
    "function",
    "builtin_function_or_method",
    "instance",
    "_Feature"
   ],
   "window_display": false
  }
 },
 "nbformat": 4,
 "nbformat_minor": 4
}

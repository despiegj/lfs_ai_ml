{
 "cells": [
  {
   "cell_type": "markdown",
   "metadata": {},
   "source": [
    "# NLP: REGEX\n",
    "\n",
    "## What are regular expression?\n",
    "\n",
    "* Strings with a special syntax\n",
    "* Allowing us to match patterns in other strings\n",
    "\n",
    "## Applications of regular expressions:\n",
    "\n",
    "* Find all web links in a document\n",
    "* Remove unwanted characters\n",
    "* Find email addresses in the text\n",
    "* $\\ldots$"
   ]
  },
  {
   "cell_type": "markdown",
   "metadata": {},
   "source": [
    "### 1. Make the necessary imports"
   ]
  },
  {
   "cell_type": "code",
   "execution_count": 2,
   "metadata": {},
   "outputs": [],
   "source": [
    "import re"
   ]
  },
  {
   "cell_type": "markdown",
   "metadata": {},
   "source": [
    "### 2. Define a pattern to match digits and words"
   ]
  },
  {
   "cell_type": "markdown",
   "metadata": {},
   "source": [
    "Matches words or digits. Note that with the pattern below, the punctuations are not taken into account\n",
    "   "
   ]
  },
  {
   "cell_type": "code",
   "execution_count": 3,
   "metadata": {},
   "outputs": [],
   "source": [
    "match_digits_and_words = ('(\\d+|\\w+)')"
   ]
  },
  {
   "cell_type": "markdown",
   "metadata": {},
   "source": [
    "### 3. Find all the occurrences of that patern"
   ]
  },
  {
   "cell_type": "code",
   "execution_count": 5,
   "metadata": {},
   "outputs": [
    {
     "data": {
      "text/plain": [
       "['I', 'am', '52', 'years', 'of', 'age']"
      ]
     },
     "execution_count": 5,
     "metadata": {},
     "output_type": "execute_result"
    }
   ],
   "source": [
    "# find \"all\" coincidences of the pattern\n",
    "re.findall(match_digits_and_words, \" I am 52, years of age\")"
   ]
  },
  {
   "cell_type": "markdown",
   "metadata": {},
   "source": [
    "### Groups:\n",
    "\n",
    "* use () - brackets <br>\n",
    "\n",
    "### Ranges:\n",
    "\n",
    "* use [] - brackets <br>\n",
    "\n",
    "#### For example : \n",
    "(a-z)+ : means character a and z <br>\n",
    "[a-zA-Z]+ : means any character\n"
   ]
  },
  {
   "cell_type": "code",
   "execution_count": 4,
   "metadata": {},
   "outputs": [
    {
     "name": "stdout",
     "output_type": "stream",
     "text": [
      "None\n",
      "['Hello', 'a', 'group', 'is', 'called', 'zz', 'top']\n"
     ]
    }
   ],
   "source": [
    "pattern_group ='(a-z)'\n",
    "pattern_range = '[a-zA-Z]+'\n",
    "sentence = 'Hello, a group is called zz top'\n",
    "\n",
    "print(re.search(pattern_group,sentence))\n",
    "print(re.findall(pattern_range,sentence))"
   ]
  },
  {
   "cell_type": "markdown",
   "metadata": {},
   "source": [
    "### 4. Try other Regex functions\n",
    "\n",
    "The re-module has 4 main functions:\n",
    "* **split**: split a string on regex\n",
    "* **findall**: find all patterns in a string\n",
    "* **search**: search for a pattern\n",
    "* **match**: match an entire string or substring based on a pattern\n",
    "\n",
    "\n",
    "The usage is always: _<function>(pattern, text)_\n",
    "    \n",
    "For example :"
   ]
  },
  {
   "cell_type": "code",
   "execution_count": 6,
   "metadata": {},
   "outputs": [
    {
     "data": {
      "text/plain": [
       "['Split', 'on', 'spaces.']"
      ]
     },
     "execution_count": 6,
     "metadata": {},
     "output_type": "execute_result"
    }
   ],
   "source": [
    "re.split('\\s+', 'Split on spaces.')"
   ]
  },
  {
   "cell_type": "markdown",
   "metadata": {},
   "source": [
    "### 5. Exercise : Find all the capital words in a text"
   ]
  },
  {
   "cell_type": "code",
   "execution_count": 7,
   "metadata": {},
   "outputs": [
    {
     "data": {
      "text/plain": [
       "['What', 'Words', 'Here']"
      ]
     },
     "execution_count": 7,
     "metadata": {},
     "output_type": "execute_result"
    }
   ],
   "source": [
    "txt_string = 'What are the capital Words, in Here ?'\n",
    "re.findall('[A-Z]\\w+',txt_string)"
   ]
  }
 ],
 "metadata": {
  "anaconda-cloud": {},
  "kernelspec": {
   "display_name": "Python 3",
   "language": "python",
   "name": "python3"
  },
  "language_info": {
   "codemirror_mode": {
    "name": "ipython",
    "version": 3
   },
   "file_extension": ".py",
   "mimetype": "text/x-python",
   "name": "python",
   "nbconvert_exporter": "python",
   "pygments_lexer": "ipython3",
   "version": "3.6.5"
  },
  "toc": {
   "base_numbering": 1,
   "nav_menu": {},
   "number_sections": true,
   "sideBar": true,
   "skip_h1_title": false,
   "title_cell": "Table of Contents",
   "title_sidebar": "Contents",
   "toc_cell": false,
   "toc_position": {},
   "toc_section_display": true,
   "toc_window_display": false
  },
  "varInspector": {
   "cols": {
    "lenName": 16,
    "lenType": 16,
    "lenVar": 40
   },
   "kernels_config": {
    "python": {
     "delete_cmd_postfix": "",
     "delete_cmd_prefix": "del ",
     "library": "var_list.py",
     "varRefreshCmd": "print(var_dic_list())"
    },
    "r": {
     "delete_cmd_postfix": ") ",
     "delete_cmd_prefix": "rm(",
     "library": "var_list.r",
     "varRefreshCmd": "cat(var_dic_list()) "
    }
   },
   "types_to_exclude": [
    "module",
    "function",
    "builtin_function_or_method",
    "instance",
    "_Feature"
   ],
   "window_display": false
  }
 },
 "nbformat": 4,
 "nbformat_minor": 1
}

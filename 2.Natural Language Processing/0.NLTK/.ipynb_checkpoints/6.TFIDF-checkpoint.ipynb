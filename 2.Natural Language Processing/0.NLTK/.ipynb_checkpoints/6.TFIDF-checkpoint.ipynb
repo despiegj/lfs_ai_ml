{
 "cells": [
  {
   "cell_type": "markdown",
   "metadata": {},
   "source": [
    "### NLP: TF-IDF\n",
    "\n",
    "\n",
    "Stands for **T**erm **F**requency- **I**nverse **D**ocument **F**requency. It is a numerical statistic that reflects how important a word is to a document. The tf-idf value increases proportionally to the number of times a word appears in the document, _but_ is offset by the frequency of the word in the corpus.\n",
    "\n",
    "\n",
    "An article on option pricing will use the word \"volatility\" a lot. When the same word \"volatility\" appears in bloomberg message on a particular equity, it has a different sentiment.\n",
    "\n",
    "In this example we illustrate the how a <b>tfid</b> is constructed for a given sentence / document."
   ]
  },
  {
   "cell_type": "code",
   "execution_count": 1,
   "metadata": {},
   "outputs": [],
   "source": [
    "import matplotlib.pyplot as plt\n",
    "%matplotlib inline\n",
    "import seaborn as sns\n",
    "sns.set()\n",
    "from textblob import TextBlob\n",
    "import math"
   ]
  },
  {
   "cell_type": "markdown",
   "metadata": {},
   "source": [
    "Define the term frequency"
   ]
  },
  {
   "cell_type": "code",
   "execution_count": 28,
   "metadata": {},
   "outputs": [],
   "source": [
    "def tf(word, blob):\n",
    "       return blob.words.count(word) / len(blob.words)"
   ]
  },
  {
   "cell_type": "markdown",
   "metadata": {},
   "source": [
    "Define the number of words in a bloblist"
   ]
  },
  {
   "cell_type": "code",
   "execution_count": 29,
   "metadata": {},
   "outputs": [],
   "source": [
    "def n_containing(word, bloblist):\n",
    "    return 1 + sum(1 for blob in bloblist if word in blob)"
   ]
  },
  {
   "cell_type": "markdown",
   "metadata": {},
   "source": [
    "Calculate the inverse document frequency"
   ]
  },
  {
   "cell_type": "code",
   "execution_count": 30,
   "metadata": {},
   "outputs": [],
   "source": [
    "def idf(word, bloblist):\n",
    "    x = n_containing(word, bloblist)\n",
    "    return math.log(len(bloblist) / (x if x else 1))"
   ]
  },
  {
   "cell_type": "markdown",
   "metadata": {},
   "source": [
    "Calculate the tfidf"
   ]
  },
  {
   "cell_type": "code",
   "execution_count": 31,
   "metadata": {},
   "outputs": [],
   "source": [
    "def tfidf(word, blob, bloblist):\n",
    "    return tf(word, blob) * idf(word, bloblist)"
   ]
  },
  {
   "cell_type": "code",
   "execution_count": 60,
   "metadata": {},
   "outputs": [
    {
     "name": "stdout",
     "output_type": "stream",
     "text": [
      "tf score for word short--- 0.1\n",
      "\n",
      "idf score for word short--- 0.6931471805599453\n",
      "\n",
      "tf x idf score of word short--- 0.06931471805599453\n"
     ]
    }
   ],
   "source": [
    "text = 'tf idf, short form of term frequency, inverse document frequency'\n",
    "text2 = 'is a numerical statistic that is intended to reflect how important'\n",
    "text3 = 'a word is to a document in a collection or corpus'\n",
    "text4 = 'a word is to a nice document in a collection of a corpus'\n",
    "\n",
    "blob = TextBlob(text)\n",
    "blob2 = TextBlob(text2)\n",
    "blob3 = TextBlob(text3)\n",
    "blob4 = TextBlob(text4)\n",
    "bloblist = [blob, blob2, blob3,blob4]\n",
    "tf_score = tf('short', blob)\n",
    "idf_score = idf('short', bloblist)\n",
    "tfidf_score = tfidf('short', blob, bloblist)\n",
    "print(\"tf score for word short--- \"+ str(tf_score)+\"\\n\")\n",
    "print(\"idf score for word short--- \"+ str(idf_score)+\"\\n\")\n",
    "print(\"tf x idf score of word short--- \"+str(tfidf_score))"
   ]
  },
  {
   "cell_type": "markdown",
   "metadata": {},
   "source": [
    "### SKLearn also has its TFIDF:\n"
   ]
  },
  {
   "cell_type": "code",
   "execution_count": 44,
   "metadata": {},
   "outputs": [],
   "source": [
    "from sklearn.feature_extraction.text import TfidfVectorizer"
   ]
  },
  {
   "cell_type": "code",
   "execution_count": 61,
   "metadata": {},
   "outputs": [],
   "source": [
    "corpus = [s.raw for s in bloblist]"
   ]
  },
  {
   "cell_type": "code",
   "execution_count": 62,
   "metadata": {},
   "outputs": [],
   "source": [
    "vectorizer = TfidfVectorizer()\n",
    "X = vectorizer.fit_transform(corpus)"
   ]
  },
  {
   "cell_type": "code",
   "execution_count": 63,
   "metadata": {},
   "outputs": [
    {
     "name": "stdout",
     "output_type": "stream",
     "text": [
      "['collection', 'corpus', 'document', 'form', 'frequency', 'how', 'idf', 'important', 'in', 'intended', 'inverse', 'is', 'nice', 'numerical', 'of', 'or', 'reflect', 'short', 'statistic', 'term', 'tf', 'that', 'to', 'word']\n"
     ]
    }
   ],
   "source": [
    "print(vectorizer.get_feature_names())"
   ]
  },
  {
   "cell_type": "markdown",
   "metadata": {},
   "source": [
    "The shape of the vector X allows you to trace back the number of lines in the text and the number of words which are to be vectorized"
   ]
  },
  {
   "cell_type": "code",
   "execution_count": 64,
   "metadata": {},
   "outputs": [
    {
     "name": "stdout",
     "output_type": "stream",
     "text": [
      "(4, 24)\n"
     ]
    }
   ],
   "source": [
    "print(X.shape)"
   ]
  },
  {
   "cell_type": "code",
   "execution_count": 65,
   "metadata": {},
   "outputs": [],
   "source": [
    "import pandas as pd"
   ]
  },
  {
   "cell_type": "code",
   "execution_count": 66,
   "metadata": {},
   "outputs": [],
   "source": [
    "df = pd.DataFrame(X.todense())\n",
    "c = np.array(vectorizer.get_feature_names())\n",
    "df.columns = c"
   ]
  },
  {
   "cell_type": "code",
   "execution_count": 67,
   "metadata": {},
   "outputs": [
    {
     "data": {
      "text/html": [
       "<div>\n",
       "<style scoped>\n",
       "    .dataframe tbody tr th:only-of-type {\n",
       "        vertical-align: middle;\n",
       "    }\n",
       "\n",
       "    .dataframe tbody tr th {\n",
       "        vertical-align: top;\n",
       "    }\n",
       "\n",
       "    .dataframe thead th {\n",
       "        text-align: right;\n",
       "    }\n",
       "</style>\n",
       "<table border=\"1\" class=\"dataframe\">\n",
       "  <thead>\n",
       "    <tr style=\"text-align: right;\">\n",
       "      <th></th>\n",
       "      <th>collection</th>\n",
       "      <th>corpus</th>\n",
       "      <th>document</th>\n",
       "      <th>form</th>\n",
       "      <th>frequency</th>\n",
       "      <th>how</th>\n",
       "      <th>idf</th>\n",
       "      <th>important</th>\n",
       "      <th>in</th>\n",
       "      <th>intended</th>\n",
       "      <th>...</th>\n",
       "      <th>of</th>\n",
       "      <th>or</th>\n",
       "      <th>reflect</th>\n",
       "      <th>short</th>\n",
       "      <th>statistic</th>\n",
       "      <th>term</th>\n",
       "      <th>tf</th>\n",
       "      <th>that</th>\n",
       "      <th>to</th>\n",
       "      <th>word</th>\n",
       "    </tr>\n",
       "  </thead>\n",
       "  <tbody>\n",
       "    <tr>\n",
       "      <th>0</th>\n",
       "      <td>0.000000</td>\n",
       "      <td>0.000000</td>\n",
       "      <td>0.192198</td>\n",
       "      <td>0.301115</td>\n",
       "      <td>0.602229</td>\n",
       "      <td>0.000000</td>\n",
       "      <td>0.301115</td>\n",
       "      <td>0.000000</td>\n",
       "      <td>0.000000</td>\n",
       "      <td>0.000000</td>\n",
       "      <td>...</td>\n",
       "      <td>0.237402</td>\n",
       "      <td>0.000000</td>\n",
       "      <td>0.000000</td>\n",
       "      <td>0.301115</td>\n",
       "      <td>0.000000</td>\n",
       "      <td>0.301115</td>\n",
       "      <td>0.301115</td>\n",
       "      <td>0.000000</td>\n",
       "      <td>0.000000</td>\n",
       "      <td>0.000000</td>\n",
       "    </tr>\n",
       "    <tr>\n",
       "      <th>1</th>\n",
       "      <td>0.000000</td>\n",
       "      <td>0.000000</td>\n",
       "      <td>0.000000</td>\n",
       "      <td>0.000000</td>\n",
       "      <td>0.000000</td>\n",
       "      <td>0.332649</td>\n",
       "      <td>0.000000</td>\n",
       "      <td>0.332649</td>\n",
       "      <td>0.000000</td>\n",
       "      <td>0.332649</td>\n",
       "      <td>...</td>\n",
       "      <td>0.000000</td>\n",
       "      <td>0.000000</td>\n",
       "      <td>0.332649</td>\n",
       "      <td>0.000000</td>\n",
       "      <td>0.332649</td>\n",
       "      <td>0.000000</td>\n",
       "      <td>0.000000</td>\n",
       "      <td>0.332649</td>\n",
       "      <td>0.212326</td>\n",
       "      <td>0.000000</td>\n",
       "    </tr>\n",
       "    <tr>\n",
       "      <th>2</th>\n",
       "      <td>0.363335</td>\n",
       "      <td>0.363335</td>\n",
       "      <td>0.294151</td>\n",
       "      <td>0.000000</td>\n",
       "      <td>0.000000</td>\n",
       "      <td>0.000000</td>\n",
       "      <td>0.000000</td>\n",
       "      <td>0.000000</td>\n",
       "      <td>0.363335</td>\n",
       "      <td>0.000000</td>\n",
       "      <td>...</td>\n",
       "      <td>0.000000</td>\n",
       "      <td>0.460844</td>\n",
       "      <td>0.000000</td>\n",
       "      <td>0.000000</td>\n",
       "      <td>0.000000</td>\n",
       "      <td>0.000000</td>\n",
       "      <td>0.000000</td>\n",
       "      <td>0.000000</td>\n",
       "      <td>0.294151</td>\n",
       "      <td>0.363335</td>\n",
       "    </tr>\n",
       "    <tr>\n",
       "      <th>3</th>\n",
       "      <td>0.341493</td>\n",
       "      <td>0.341493</td>\n",
       "      <td>0.276468</td>\n",
       "      <td>0.000000</td>\n",
       "      <td>0.000000</td>\n",
       "      <td>0.000000</td>\n",
       "      <td>0.000000</td>\n",
       "      <td>0.000000</td>\n",
       "      <td>0.341493</td>\n",
       "      <td>0.000000</td>\n",
       "      <td>...</td>\n",
       "      <td>0.341493</td>\n",
       "      <td>0.000000</td>\n",
       "      <td>0.000000</td>\n",
       "      <td>0.000000</td>\n",
       "      <td>0.000000</td>\n",
       "      <td>0.000000</td>\n",
       "      <td>0.000000</td>\n",
       "      <td>0.000000</td>\n",
       "      <td>0.276468</td>\n",
       "      <td>0.341493</td>\n",
       "    </tr>\n",
       "  </tbody>\n",
       "</table>\n",
       "<p>4 rows × 24 columns</p>\n",
       "</div>"
      ],
      "text/plain": [
       "   collection    corpus  document      form  frequency       how       idf  \\\n",
       "0    0.000000  0.000000  0.192198  0.301115   0.602229  0.000000  0.301115   \n",
       "1    0.000000  0.000000  0.000000  0.000000   0.000000  0.332649  0.000000   \n",
       "2    0.363335  0.363335  0.294151  0.000000   0.000000  0.000000  0.000000   \n",
       "3    0.341493  0.341493  0.276468  0.000000   0.000000  0.000000  0.000000   \n",
       "\n",
       "   important        in  intended  ...        of        or   reflect     short  \\\n",
       "0   0.000000  0.000000  0.000000  ...  0.237402  0.000000  0.000000  0.301115   \n",
       "1   0.332649  0.000000  0.332649  ...  0.000000  0.000000  0.332649  0.000000   \n",
       "2   0.000000  0.363335  0.000000  ...  0.000000  0.460844  0.000000  0.000000   \n",
       "3   0.000000  0.341493  0.000000  ...  0.341493  0.000000  0.000000  0.000000   \n",
       "\n",
       "   statistic      term        tf      that        to      word  \n",
       "0   0.000000  0.301115  0.301115  0.000000  0.000000  0.000000  \n",
       "1   0.332649  0.000000  0.000000  0.332649  0.212326  0.000000  \n",
       "2   0.000000  0.000000  0.000000  0.000000  0.294151  0.363335  \n",
       "3   0.000000  0.000000  0.000000  0.000000  0.276468  0.341493  \n",
       "\n",
       "[4 rows x 24 columns]"
      ]
     },
     "execution_count": 67,
     "metadata": {},
     "output_type": "execute_result"
    }
   ],
   "source": [
    "df"
   ]
  },
  {
   "cell_type": "markdown",
   "metadata": {},
   "source": [
    "### Dimension Reduction using PCA"
   ]
  },
  {
   "cell_type": "code",
   "execution_count": 68,
   "metadata": {},
   "outputs": [],
   "source": [
    "from sklearn.decomposition import PCA\n",
    "pca = PCA(n_components=2).fit(X.todense())"
   ]
  },
  {
   "cell_type": "code",
   "execution_count": 69,
   "metadata": {},
   "outputs": [],
   "source": [
    "data2D = pca.transform(X.todense())"
   ]
  },
  {
   "cell_type": "code",
   "execution_count": 70,
   "metadata": {},
   "outputs": [
    {
     "data": {
      "image/png": "[encoded data removed]",
      "text/plain": [
       "<Figure size 360x360 with 1 Axes>"
      ]
     },
     "metadata": {},
     "output_type": "display_data"
    }
   ],
   "source": [
    "fig, ax = plt.subplots(1,1,figsize=(5,5))\n",
    "plt.scatter(data2D[:,0],data2D[:,1]);"
   ]
  },
  {
   "cell_type": "code",
   "execution_count": null,
   "metadata": {},
   "outputs": [],
   "source": []
  }
 ],
 "metadata": {
  "anaconda-cloud": {},
  "kernelspec": {
   "display_name": "Python 3",
   "language": "python",
   "name": "python3"
  },
  "language_info": {
   "codemirror_mode": {
    "name": "ipython",
    "version": 3
   },
   "file_extension": ".py",
   "mimetype": "text/x-python",
   "name": "python",
   "nbconvert_exporter": "python",
   "pygments_lexer": "ipython3",
   "version": "3.6.5"
  },
  "toc": {
   "base_numbering": 1,
   "nav_menu": {},
   "number_sections": true,
   "sideBar": true,
   "skip_h1_title": false,
   "title_cell": "Table of Contents",
   "title_sidebar": "Contents",
   "toc_cell": false,
   "toc_position": {},
   "toc_section_display": true,
   "toc_window_display": false
  },
  "varInspector": {
   "cols": {
    "lenName": 16,
    "lenType": 16,
    "lenVar": 40
   },
   "kernels_config": {
    "python": {
     "delete_cmd_postfix": "",
     "delete_cmd_prefix": "del ",
     "library": "var_list.py",
     "varRefreshCmd": "print(var_dic_list())"
    },
    "r": {
     "delete_cmd_postfix": ") ",
     "delete_cmd_prefix": "rm(",
     "library": "var_list.r",
     "varRefreshCmd": "cat(var_dic_list()) "
    }
   },
   "types_to_exclude": [
    "module",
    "function",
    "builtin_function_or_method",
    "instance",
    "_Feature"
   ],
   "window_display": false
  }
 },
 "nbformat": 4,
 "nbformat_minor": 1
}

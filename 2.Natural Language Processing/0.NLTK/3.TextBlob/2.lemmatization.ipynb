{
 "cells": [
  {
   "cell_type": "markdown",
   "metadata": {},
   "source": [
    "# NLP: TextBloob\n",
    "## Lemmatization\n",
    "\n",
    "**Stemming** algorithms work by cutting off the end or the beginning of the word, taking into account a list of common prefixes and suffixes. This  \"cutting\" can be successful in some occasions, but not always as illustrated in the table below:\n",
    "\n",
    "**Lemmatization**, on the other hand, takes into consideration the morphological analysis of the words. The algorithm used a detailed dictionary to find the lemma of a word."
   ]
  },
  {
   "cell_type": "code",
   "execution_count": 1,
   "metadata": {},
   "outputs": [],
   "source": [
    "from textblob import *"
   ]
  },
  {
   "cell_type": "code",
   "execution_count": 2,
   "metadata": {},
   "outputs": [
    {
     "name": "stdout",
     "output_type": "stream",
     "text": [
      "sentence: Different books are on the tables.\n",
      "Different\n",
      "book\n",
      "are\n",
      "on\n",
      "the\n",
      "table\n",
      "\n",
      "\n",
      "sentence: I am reading pictures\n",
      "I\n",
      "am\n",
      "reading\n",
      "picture\n",
      "\n",
      "\n"
     ]
    }
   ],
   "source": [
    "# We will feed the algoritm a text consisting of 2 sentences and ask it to leammatize each word\n",
    "text = TextBlob('Different books are on the tables. I am reading pictures')\n",
    "for sent in text.sentences:\n",
    "    print('sentence:',sent)\n",
    "    for w in sent.words:\n",
    "        word = Word(w)\n",
    "        print(word.lemmatize())\n",
    "    print('\\n')"
   ]
  }
 ],
 "metadata": {
  "anaconda-cloud": {},
  "kernelspec": {
   "display_name": "Python 3",
   "language": "python",
   "name": "python3"
  },
  "language_info": {
   "codemirror_mode": {
    "name": "ipython",
    "version": 3
   },
   "file_extension": ".py",
   "mimetype": "text/x-python",
   "name": "python",
   "nbconvert_exporter": "python",
   "pygments_lexer": "ipython3",
   "version": "3.7.4"
  },
  "toc": {
   "base_numbering": 1,
   "nav_menu": {},
   "number_sections": true,
   "sideBar": true,
   "skip_h1_title": false,
   "title_cell": "Table of Contents",
   "title_sidebar": "Contents",
   "toc_cell": false,
   "toc_position": {},
   "toc_section_display": true,
   "toc_window_display": false
  },
  "varInspector": {
   "cols": {
    "lenName": 16,
    "lenType": 16,
    "lenVar": 40
   },
   "kernels_config": {
    "python": {
     "delete_cmd_postfix": "",
     "delete_cmd_prefix": "del ",
     "library": "var_list.py",
     "varRefreshCmd": "print(var_dic_list())"
    },
    "r": {
     "delete_cmd_postfix": ") ",
     "delete_cmd_prefix": "rm(",
     "library": "var_list.r",
     "varRefreshCmd": "cat(var_dic_list()) "
    }
   },
   "types_to_exclude": [
    "module",
    "function",
    "builtin_function_or_method",
    "instance",
    "_Feature"
   ],
   "window_display": false
  }
 },
 "nbformat": 4,
 "nbformat_minor": 2
}

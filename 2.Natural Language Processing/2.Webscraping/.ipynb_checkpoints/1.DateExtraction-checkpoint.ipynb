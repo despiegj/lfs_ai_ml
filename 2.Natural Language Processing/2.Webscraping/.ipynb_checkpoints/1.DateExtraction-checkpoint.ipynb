{
 "cells": [
  {
   "cell_type": "markdown",
   "metadata": {},
   "source": [
    "# Webscraping: Date extraction\n",
    "\n",
    "Make a graph of the amount of articles there were on a day on a given topic. Use marketwatch.com, but now also loop trough different result pages instead of just one.\n",
    "\n",
    "**note**: This notebook contains date-dependent results. If you run this notebook yourself, you will almost certainly get different results than the ones described here"
   ]
  },
  {
   "cell_type": "markdown",
   "metadata": {},
   "source": [
    "### 1. Importing the necessary packages"
   ]
  },
  {
   "cell_type": "code",
   "execution_count": 1,
   "metadata": {},
   "outputs": [],
   "source": [
    "import requests\n",
    "from bs4 import BeautifulSoup\n",
    "from newspaper import Article\n",
    "\n",
    "from datetime import datetime\n",
    "from collections import Counter\n",
    "import time\n",
    "\n",
    "import matplotlib.pyplot as plt\n",
    "import seaborn as sns\n",
    "%matplotlib inline"
   ]
  },
  {
   "cell_type": "markdown",
   "metadata": {},
   "source": [
    "### 2. Defining the search term and the search url"
   ]
  },
  {
   "cell_type": "code",
   "execution_count": 29,
   "metadata": {},
   "outputs": [],
   "source": [
    "SEARCH_TERM = \"Cisco\"\n",
    "search_url = lambda article: f\"https://www.marketwatch.com/search?q={SEARCH_TERM}&Link=MW_SearchAC&mp=806&o={article}\"\n",
    "ARTICLES_PER_PAGE = 15"
   ]
  },
  {
   "cell_type": "markdown",
   "metadata": {},
   "source": [
    "### 3. Extracting the links"
   ]
  },
  {
   "cell_type": "code",
   "execution_count": 30,
   "metadata": {},
   "outputs": [
    {
     "name": "stdout",
     "output_type": "stream",
     "text": [
      "Starting on page 7. Current time: 9.3\r"
     ]
    }
   ],
   "source": [
    "headers = {\"user-agent\": \"Chrome/84.0.4147\"}\n",
    "articles_urls = []\n",
    "start_time = time.time()\n",
    "for page in range(0, 7):\n",
    "    print(f\"Starting on page {page + 1}. Current time: {round(time.time() - start_time, 1)}\", end=\"\\r\")\n",
    "    url = search_url(1 + page * ARTICLES_PER_PAGE)\n",
    "    \n",
    "    # timeout: avoid to hang indefinitely by telling Requests to only wait for maximum 10 seconds on a response\n",
    "    try:\n",
    "        result = requests.get(url, headers=headers, timeout=10)\n",
    "    except requests.exceptions.Timeout:\n",
    "        print(\"\\n Unable to load page\")\n",
    "        time.sleep(3)\n",
    "        \n",
    "    html_soup = BeautifulSoup(result.text)\n",
    "    elements = html_soup.find_all(attrs={\"class\": \"searchresult\"})\n",
    "    for element in elements:\n",
    "        articles_urls.append(element.find(\"a\").get(\"href\"))\n",
    "    # why do this? To avoid going too fast, Marketwatch doesn't like that.\n",
    "    time.sleep(0.5)"
   ]
  },
  {
   "cell_type": "markdown",
   "metadata": {},
   "source": [
    "### 4. Use newspaper to extract the keywords"
   ]
  },
  {
   "cell_type": "code",
   "execution_count": 32,
   "metadata": {},
   "outputs": [
    {
     "name": "stdout",
     "output_type": "stream",
     "text": [
      "Starting on article 80. Current time: 87.8\n",
      " Article download failed\n",
      "Starting on article 105. Current time: 118.3\r"
     ]
    }
   ],
   "source": [
    "dates = []\n",
    "articles = []\n",
    "\n",
    "start_time = time.time()\n",
    "\n",
    "for i, article_url in enumerate(articles_urls):\n",
    "    print(f\"Starting on article {i + 1}. Current time: {round(time.time() - start_time, 1)}\", end=\"\\r\")\n",
    "    # Note: marketwatch sometimes doesnt provide the beginning of the link!\n",
    "    if article_url.startswith(\"http://www.marketwatch.com\"):\n",
    "        article = Article(article_url)\n",
    "    else:\n",
    "        article = Article(\"http://www.marketwatch.com\" + article_url)\n",
    "        \n",
    "    article.download()\n",
    "    # why do this? To avoid going too fast, Marketwatch doesn't like that.\n",
    "    while article.download_state != 2: # 2 is SUCCESS state\n",
    "        time.sleep(2)\n",
    "        print(\"\\n Article download failed\")\n",
    "        article.download()\n",
    "\n",
    "    article.parse()\n",
    "    \n",
    "    if article.publish_date is not None:\n",
    "        # calling it directly like this allows us to get the scores of the keywords too\n",
    "        dates.append(article.publish_date)\n",
    "        \n",
    "    # always keep the article in case you need it afterwards -> this way you don't need to download it again\n",
    "    articles.append(article)"
   ]
  },
  {
   "cell_type": "code",
   "execution_count": 33,
   "metadata": {},
   "outputs": [
    {
     "data": {
      "text/plain": [
       "72"
      ]
     },
     "execution_count": 33,
     "metadata": {},
     "output_type": "execute_result"
    }
   ],
   "source": [
    "len(dates)"
   ]
  },
  {
   "cell_type": "markdown",
   "metadata": {},
   "source": [
    "Unfortunately from the 105 articles newspaper was only able to extract 72 dates! Dates is by far the most difficult field for Newspaper. We will fix this using Beautiful Soup to manually extract the dates"
   ]
  },
  {
   "cell_type": "code",
   "execution_count": 34,
   "metadata": {},
   "outputs": [],
   "source": [
    "dates = []\n",
    "for article in articles:\n",
    "    html_soup = BeautifulSoup(article.html)\n",
    "    date = html_soup.find(attrs={\"class\": \"timestamp\"}).text\n",
    "    if date is not None:\n",
    "        date = date[date.find(\":\") + 2:]\n",
    "        date_stripped = \" \".join(date.split(\" \")[0:3])\n",
    "        try:\n",
    "            date_object = datetime.strptime(date_stripped, \"%b. %d, %Y\")\n",
    "        except ValueError:\n",
    "            date_object = datetime.strptime(date_stripped, \"%B %d, %Y\")\n",
    "        dates.append(date_object)"
   ]
  },
  {
   "cell_type": "code",
   "execution_count": 35,
   "metadata": {},
   "outputs": [
    {
     "data": {
      "text/plain": [
       "105"
      ]
     },
     "execution_count": 35,
     "metadata": {},
     "output_type": "execute_result"
    }
   ],
   "source": [
    "len(dates)"
   ]
  },
  {
   "cell_type": "code",
   "execution_count": 36,
   "metadata": {},
   "outputs": [],
   "source": [
    "count_dates = Counter(dates)"
   ]
  },
  {
   "cell_type": "code",
   "execution_count": 37,
   "metadata": {},
   "outputs": [
    {
     "data": {
      "image/png": "[encoded data removed]",
      "text/plain": [
       "<Figure size 900x600 with 1 Axes>"
      ]
     },
     "metadata": {
      "needs_background": "light"
     },
     "output_type": "display_data"
    }
   ],
   "source": [
    "fig, ax = plt.subplots(dpi=150)\n",
    "\n",
    "ax.scatter(list(count_dates.keys()), list(count_dates.values()))\n",
    "# beautify the x-labels\n",
    "plt.gcf().autofmt_xdate()\n",
    "ax.set_title(f\"Number of articles on {SEARCH_TERM} keyword\")\n",
    "ax.set_xlabel(\"Date\")\n",
    "ax.set_ylabel(\"Number of articles\")\n",
    "plt.show()"
   ]
  },
  {
   "cell_type": "markdown",
   "metadata": {},
   "source": [
    "What happened on August 13? Let's take a look!"
   ]
  },
  {
   "cell_type": "code",
   "execution_count": 40,
   "metadata": {},
   "outputs": [
    {
     "name": "stdout",
     "output_type": "stream",
     "text": [
      "S&P 500 ends lower in struggle to set record high as investors turn to tech stocks and stimulus talks flounder\n",
      "Cisco stock logs worst day in nearly a decade as cost cuts create more coronavirus concerns\n",
      "Stocks Close Nearly Flat After Jobless Claims Data\n",
      "Cisco, Exxon Mobil share losses lead Dow's nearly 75-point drop\n",
      "Cisco, Exxon Mobil share losses contribute to Dow's 150-point drop\n",
      "Cisco Slides on Weak Outlook, Dragging Down Other Enterprise IT Stocks\n",
      "Cisco Beat Earnings Expectations. Why Its Stock Is Dropping.\n",
      "Charting a tandem breakout attempt: S&P 500, Nasdaq press record territory\n",
      "ETFs with big Cisco stakes fall as network-equipment giant's stock set for worst day in 9 years\n",
      "Cisco stock slides toward worst day since 2011 after earnings\n",
      "Dow's 70-point drop led by losses in Cisco, Walgreens Boots stocks\n",
      "Stock-index futures pare losses as jobless claims fall below 1 million\n",
      "Cisco Systems stock price target cut to $46 from $50 at J.P. Morgan\n",
      "Thursday Premarket Stock Movers: Cisco, Micron Tapestry\n",
      "Cisco’s tepid earnings outlook, revenue decline and CFO retirement news hits stock\n",
      "Cisco looking more to software, but road is slower due to the pandemic\n",
      "Cisco Systems' stock sinks 5.8% premarket after Q4 results late Wednesday\n"
     ]
    }
   ],
   "source": [
    "for i, date in enumerate(dates):\n",
    "    if str(date).startswith(\"2020-08-13\"):\n",
    "        print(articles[i].title)"
   ]
  },
  {
   "cell_type": "markdown",
   "metadata": {},
   "source": [
    "We found out when Cisco lost a lot of its stock price just based an news article coverage!"
   ]
  }
 ],
 "metadata": {
  "kernelspec": {
   "display_name": "Python 3",
   "language": "python",
   "name": "python3"
  },
  "language_info": {
   "codemirror_mode": {
    "name": "ipython",
    "version": 3
   },
   "file_extension": ".py",
   "mimetype": "text/x-python",
   "name": "python",
   "nbconvert_exporter": "python",
   "pygments_lexer": "ipython3",
   "version": "3.8.4"
  }
 },
 "nbformat": 4,
 "nbformat_minor": 4
}

{
 "cells": [
  {
   "cell_type": "markdown",
   "metadata": {},
   "source": [
    "<h1>Working With Excel Files</h1>\n",
    "<br>\n",
    "This notebook illustrates some of the possiblities to export Python to Excel using the <b>openpyxl</b> package."
   ]
  },
  {
   "cell_type": "markdown",
   "metadata": {},
   "source": [
    "Importing the necessary libraries for the rest of the notebook:"
   ]
  },
  {
   "cell_type": "code",
   "execution_count": 1,
   "metadata": {},
   "outputs": [],
   "source": [
    "# Import the numerical library for python numerical operations\n",
    "import numpy as np\n",
    "# The os (operative system) library allow's us to do several read/write and configuration operations in our computer\n",
    "import os\n",
    "# Pandas is a powerful data analysis library that allows us to manipulate tabular data\n",
    "import pandas as pd\n",
    "# Datetime is python's library used to define and manipulate time objects\n",
    "import datetime\n",
    "# We import the module pyplot from matplotlib and call it plt\n",
    "import matplotlib.pyplot as plt\n",
    "# Seaborn is a visualization library based on matplotlib specially designed for statistical data\n",
    "import seaborn as sns\n",
    "# we initialize seaborn to give its aesthetics to the graphs used in this notebook  \n",
    "sns.set()\n",
    "# all the lines of code starting with a \"%\" allow us to change the configuration of the notebook\n",
    "# the following line forces the notebook to display the results of each matplotlib plot below the cell where they were\n",
    "# constructed\n",
    "%matplotlib inline"
   ]
  },
  {
   "cell_type": "markdown",
   "metadata": {},
   "source": [
    "From the <b>openpyxl</b> module, the following submodules are downloaded:"
   ]
  },
  {
   "cell_type": "code",
   "execution_count": 2,
   "metadata": {},
   "outputs": [],
   "source": [
    "# Simple workbook, worksheet operations\n",
    "from openpyxl import Workbook , load_workbook"
   ]
  },
  {
   "cell_type": "code",
   "execution_count": 3,
   "metadata": {},
   "outputs": [],
   "source": [
    "# To save impages into file\n",
    "from openpyxl.drawing.image import Image"
   ]
  },
  {
   "cell_type": "code",
   "execution_count": 4,
   "metadata": {},
   "outputs": [],
   "source": [
    "# To write pandas data frames into Excel\n",
    "from openpyxl.utils.dataframe import dataframe_to_rows"
   ]
  },
  {
   "cell_type": "code",
   "execution_count": 5,
   "metadata": {},
   "outputs": [],
   "source": [
    "# To ad comments to your excel\n",
    "from openpyxl.comments import Comment"
   ]
  },
  {
   "cell_type": "code",
   "execution_count": 6,
   "metadata": {},
   "outputs": [],
   "source": [
    "# To add colors and font style\n",
    "from openpyxl.styles import Font, Color, colors , PatternFill"
   ]
  },
  {
   "cell_type": "code",
   "execution_count": 7,
   "metadata": {},
   "outputs": [],
   "source": [
    "# To add named styles and alignment\n",
    "from openpyxl.styles import NamedStyle , Alignment"
   ]
  },
  {
   "cell_type": "code",
   "execution_count": 8,
   "metadata": {},
   "outputs": [],
   "source": [
    "# For conditional formatting\n",
    "from openpyxl.formatting.rule import ColorScaleRule, CellIsRule, FormulaRule, Rule\n",
    "from openpyxl.styles.differential import DifferentialStyle"
   ]
  },
  {
   "cell_type": "markdown",
   "metadata": {},
   "source": [
    "<h3>Creating sheets & notebooks </h3><br>\n",
    "In the following code we will create a simple excel work-book and an excel sheet. The workbook does not need to be created in the filesystem. It is just an object in memory"
   ]
  },
  {
   "cell_type": "code",
   "execution_count": 9,
   "metadata": {},
   "outputs": [],
   "source": [
    "# Create the workbook\n",
    "work_book = Workbook()\n",
    "# By default one sheet will be created in the work_book called \"sheet\" and it will be placed as \"active\"\n",
    "# We can get the active worksheet of the workbook like:\n",
    "work_sheet = work_book.active"
   ]
  },
  {
   "cell_type": "code",
   "execution_count": 10,
   "metadata": {},
   "outputs": [],
   "source": [
    "# We can give the newly created sheets a particular name:\n",
    "work_sheet1 = work_book.create_sheet(\"Seminar\")\n",
    "# We can also position the new sheet at a particular place (for example at the beginning).\n",
    "# This corresponds to index = 0\n",
    "work_sheet2 = work_book.create_sheet(\"Calculations\",index=0)"
   ]
  },
  {
   "cell_type": "code",
   "execution_count": 11,
   "metadata": {},
   "outputs": [
    {
     "name": "stdout",
     "output_type": "stream",
     "text": [
      "Seminar\n"
     ]
    }
   ],
   "source": [
    "# The Sheets are stored as dictionaries in the computer, it is very easy to acces them:\n",
    "work_sheet = work_book[\"Seminar\"]\n",
    "# Once we have a variable corresponding to the sheet we can access all of its properties. For instance,\n",
    "# we will print the property \"title\" of the work sheet with name \"Seminar\":\n",
    "print(work_sheet.title)"
   ]
  },
  {
   "cell_type": "markdown",
   "metadata": {},
   "source": [
    "<h3>Adding data to the sheet </h3><br>\n",
    "The lowest element in the hierarchy is a cell:\n",
    "<br>\n",
    "Workbook->Worksheet->Cell\n",
    "<h3>Cells</h3>\n",
    "Reading and writing a particul cell of a worksheet\n",
    "<br>\n",
    "\n",
    "In the same way we accessed a sheet by its name from the workbook, we can access a cell from the work sheet\n",
    "by using as key the name of the cell (coordinates). The following example shows how to wite a number into cell\n",
    "A4"
   ]
  },
  {
   "cell_type": "code",
   "execution_count": 12,
   "metadata": {},
   "outputs": [
    {
     "name": "stdout",
     "output_type": "stream",
     "text": [
      "138.0\n"
     ]
    }
   ],
   "source": [
    "# Write 138.0 into cell \"A4\"\n",
    "work_sheet['A4'] = 138.0\n",
    "\n",
    "# Reading data takes place via the attributes of the cell object, in this case, the attribute \"value\":\n",
    "cell_value = work_sheet['A4'].value\n",
    "print(cell_value)"
   ]
  },
  {
   "cell_type": "code",
   "execution_count": 13,
   "metadata": {},
   "outputs": [
    {
     "name": "stdout",
     "output_type": "stream",
     "text": [
      "Calibri\n",
      "11.0\n"
     ]
    }
   ],
   "source": [
    "# We can also call some other properties of the cell such as \"font\" and its name and size:\n",
    "print(work_sheet['A4'].font.name)\n",
    "print(work_sheet['A4'].font.sz)"
   ]
  },
  {
   "cell_type": "markdown",
   "metadata": {},
   "source": [
    "Another way to access a cell is by using RC-method. That is, by using the method cell of a work sheet:"
   ]
  },
  {
   "cell_type": "code",
   "execution_count": 14,
   "metadata": {},
   "outputs": [
    {
     "name": "stdout",
     "output_type": "stream",
     "text": [
      "123\n"
     ]
    }
   ],
   "source": [
    "# Get access to a cell using RC-method\n",
    "# Setting the cell to a particular value\n",
    "work_sheet.cell(row=2,column=4,value=123)\n",
    "\n",
    "# Reading the content of the cell\n",
    "print(work_sheet.cell(row=2,column=4).value)"
   ]
  },
  {
   "cell_type": "markdown",
   "metadata": {},
   "source": [
    "When a worksheet is created in memory, it contains no cells. A cell object is created when it is first accessed.So when you loop over cells that do not exist, they are actualy going to be created. For example:<br>\n",
    "<p> for i in range(1,101):<br>\n",
    "...        for j in range(1,101):<br>\n",
    "...            ws.cell(row=i, column=j)</p><br>\n",
    "<br>\n",
    "will create a 100 x 100 array on the sheet"
   ]
  },
  {
   "cell_type": "markdown",
   "metadata": {},
   "source": [
    "<h3>Ranges</h3>\n",
    "Accessing many cells at one can be done by defining a starting point and an ending point on a given work sheet"
   ]
  },
  {
   "cell_type": "code",
   "execution_count": 15,
   "metadata": {},
   "outputs": [],
   "source": [
    "# columns C to D: this code will iterate on all the rows of columns from C to D\n",
    "work_sheet['C:D']\n",
    "\n",
    "# row 5 to 6: this code will iterate on all the rows starting from 5 until 6 for all the columns in the work sheet\n",
    "work_sheet[5:6]\n",
    "\n",
    "# range A1 to C2: this range will iterate in both rows and columns between A1 and C2.\n",
    "cell_range = work_sheet['A1':'C2']\n",
    "\n",
    "# The result of this three lines will be a list of \"Cell\" objets that you can use to extract properties\n",
    "# from a group of Cells."
   ]
  },
  {
   "cell_type": "markdown",
   "metadata": {},
   "source": [
    "We can also loop over a given range. We first loop over the columns via the iter_cols method of a worksheet and then  one has to loop over each cell in the column object."
   ]
  },
  {
   "cell_type": "code",
   "execution_count": 16,
   "metadata": {},
   "outputs": [],
   "source": [
    "i=0\n",
    "for column in work_sheet.iter_cols(min_row=4,min_col=2, max_col=3, max_row=6):\n",
    "    for cell in column:\n",
    "        cell.value= i\n",
    "        i+=1"
   ]
  },
  {
   "cell_type": "markdown",
   "metadata": {},
   "source": [
    "<h2>Saving to a file</h2>\n",
    "Once we have finishing filling the cells of our working book, we can save it into a file in our computer. If the file exists, it will be overwritten without warning, so be careful when naming your files."
   ]
  },
  {
   "cell_type": "code",
   "execution_count": 17,
   "metadata": {},
   "outputs": [],
   "source": [
    "filename = 'test.xlsx'\n",
    "work_book.save(filename=filename)"
   ]
  },
  {
   "cell_type": "markdown",
   "metadata": {},
   "source": [
    "If you to the folder of this course, you will find a file called \"test.xlsx\". How many sheet does it have? are all \n",
    "the sheets empty?\n",
    "\n",
    "If you opened the file in excel, make sure to close it before you continue working with it, otherwise it may cause an error"
   ]
  },
  {
   "cell_type": "code",
   "execution_count": 18,
   "metadata": {},
   "outputs": [],
   "source": [
    "# Since our workbook has already been saved in our computer we can safely delete the workbook object\n",
    "del work_book"
   ]
  },
  {
   "cell_type": "markdown",
   "metadata": {},
   "source": [
    "<h2>Reading the file</h2><br>\n",
    "Currently, <b>openpyxl</b> does not read all possible items in an Excel file, so images and charts will be lost from existing files if they are opened and saved with the same name."
   ]
  },
  {
   "cell_type": "markdown",
   "metadata": {},
   "source": [
    "To demonstrate the excel files reading capabilities, we will start by reading the file we generated earlier and printing the name of the working sheets in it.\n",
    "\n",
    "In order to read a file we need to use the function `load_workbook`. This function, however, will raise an error if the file doesn't exist in our computer. To avoid this error we can use the `os` library and it's method `os.path.isfile` to read the file if it exist or create a new one otherwise."
   ]
  },
  {
   "cell_type": "code",
   "execution_count": 19,
   "metadata": {},
   "outputs": [
    {
     "name": "stdout",
     "output_type": "stream",
     "text": [
      "The file was read correctly\n"
     ]
    }
   ],
   "source": [
    "# check if file exists\n",
    "filename = 'test.xlsx'\n",
    "if os.path.isfile(filename):\n",
    "    # Reading the sheet names in the book\n",
    "    print('The file was read correctly')\n",
    "    work_book_from_file = load_workbook(filename)\n",
    "else:\n",
    "    # if the file does not exist, we create a newone\n",
    "    print('The file does not exist, I will create a new one instead. Please verify that you save your file correctly')\n",
    "    work_book_from_file = Workbook()"
   ]
  },
  {
   "cell_type": "markdown",
   "metadata": {},
   "source": [
    "Since we just created the file, this function will read it from our computer. We can verify that by printing the names of the sheets in the file we just read:"
   ]
  },
  {
   "cell_type": "code",
   "execution_count": 20,
   "metadata": {},
   "outputs": [
    {
     "name": "stdout",
     "output_type": "stream",
     "text": [
      "Sheet Names: ['Calculations', 'Sheet', 'Seminar']\n"
     ]
    }
   ],
   "source": [
    "# We will use the attribute \"sheetnames\" to print the name of the sheets\n",
    "print('Sheet Names:',work_book_from_file.sheetnames)"
   ]
  },
  {
   "cell_type": "markdown",
   "metadata": {},
   "source": [
    "We see that the workbook has three sheet names -\n",
    "The ones that we created earlier"
   ]
  },
  {
   "cell_type": "markdown",
   "metadata": {},
   "source": [
    "<h3>Number formats</h3>\n",
    "\n",
    "Now we will work with different ways in which the data can be saved in a cell"
   ]
  },
  {
   "cell_type": "code",
   "execution_count": 21,
   "metadata": {},
   "outputs": [],
   "source": [
    "# we will work in the active sheet\n",
    "work_sheet = work_book_from_file.active\n",
    "# To save an entry in a date format we can use the method datetime.datetime, it receives 3 inputes: year, month, day\n",
    "work_sheet['A1'] = datetime.datetime(2010, 7, 27)\n",
    "# we can now declare the format of the cell using the attribute number_format to match the date time specification\n",
    "# that is: four digits for the year (y), two digits for the month (m) and two digits for the day (d)\n",
    "work_sheet['A1'].number_format='yyyymmdd'\n",
    "# we can directly save the result of an operation into a cell as a floating number\n",
    "work_sheet['A2'] = 13/100\n",
    "# Declare that the format is a floating number\n",
    "work_sheet['A2'].number_format = '0.0%'"
   ]
  },
  {
   "cell_type": "code",
   "execution_count": 22,
   "metadata": {},
   "outputs": [
    {
     "name": "stdout",
     "output_type": "stream",
     "text": [
      "A date time: 2010-07-27 00:00:00\n",
      "A float number: 0.13\n"
     ]
    }
   ],
   "source": [
    "print(\"A date time:\", work_sheet['A1'].value)\n",
    "print(\"A float number:\", work_sheet['A2'].value)"
   ]
  },
  {
   "cell_type": "markdown",
   "metadata": {},
   "source": [
    "<h3>Merge / Unmerge cells</h3>\n",
    "A powerful feature of excel is that of merging and unmerging cells. We can also do date with the function <b>merge_cells</b>"
   ]
  },
  {
   "cell_type": "code",
   "execution_count": 23,
   "metadata": {},
   "outputs": [],
   "source": [
    "# Merge the cells from A3 to D3 (all rows and columns)\n",
    "work_sheet.merge_cells('A3:D3')\n",
    "# or equivalently\n",
    "work_sheet.merge_cells(start_row=5,start_column=1,end_row=5,end_column=4)\n",
    "# we can now set a value for the merged cell\n",
    "work_sheet.cell(row=5,column=1,value=4)\n",
    "# Centering the value in the merged row\n",
    "work_sheet.cell(row=5,column=1).alignment = Alignment(horizontal=\"center\")\n",
    "work_book_from_file.save('test.xlsx')"
   ]
  },
  {
   "cell_type": "markdown",
   "metadata": {},
   "source": [
    "<h3>Adding Image into Spreadsheet</h3>\n",
    "The following code exemplifies how to add images into the Spreadsheets"
   ]
  },
  {
   "cell_type": "code",
   "execution_count": 24,
   "metadata": {},
   "outputs": [
    {
     "data": {
      "image/png": "[encoded data removed]",
      "text/plain": [
       "<Figure size 360x360 with 1 Axes>"
      ]
     },
     "metadata": {
      "needs_background": "light"
     },
     "output_type": "display_data"
    }
   ],
   "source": [
    "#create figure\n",
    "fig,ax = plt.subplots(1,1,figsize=(5,5))\n",
    "# Create an array of numbers from 0 to 10 in steps of 1\n",
    "x = np.arange(0,10,1)\n",
    "y = 2*np.arange(0,10,1)\n",
    "# Generate a plot of the arrays\n",
    "ax.plot(x ,y)\n",
    "\n",
    "# save figure as a png file\n",
    "fig.savefig('myfig.png')\n",
    "\n",
    "## Embedding into a spread sheet\n",
    "# We first read the image\n",
    "img = Image('myfig.png')\n",
    "# Create a new sheet in our work book\n",
    "work_sheet_fig = work_book_from_file.create_sheet('Figure')\n",
    "# Use the method \"add_image\" with the image we want to add, and the cell where we want to add it\n",
    "work_sheet_fig.add_image(img, 'A1')\n",
    "# Save our work book\n",
    "work_book_from_file.save(filename='test.xlsx')"
   ]
  },
  {
   "cell_type": "markdown",
   "metadata": {},
   "source": [
    "<h3>Working with Pandas Dataframes</h3>\n",
    "<br>\n",
    " Pandas has a build in function to export to Excel : <b>ExcelWriter</b>. With openpyxl, there are alternative approaches to export data to Excel:"
   ]
  },
  {
   "cell_type": "code",
   "execution_count": 25,
   "metadata": {},
   "outputs": [],
   "source": [
    "# Create an an array of random numbers of shape (5,10)\n",
    "x = np.random.randn(5,10)\n",
    "# Convert the array into a pandas dataframe\n",
    "df = pd.DataFrame(x)\n",
    "# Create a new work sheet for this task\n",
    "work_sheet_pandas = work_book_from_file.create_sheet('Pandas')\n",
    "# We will iterate on each row of our data framw and add each row to our work sheet\n",
    "for r in dataframe_to_rows(df, index=True, header=True):\n",
    "    work_sheet_pandas.append(r)\n",
    "\n",
    "# These lines gives a pandas \"look-and-feel\"\n",
    "for cell in work_sheet_pandas['A'] + work_sheet_pandas[1]:\n",
    "    # Define the style as \"pandas\"\n",
    "    cell.style = 'Pandas'\n",
    "work_book_from_file.save('test.xlsx')"
   ]
  },
  {
   "cell_type": "markdown",
   "metadata": {},
   "source": [
    "<h3>Formatting the cells with colors and fonttypes</h3>\n",
    "Using the library <b>Font</b> we can personalize the cells in our workbook"
   ]
  },
  {
   "cell_type": "code",
   "execution_count": 26,
   "metadata": {},
   "outputs": [],
   "source": [
    "# create diffenrent fonts, the function Font receives a string with the aRGB hex value that we want for our\n",
    "# color fonr\n",
    "red_font = Font(color=\"00FF0000\")\n",
    "# for italics we define the argument italic to true\n",
    "font_italic = Font(color=\"0000F0BB\", italic=True)\n",
    "# define the type of letter in \"name\" and make it bold by seting \"bold\" to True\n",
    "font_bold = Font(name='Arial',color=colors.BLUE,bold=True)"
   ]
  },
  {
   "cell_type": "code",
   "execution_count": 27,
   "metadata": {},
   "outputs": [],
   "source": [
    "# Apply each of the styles to a given cell in our pandas Data Frame\n",
    "work_sheet_pandas['A3'].font = red_font\n",
    "work_sheet_pandas['A4'].font = font_italic\n",
    "work_sheet_pandas['A5'].font = font_bold\n",
    "work_book_from_file.save('test.xlsx')"
   ]
  },
  {
   "cell_type": "markdown",
   "metadata": {},
   "source": [
    "<h2>Named Styles</h2>\n",
    "We can use the method <b>NamedStyle</b> to define other common excel styles into our spreadsheet"
   ]
  },
  {
   "cell_type": "code",
   "execution_count": 28,
   "metadata": {},
   "outputs": [],
   "source": [
    "# Highlighting the text: we first need our style a name\n",
    "highlight = NamedStyle(name=\"awesome_highlight\")\n",
    "# Adding bold letter, size 20 and Blue color\n",
    "highlight.font = Font(bold=True, size=20,color=colors.BLUE)\n",
    "# Add our highlight definition to the work book\n",
    "work_book_from_file.add_named_style(highlight)"
   ]
  },
  {
   "cell_type": "code",
   "execution_count": 29,
   "metadata": {},
   "outputs": [],
   "source": [
    "# Apply our style to a cell\n",
    "work_sheet_pandas['B1'].style = highlight\n",
    "# We can also use predefined styles such as \"calculation\"\n",
    "work_sheet_pandas['C1'].style = 'Calculation'\n",
    "# Save our results\n",
    "work_book_from_file.save('test.xlsx')"
   ]
  },
  {
   "cell_type": "markdown",
   "metadata": {},
   "source": [
    "There are some pre-defined styles that are readily available for us to use. For this we will work on a cell names \"Info\". The following code will try to read it from the work book or if it does not exist, it will create it"
   ]
  },
  {
   "cell_type": "code",
   "execution_count": 30,
   "metadata": {},
   "outputs": [],
   "source": [
    "# try to read the sheet\n",
    "try:\n",
    "    work_sheet_info = work_book_from_file['Info']\n",
    "# Create the sheet on failure\n",
    "except:\n",
    "    work_sheet_info = work_book_from_file.create_sheet('Info')"
   ]
  },
  {
   "cell_type": "code",
   "execution_count": 31,
   "metadata": {},
   "outputs": [],
   "source": [
    "## Try out some styles\n",
    "\n",
    "# Informative styles\n",
    "work_sheet_info['A1']='Calculation'\n",
    "work_sheet_info['A1'].style = 'Calculation'\n",
    "work_sheet_info['A2']='Total'\n",
    "work_sheet_info['A2'].style='Total'\n",
    "work_sheet_info['A3']='Note'\n",
    "work_sheet_info['A3'].style='Note'\n",
    "work_sheet_info['A4']='Warning Text'\n",
    "work_sheet_info['A4'].style='Warning Text'\n",
    "work_sheet_info['A5']='Explanatory Text'\n",
    "work_sheet_info['A5'].style='Explanatory Text'\n",
    "\n",
    "# Text styles\n",
    "work_sheet_info['A6']='Title'\n",
    "work_sheet_info['A6'].style='Title'\n",
    "work_sheet_info['A7']='Headline 1'\n",
    "work_sheet_info['A7'].style='Headline 1'\n",
    "work_sheet_info['A7']='Headline 2'\n",
    "work_sheet_info['A8'].style='Headline 3'\n",
    "work_sheet_info['A8']='Headline 3'\n",
    "work_sheet_info['A9']='Headline 4'\n",
    "work_sheet_info['A9'].style='Headline 4'\n",
    "work_sheet_info['A10']='Hyperlink'\n",
    "work_sheet_info['A10'].style='Hyperlink'\n",
    "work_sheet_info['A11']='Followed Hyperlink'\n",
    "work_sheet_info['A11'].style='Followed Hyperlink'\n",
    "work_sheet_info['A12']='Linked Cell'\n",
    "work_sheet_info['A12'].style='Linked Cell'\n",
    "\n",
    "# Comparisons styles\n",
    "work_sheet_info['A13']='Input'\n",
    "work_sheet_info['A13'].style='Input'\n",
    "work_sheet_info['A14']='Output'\n",
    "work_sheet_info['A14'].style='Output'\n",
    "work_sheet_info['A15']='Check Cell'\n",
    "work_sheet_info['A15'].style='Check Cell'\n",
    "work_sheet_info['A16']='Good'\n",
    "work_sheet_info['A16'].style='Good'\n",
    "work_sheet_info['A17']='Bad'\n",
    "work_sheet_info['A17'].style='Bad'\n",
    "work_sheet_info['A18']='Neutral'\n",
    "work_sheet_info['A18'].style='Neutral'\n",
    "\n",
    "#Accents styles\n",
    "work_sheet_info['A19']='20 % - Accent1'\n",
    "work_sheet_info['A19'].style='20 % - Accent1'\n",
    "work_sheet_info['A20']='40 % - Accent1'\n",
    "work_sheet_info['A20'].style='40 % - Accent1'\n",
    "work_sheet_info['A21']='60 % - Accent1'\n",
    "work_sheet_info['A21'].style='60 % - Accent1'\n",
    "work_sheet_info['A22']='Accent2'\n",
    "work_sheet_info['A22'].style='Accent2'\n",
    "work_sheet_info['A23']='20 % - Accent2'\n",
    "work_sheet_info['A23'].style='20 % - Accent2'\n",
    "work_sheet_info['A24']='40 % - Accent2'\n",
    "work_sheet_info['A24'].style='40 % - Accent2'\n",
    "work_sheet_info['A25']='60 % - Accent2'\n",
    "work_sheet_info['A25'].style='60 % - Accent2'\n",
    "work_sheet_info['A26']='Accent3'\n",
    "work_sheet_info['A26'].style='Accent3'\n",
    "work_sheet_info['A27']='20 % - Accent3'\n",
    "work_sheet_info['A27'].style='20 % - Accent3'\n",
    "work_sheet_info['A28']='40 % - Accent3'\n",
    "work_sheet_info['A28'].style='40 % - Accent3'\n",
    "work_sheet_info['A29']='60 % - Accent3'\n",
    "work_sheet_info['A29'].style='60 % - Accent3'\n",
    "work_sheet_info['A30']='Accent4'\n",
    "work_sheet_info['A30'].style='Accent4'\n",
    "work_sheet_info['A31']='20 % - Accent4'\n",
    "work_sheet_info['A31'].style='20 % - Accent4'\n",
    "work_sheet_info['A32']='40 % - Accent4'\n",
    "work_sheet_info['A32'].style='40 % - Accent4'\n",
    "work_sheet_info['A33']='60 % - Accent4'\n",
    "work_sheet_info['A33'].style='60 % - Accent4'\n",
    "work_sheet_info['A34']='Accent5'\n",
    "work_sheet_info['A34'].style='Accent5'\n",
    "work_sheet_info['A35']='20 % - Accent5'\n",
    "work_sheet_info['A35'].style='20 % - Accent5'\n",
    "work_sheet_info['A36']='40 % - Accent5'\n",
    "work_sheet_info['A36'].style='40 % - Accent5'\n",
    "work_sheet_info['A37']='60 % - Accent5'\n",
    "work_sheet_info['A37'].style='60 % - Accent5'\n",
    "work_sheet_info['A38']='Accent6'\n",
    "work_sheet_info['A38'].style='Accent6'\n",
    "work_sheet_info['A39']='20 % - Accent6'\n",
    "work_sheet_info['A39'].style='20 % - Accent6'\n",
    "work_sheet_info['A40']='40 % - Accent6'\n",
    "work_sheet_info['A40'].style='40 % - Accent6'\n",
    "work_sheet_info['A41']='60 % - Accent6'\n",
    "work_sheet_info['A41'].style='60 % - Accent6'\n",
    "work_sheet_info['A42']='Pandas'\n",
    "work_sheet_info['A42'].style='Pandas'"
   ]
  },
  {
   "cell_type": "code",
   "execution_count": 32,
   "metadata": {},
   "outputs": [],
   "source": [
    "# Save the results\n",
    "work_book_from_file.save('test.xlsx')"
   ]
  },
  {
   "cell_type": "markdown",
   "metadata": {},
   "source": [
    "<h3>Conditional Formatting </h3>\n",
    "<br>\n",
    "In the following code we will only modify a cell if a certain condition is fullfilled. We will create random numbers for the cells A1:A10 and fill the cell when the value is less than 0.5"
   ]
  },
  {
   "cell_type": "code",
   "execution_count": 33,
   "metadata": {},
   "outputs": [],
   "source": [
    "# Try read from a worksheet named \"format\" or create it if it does not exist\n",
    "try:\n",
    "    work_sheet_format = work_book_from_file['format']\n",
    "except:\n",
    "    work_sheet_format = work_book_from_file.create_sheet('format')\n",
    "\n",
    "# Write a random value on cells A1 to A11\n",
    "for col in work_sheet_format.iter_cols(min_row=1,min_col=1, max_col=1, max_row=11):\n",
    "    for cell in col:\n",
    "        cell.value= np.random.rand(1)[0]\n",
    "        \n",
    "# Define a Patern to fill the cells with\n",
    "redFill = PatternFill(start_color='EE1111',end_color='EE1111',fill_type='solid')\n",
    "\n",
    "# Using \"conditional_formatting.add\" we can: 1-select a group of cells to work with, \n",
    "# 2-Apply a certain transformation given a \"CellIsRule\"\n",
    "\n",
    "# \"CellIsRule\" will receive an operator, a formula (arguments for the operator), \n",
    "# an end condition, and a fill transformation\n",
    "work_sheet_format.conditional_formatting.add('A2:A10',CellIsRule(operator='lessThan', formula=['0.5'], stopIfTrue=True, fill=redFill))\n",
    "# save our results\n",
    "work_book_from_file.save('test.xlsx')"
   ]
  }
 ],
 "metadata": {
  "anaconda-cloud": {},
  "kernelspec": {
   "display_name": "Python 3",
   "language": "python",
   "name": "python3"
  },
  "language_info": {
   "codemirror_mode": {
    "name": "ipython",
    "version": 3
   },
   "file_extension": ".py",
   "mimetype": "text/x-python",
   "name": "python",
   "nbconvert_exporter": "python",
   "pygments_lexer": "ipython3",
   "version": "3.6.5"
  },
  "toc": {
   "base_numbering": 1,
   "nav_menu": {},
   "number_sections": true,
   "sideBar": true,
   "skip_h1_title": false,
   "title_cell": "Table of Contents",
   "title_sidebar": "Contents",
   "toc_cell": false,
   "toc_position": {},
   "toc_section_display": true,
   "toc_window_display": false
  },
  "varInspector": {
   "cols": {
    "lenName": 16,
    "lenType": 16,
    "lenVar": 40
   },
   "kernels_config": {
    "python": {
     "delete_cmd_postfix": "",
     "delete_cmd_prefix": "del ",
     "library": "var_list.py",
     "varRefreshCmd": "print(var_dic_list())"
    },
    "r": {
     "delete_cmd_postfix": ") ",
     "delete_cmd_prefix": "rm(",
     "library": "var_list.r",
     "varRefreshCmd": "cat(var_dic_list()) "
    }
   },
   "types_to_exclude": [
    "module",
    "function",
    "builtin_function_or_method",
    "instance",
    "_Feature"
   ],
   "window_display": false
  }
 },
 "nbformat": 4,
 "nbformat_minor": 2
}

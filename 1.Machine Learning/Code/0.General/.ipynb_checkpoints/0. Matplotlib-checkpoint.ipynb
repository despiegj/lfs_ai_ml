{
 "cells": [
  {
   "cell_type": "markdown",
   "metadata": {},
   "source": [
    "# Using Matplotlib\n",
    "#### Matplotlib is a comprehensive library for creating static, animated, and interactive visualizations in Python."
   ]
  },
  {
   "cell_type": "markdown",
   "metadata": {},
   "source": [
    "This is a Jupyter Notebook. It allows you to run programming code in single steps. in order to run the code of a given cell, you need to position yoursefl on the cell by clicking on it, and then pressing the `Run` button at the top of the notebook, or by using the short-cut keys `Shift + Enter`."
   ]
  },
  {
   "cell_type": "markdown",
   "metadata": {},
   "source": [
    "We will start by importing the necessary libraries:"
   ]
  },
  {
   "cell_type": "code",
   "execution_count": 1,
   "metadata": {},
   "outputs": [],
   "source": [
    "# We import the python plotting module of matplotlib \"pyplot\" and we will call it \"plt\" for ease of use.  \n",
    "import matplotlib.pyplot as plt\n",
    "# We also import numpy to perform efficient mathematical operations. Similarly, we will call it \"np\".\n",
    "import numpy as np"
   ]
  },
  {
   "cell_type": "markdown",
   "metadata": {},
   "source": [
    "# Define x and y vectors"
   ]
  },
  {
   "cell_type": "markdown",
   "metadata": {},
   "source": [
    "We will define two vectors, for that we will use the function \"np.array\". This function recieves a list of numbers and will transform them into an array which will allow us to make mathematical operations on them."
   ]
  },
  {
   "cell_type": "code",
   "execution_count": 2,
   "metadata": {},
   "outputs": [],
   "source": [
    "x = np.array([0, 1, 2, 3, 4, 5])\n",
    "y = np.array([-2, 3, -1, 5, 10, 3])"
   ]
  },
  {
   "cell_type": "markdown",
   "metadata": {},
   "source": [
    "# Line plot\n",
    "One of the most basic plots we can do in `matplotlib` is a line plot. To do this, we will use the function \"plot\" of the module \"plt\" (pyplot). This function receives a set of x coordinates (x vector) and a set of y coordinates (y vector) (this vectors must have the same number of elements). With this values, matplotlib will plot the ponts corresponding to these coordinates and automatically connect the neighbouring points with a line."
   ]
  },
  {
   "cell_type": "code",
   "execution_count": 3,
   "metadata": {},
   "outputs": [
    {
     "data": {
      "image/png": "[encoded data removed]",
      "text/plain": [
       "<Figure size 432x288 with 1 Axes>"
      ]
     },
     "metadata": {
      "needs_background": "light"
     },
     "output_type": "display_data"
    }
   ],
   "source": [
    "# We first need to define a figure\n",
    "plt.figure()\n",
    "# We call the plotting function with the x and y vector as coordinates\n",
    "plt.plot(x, y)\n",
    "# Now that we have our plotting specifications, we will make some visual arrangements using some plt functions:\n",
    "# We use the functions \"xlabel\" and \"ylabel\" to define the label for the x and y axis of the plot\n",
    "plt.xlabel('x')\n",
    "plt.ylabel('y')\n",
    "# We can also give the plot a title using the function \"title\"\n",
    "plt.title('Line')\n",
    "# The only thing that is left to do, is to tell the code to display the results\n",
    "plt.show()"
   ]
  },
  {
   "cell_type": "markdown",
   "metadata": {},
   "source": [
    "# Scatter plot\n",
    "Similar to a line plot, we can send the x and y coordinates to the function `scatter`. However, this time the points will not be united by lines and will be plotted as such."
   ]
  },
  {
   "cell_type": "code",
   "execution_count": 4,
   "metadata": {},
   "outputs": [
    {
     "data": {
      "image/png": "[encoded data removed]",
      "text/plain": [
       "<Figure size 432x288 with 1 Axes>"
      ]
     },
     "metadata": {
      "needs_background": "light"
     },
     "output_type": "display_data"
    }
   ],
   "source": [
    "# Figure definition\n",
    "plt.figure()\n",
    "# Plotting specifications\n",
    "plt.scatter(x, y)\n",
    "# Axis labeling\n",
    "plt.xlabel('x')\n",
    "plt.ylabel('y')\n",
    "# Title definition\n",
    "plt.title('Line')\n",
    "# Displaying the plot\n",
    "plt.show()"
   ]
  },
  {
   "cell_type": "markdown",
   "metadata": {},
   "source": [
    "# Bar chart\n",
    "Finally, we will create a barplot. For this we will use the function `bar`. The firt argument will reffer to the horizontall position of the bar while the second argument will give us the hight of the bars in the plot."
   ]
  },
  {
   "cell_type": "code",
   "execution_count": 5,
   "metadata": {},
   "outputs": [
    {
     "data": {
      "image/png": "[encoded data removed]",
      "text/plain": [
       "<Figure size 432x288 with 1 Axes>"
      ]
     },
     "metadata": {
      "needs_background": "light"
     },
     "output_type": "display_data"
    }
   ],
   "source": [
    "# Figure definition\n",
    "plt.figure()\n",
    "# Plotting specifications using \"bar\"\n",
    "plt.bar(x, y)\n",
    "# Axis labeling\n",
    "plt.xlabel('x')\n",
    "plt.ylabel('y')\n",
    "# Defining a title\n",
    "plt.title('Bar')\n",
    "# Displaying the bar-plot\n",
    "plt.show()"
   ]
  },
  {
   "cell_type": "code",
   "execution_count": null,
   "metadata": {},
   "outputs": [],
   "source": []
  }
 ],
 "metadata": {
  "kernelspec": {
   "display_name": "Python 3",
   "language": "python",
   "name": "python3"
  },
  "language_info": {
   "codemirror_mode": {
    "name": "ipython",
    "version": 3
   },
   "file_extension": ".py",
   "mimetype": "text/x-python",
   "name": "python",
   "nbconvert_exporter": "python",
   "pygments_lexer": "ipython3",
   "version": "3.6.10"
  },
  "toc": {
   "base_numbering": 1,
   "nav_menu": {},
   "number_sections": true,
   "sideBar": true,
   "skip_h1_title": false,
   "title_cell": "Table of Contents",
   "title_sidebar": "Contents",
   "toc_cell": false,
   "toc_position": {},
   "toc_section_display": true,
   "toc_window_display": false
  },
  "varInspector": {
   "cols": {
    "lenName": 16,
    "lenType": 16,
    "lenVar": 40
   },
   "kernels_config": {
    "python": {
     "delete_cmd_postfix": "",
     "delete_cmd_prefix": "del ",
     "library": "var_list.py",
     "varRefreshCmd": "print(var_dic_list())"
    },
    "r": {
     "delete_cmd_postfix": ") ",
     "delete_cmd_prefix": "rm(",
     "library": "var_list.r",
     "varRefreshCmd": "cat(var_dic_list()) "
    }
   },
   "types_to_exclude": [
    "module",
    "function",
    "builtin_function_or_method",
    "instance",
    "_Feature"
   ],
   "window_display": false
  }
 },
 "nbformat": 4,
 "nbformat_minor": 2
}

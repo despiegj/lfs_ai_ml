{
 "cells": [
  {
   "cell_type": "code",
   "execution_count": 3,
   "metadata": {},
   "outputs": [],
   "source": [
    "# Import the Quant library. This will give us access to millions of financial \n",
    "# and economic datasets from hundreds of publishers directly into Python\n",
    "import quandl\n",
    "import pandas as pd\n",
    "import matplotlib.pyplot as plt\n",
    "%matplotlib inline"
   ]
  },
  {
   "cell_type": "markdown",
   "metadata": {},
   "source": [
    "# Introduction\n",
    "In this notebook we will use real data from Bitcoin prices.\n",
    "\n",
    "From Quandl we can download the data for different bitcoin markets:\n",
    "https://www.quandl.com/data/BCHAIN/MKPRU-Bitcoin-Market-Price-USD"
   ]
  },
  {
   "cell_type": "code",
   "execution_count": 4,
   "metadata": {},
   "outputs": [],
   "source": [
    "# use the method \".get\" to retrieve a data set\n",
    "# first argument: is the name of the dataset that we want to retrieve (see documentation)\n",
    "# second argument: the format to return the data \n",
    "df = quandl.get('BCHARTS/KRAKENUSD', returns=\"pandas\")"
   ]
  },
  {
   "cell_type": "markdown",
   "metadata": {},
   "source": [
    "inspecting the different datatypes in the dataframe"
   ]
  },
  {
   "cell_type": "code",
   "execution_count": 5,
   "metadata": {},
   "outputs": [
    {
     "data": {
      "text/html": [
       "<div>\n",
       "<style scoped>\n",
       "    .dataframe tbody tr th:only-of-type {\n",
       "        vertical-align: middle;\n",
       "    }\n",
       "\n",
       "    .dataframe tbody tr th {\n",
       "        vertical-align: top;\n",
       "    }\n",
       "\n",
       "    .dataframe thead th {\n",
       "        text-align: right;\n",
       "    }\n",
       "</style>\n",
       "<table border=\"1\" class=\"dataframe\">\n",
       "  <thead>\n",
       "    <tr style=\"text-align: right;\">\n",
       "      <th></th>\n",
       "      <th>Open</th>\n",
       "      <th>High</th>\n",
       "      <th>Low</th>\n",
       "      <th>Close</th>\n",
       "      <th>Volume (BTC)</th>\n",
       "      <th>Volume (Currency)</th>\n",
       "      <th>Weighted Price</th>\n",
       "    </tr>\n",
       "    <tr>\n",
       "      <th>Date</th>\n",
       "      <th></th>\n",
       "      <th></th>\n",
       "      <th></th>\n",
       "      <th></th>\n",
       "      <th></th>\n",
       "      <th></th>\n",
       "      <th></th>\n",
       "    </tr>\n",
       "  </thead>\n",
       "  <tbody>\n",
       "    <tr>\n",
       "      <th>2014-01-07</th>\n",
       "      <td>874.67040</td>\n",
       "      <td>892.06753</td>\n",
       "      <td>810.00000</td>\n",
       "      <td>810.00000</td>\n",
       "      <td>15.622378</td>\n",
       "      <td>13151.472844</td>\n",
       "      <td>841.835522</td>\n",
       "    </tr>\n",
       "    <tr>\n",
       "      <th>2014-01-08</th>\n",
       "      <td>810.00000</td>\n",
       "      <td>899.84281</td>\n",
       "      <td>788.00000</td>\n",
       "      <td>824.98287</td>\n",
       "      <td>19.182756</td>\n",
       "      <td>16097.329584</td>\n",
       "      <td>839.156269</td>\n",
       "    </tr>\n",
       "    <tr>\n",
       "      <th>2014-01-09</th>\n",
       "      <td>825.56345</td>\n",
       "      <td>870.00000</td>\n",
       "      <td>807.42084</td>\n",
       "      <td>841.86934</td>\n",
       "      <td>8.158335</td>\n",
       "      <td>6784.249982</td>\n",
       "      <td>831.572913</td>\n",
       "    </tr>\n",
       "    <tr>\n",
       "      <th>2014-01-10</th>\n",
       "      <td>839.99000</td>\n",
       "      <td>857.34056</td>\n",
       "      <td>817.00000</td>\n",
       "      <td>857.33056</td>\n",
       "      <td>8.024510</td>\n",
       "      <td>6780.220188</td>\n",
       "      <td>844.938794</td>\n",
       "    </tr>\n",
       "    <tr>\n",
       "      <th>2014-01-11</th>\n",
       "      <td>858.20000</td>\n",
       "      <td>918.05471</td>\n",
       "      <td>857.16554</td>\n",
       "      <td>899.84105</td>\n",
       "      <td>18.748285</td>\n",
       "      <td>16698.566929</td>\n",
       "      <td>890.671709</td>\n",
       "    </tr>\n",
       "  </tbody>\n",
       "</table>\n",
       "</div>"
      ],
      "text/plain": [
       "                 Open       High        Low      Close  Volume (BTC)  \\\n",
       "Date                                                                   \n",
       "2014-01-07  874.67040  892.06753  810.00000  810.00000     15.622378   \n",
       "2014-01-08  810.00000  899.84281  788.00000  824.98287     19.182756   \n",
       "2014-01-09  825.56345  870.00000  807.42084  841.86934      8.158335   \n",
       "2014-01-10  839.99000  857.34056  817.00000  857.33056      8.024510   \n",
       "2014-01-11  858.20000  918.05471  857.16554  899.84105     18.748285   \n",
       "\n",
       "            Volume (Currency)  Weighted Price  \n",
       "Date                                           \n",
       "2014-01-07       13151.472844      841.835522  \n",
       "2014-01-08       16097.329584      839.156269  \n",
       "2014-01-09        6784.249982      831.572913  \n",
       "2014-01-10        6780.220188      844.938794  \n",
       "2014-01-11       16698.566929      890.671709  "
      ]
     },
     "execution_count": 5,
     "metadata": {},
     "output_type": "execute_result"
    }
   ],
   "source": [
    "# Overview of the data. Show first five rows\n",
    "df.head()"
   ]
  },
  {
   "cell_type": "code",
   "execution_count": 6,
   "metadata": {},
   "outputs": [
    {
     "data": {
      "image/png": "[encoded data removed]",
      "text/plain": [
       "<Figure size 720x360 with 1 Axes>"
      ]
     },
     "metadata": {
      "needs_background": "light"
     },
     "output_type": "display_data"
    }
   ],
   "source": [
    "# Plot the close values in a plor of size 10x5\n",
    "df['Close'].plot(figsize=(10,5));"
   ]
  },
  {
   "cell_type": "markdown",
   "metadata": {},
   "source": [
    "There are a few notable down-spikes, particularly in late 2014 and early 2016. These spikes are specific to the Kraken dataset, and we obviously don't want them to be reflected in our overall pricing analysis.\n",
    "<b>Let's remove the values where the Bitcoin is zero</b>"
   ]
  },
  {
   "cell_type": "code",
   "execution_count": 7,
   "metadata": {},
   "outputs": [],
   "source": [
    "# Create a variable name index with the value \"True\" whereever the price equals 0\n",
    "idx = df['Close'] == 0"
   ]
  },
  {
   "cell_type": "code",
   "execution_count": 8,
   "metadata": {},
   "outputs": [
    {
     "name": "stdout",
     "output_type": "stream",
     "text": [
      "There are  49  such observations in the dataset\n"
     ]
    }
   ],
   "source": [
    "# In sums, all the True values are taken as 1 and the False values are taken as 0  \n",
    "print('There are ',sum(idx), ' such observations in the dataset')"
   ]
  },
  {
   "cell_type": "code",
   "execution_count": 9,
   "metadata": {},
   "outputs": [],
   "source": [
    "# Drop the 0 values, first, we will point to them using the method \".loc\" this will receive our list of \n",
    "# booleans and the method \".index\" will return the numerical index of the values with a True.\n",
    "# This will be the firs argument of the \"drop\" method.\n",
    "# Axis argument: tells what kind of dropping we want (0 is rows and 1 means columns)\n",
    "# inplace argument: will store the ourcome in the dataframe itself\n",
    "df.drop(df.loc[idx].index, axis=0, inplace=True)"
   ]
  },
  {
   "cell_type": "code",
   "execution_count": 10,
   "metadata": {},
   "outputs": [
    {
     "name": "stdout",
     "output_type": "stream",
     "text": [
      "Check: There are  0  such observations in the dataset\n"
     ]
    }
   ],
   "source": [
    "# In the same way we verify if there are any 0s after our cleaning process\n",
    "idx = df['Close'] == 0\n",
    "print('Check: There are ',sum(idx), ' such observations in the dataset')"
   ]
  },
  {
   "cell_type": "code",
   "execution_count": 11,
   "metadata": {},
   "outputs": [
    {
     "data": {
      "image/png": "[encoded data removed]",
      "text/plain": [
       "<Figure size 720x360 with 1 Axes>"
      ]
     },
     "metadata": {
      "needs_background": "light"
     },
     "output_type": "display_data"
    }
   ],
   "source": [
    "# Plot the close prices\n",
    "df['Close'].plot(figsize=(10,5));"
   ]
  },
  {
   "cell_type": "markdown",
   "metadata": {},
   "source": [
    "<h3>Pulling different Exchanges together in one single dataframe </h3>\n"
   ]
  },
  {
   "cell_type": "code",
   "execution_count": 12,
   "metadata": {},
   "outputs": [],
   "source": [
    "# Create a list with the names of different exchanges\n",
    "exchanges = ['COINBASE','BITSTAMP','ITBIT','KRAKEN']"
   ]
  },
  {
   "cell_type": "code",
   "execution_count": 13,
   "metadata": {},
   "outputs": [],
   "source": [
    "# Create an empty dictionary to store the results later on\n",
    "exchange_data = dict()\n",
    "\n",
    "# Iterate over our list of exchanges\n",
    "for exchange in exchanges:\n",
    "    exchange_code = 'BCHARTS/'+exchange+'USD'\n",
    "    # Extract the data for each exchange\n",
    "    df_exchange = quandl.get(exchange_code,returns=\"pandas\")\n",
    "    # Store the outcome in our dictionary where the key is the name of the exchange\n",
    "    exchange_data[exchange] = df_exchange"
   ]
  },
  {
   "cell_type": "markdown",
   "metadata": {},
   "source": [
    "The results of the 4 different exchanges are stored in a dictionary :\n"
   ]
  },
  {
   "cell_type": "code",
   "execution_count": 14,
   "metadata": {},
   "outputs": [
    {
     "data": {
      "text/plain": [
       "dict_keys(['COINBASE', 'BITSTAMP', 'ITBIT', 'KRAKEN'])"
      ]
     },
     "execution_count": 14,
     "metadata": {},
     "output_type": "execute_result"
    }
   ],
   "source": [
    "# Print the keys of a dictionary with the method \".keys()\"\n",
    "exchange_data.keys()"
   ]
  },
  {
   "cell_type": "code",
   "execution_count": 15,
   "metadata": {},
   "outputs": [
    {
     "data": {
      "text/html": [
       "<div>\n",
       "<style scoped>\n",
       "    .dataframe tbody tr th:only-of-type {\n",
       "        vertical-align: middle;\n",
       "    }\n",
       "\n",
       "    .dataframe tbody tr th {\n",
       "        vertical-align: top;\n",
       "    }\n",
       "\n",
       "    .dataframe thead th {\n",
       "        text-align: right;\n",
       "    }\n",
       "</style>\n",
       "<table border=\"1\" class=\"dataframe\">\n",
       "  <thead>\n",
       "    <tr style=\"text-align: right;\">\n",
       "      <th></th>\n",
       "      <th>Open</th>\n",
       "      <th>High</th>\n",
       "      <th>Low</th>\n",
       "      <th>Close</th>\n",
       "      <th>Volume (BTC)</th>\n",
       "      <th>Volume (Currency)</th>\n",
       "      <th>Weighted Price</th>\n",
       "    </tr>\n",
       "    <tr>\n",
       "      <th>Date</th>\n",
       "      <th></th>\n",
       "      <th></th>\n",
       "      <th></th>\n",
       "      <th></th>\n",
       "      <th></th>\n",
       "      <th></th>\n",
       "      <th></th>\n",
       "    </tr>\n",
       "  </thead>\n",
       "  <tbody>\n",
       "    <tr>\n",
       "      <th>2015-02-04</th>\n",
       "      <td>228.77</td>\n",
       "      <td>230.25</td>\n",
       "      <td>221.85</td>\n",
       "      <td>227.11</td>\n",
       "      <td>3344.120783</td>\n",
       "      <td>7.578076e+05</td>\n",
       "      <td>226.608934</td>\n",
       "    </tr>\n",
       "    <tr>\n",
       "      <th>2015-05-11</th>\n",
       "      <td>241.59</td>\n",
       "      <td>245.49</td>\n",
       "      <td>239.50</td>\n",
       "      <td>242.86</td>\n",
       "      <td>6176.481242</td>\n",
       "      <td>1.498052e+06</td>\n",
       "      <td>242.541273</td>\n",
       "    </tr>\n",
       "    <tr>\n",
       "      <th>2015-05-12</th>\n",
       "      <td>242.74</td>\n",
       "      <td>243.40</td>\n",
       "      <td>240.37</td>\n",
       "      <td>242.03</td>\n",
       "      <td>6322.571412</td>\n",
       "      <td>1.531046e+06</td>\n",
       "      <td>242.155569</td>\n",
       "    </tr>\n",
       "    <tr>\n",
       "      <th>2015-05-13</th>\n",
       "      <td>242.04</td>\n",
       "      <td>244.13</td>\n",
       "      <td>235.54</td>\n",
       "      <td>236.32</td>\n",
       "      <td>10028.946883</td>\n",
       "      <td>2.424123e+06</td>\n",
       "      <td>241.712609</td>\n",
       "    </tr>\n",
       "    <tr>\n",
       "      <th>2015-05-14</th>\n",
       "      <td>236.93</td>\n",
       "      <td>240.00</td>\n",
       "      <td>232.61</td>\n",
       "      <td>237.46</td>\n",
       "      <td>10365.968041</td>\n",
       "      <td>2.462002e+06</td>\n",
       "      <td>237.508205</td>\n",
       "    </tr>\n",
       "  </tbody>\n",
       "</table>\n",
       "</div>"
      ],
      "text/plain": [
       "              Open    High     Low   Close  Volume (BTC)  Volume (Currency)  \\\n",
       "Date                                                                          \n",
       "2015-02-04  228.77  230.25  221.85  227.11   3344.120783       7.578076e+05   \n",
       "2015-05-11  241.59  245.49  239.50  242.86   6176.481242       1.498052e+06   \n",
       "2015-05-12  242.74  243.40  240.37  242.03   6322.571412       1.531046e+06   \n",
       "2015-05-13  242.04  244.13  235.54  236.32  10028.946883       2.424123e+06   \n",
       "2015-05-14  236.93  240.00  232.61  237.46  10365.968041       2.462002e+06   \n",
       "\n",
       "            Weighted Price  \n",
       "Date                        \n",
       "2015-02-04      226.608934  \n",
       "2015-05-11      242.541273  \n",
       "2015-05-12      242.155569  \n",
       "2015-05-13      241.712609  \n",
       "2015-05-14      237.508205  "
      ]
     },
     "execution_count": 15,
     "metadata": {},
     "output_type": "execute_result"
    }
   ],
   "source": [
    "# First 5 rows\n",
    "exchange_data['COINBASE'].head()"
   ]
  },
  {
   "cell_type": "markdown",
   "metadata": {},
   "source": [
    "Examine the columns in the DataaFrame"
   ]
  },
  {
   "cell_type": "code",
   "execution_count": 16,
   "metadata": {},
   "outputs": [
    {
     "name": "stdout",
     "output_type": "stream",
     "text": [
      "COINBASE\n",
      "Index(['Open', 'High', 'Low', 'Close', 'Volume (BTC)', 'Volume (Currency)',\n",
      "       'Weighted Price'],\n",
      "      dtype='object')\n",
      "BITSTAMP\n",
      "Index(['Open', 'High', 'Low', 'Close', 'Volume (BTC)', 'Volume (Currency)',\n",
      "       'Weighted Price'],\n",
      "      dtype='object')\n",
      "ITBIT\n",
      "Index(['Open', 'High', 'Low', 'Close', 'Volume (BTC)', 'Volume (Currency)',\n",
      "       'Weighted Price'],\n",
      "      dtype='object')\n",
      "KRAKEN\n",
      "Index(['Open', 'High', 'Low', 'Close', 'Volume (BTC)', 'Volume (Currency)',\n",
      "       'Weighted Price'],\n",
      "      dtype='object')\n"
     ]
    }
   ],
   "source": [
    "# Iterate over all the exchanges and prit the content\n",
    "for d in exchange_data.keys():\n",
    "    print(d)\n",
    "    print(exchange_data[d].columns)"
   ]
  },
  {
   "cell_type": "markdown",
   "metadata": {},
   "source": [
    "We would like to have this data in a Data Frame format to manipulate it and analyse it. Put these together in one dataframe"
   ]
  },
  {
   "cell_type": "code",
   "execution_count": 17,
   "metadata": {},
   "outputs": [],
   "source": [
    "# Create an empty data frame to store the results\n",
    "df = pd.DataFrame()\n",
    "for d in exchange_data.keys():\n",
    "    df = pd.concat([df,exchange_data[d]['Close']],axis=1)\n"
   ]
  },
  {
   "cell_type": "code",
   "execution_count": 18,
   "metadata": {},
   "outputs": [],
   "source": [
    "# Rename the columns to the names of the exchanges\n",
    "df.columns = exchanges"
   ]
  },
  {
   "cell_type": "code",
   "execution_count": 19,
   "metadata": {},
   "outputs": [
    {
     "data": {
      "image/png": "[encoded data removed]",
      "text/plain": [
       "<Figure size 720x360 with 1 Axes>"
      ]
     },
     "metadata": {
      "needs_background": "light"
     },
     "output_type": "display_data"
    }
   ],
   "source": [
    "# Plot the dataframe\n",
    "df.plot(figsize=(10,5));"
   ]
  }
 ],
 "metadata": {
  "kernelspec": {
   "display_name": "Python 3",
   "language": "python",
   "name": "python3"
  },
  "language_info": {
   "codemirror_mode": {
    "name": "ipython",
    "version": 3
   },
   "file_extension": ".py",
   "mimetype": "text/x-python",
   "name": "python",
   "nbconvert_exporter": "python",
   "pygments_lexer": "ipython3",
   "version": "3.7.4"
  },
  "toc": {
   "base_numbering": 1,
   "nav_menu": {},
   "number_sections": true,
   "sideBar": true,
   "skip_h1_title": false,
   "title_cell": "Table of Contents",
   "title_sidebar": "Contents",
   "toc_cell": false,
   "toc_position": {},
   "toc_section_display": true,
   "toc_window_display": false
  },
  "varInspector": {
   "cols": {
    "lenName": 16,
    "lenType": 16,
    "lenVar": 40
   },
   "kernels_config": {
    "python": {
     "delete_cmd_postfix": "",
     "delete_cmd_prefix": "del ",
     "library": "var_list.py",
     "varRefreshCmd": "print(var_dic_list())"
    },
    "r": {
     "delete_cmd_postfix": ") ",
     "delete_cmd_prefix": "rm(",
     "library": "var_list.r",
     "varRefreshCmd": "cat(var_dic_list()) "
    }
   },
   "types_to_exclude": [
    "module",
    "function",
    "builtin_function_or_method",
    "instance",
    "_Feature"
   ],
   "window_display": false
  }
 },
 "nbformat": 4,
 "nbformat_minor": 2
}

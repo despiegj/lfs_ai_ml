{
 "cells": [
  {
   "cell_type": "markdown",
   "metadata": {},
   "source": [
    "# Outlier Detection\n",
    "This code will exemplify the detection of outliers in the data"
   ]
  },
  {
   "cell_type": "code",
   "execution_count": 142,
   "metadata": {},
   "outputs": [],
   "source": [
    "# Import the necessary libraries\n",
    "import numpy as np\n",
    "# We will import the module DistanceMetric to calculate different distances between two points\n",
    "from sklearn.neighbors import DistanceMetric\n",
    "from matplotlib import pyplot as plt\n",
    "import seaborn as sns\n",
    "sns.set()"
   ]
  },
  {
   "cell_type": "markdown",
   "metadata": {},
   "source": [
    "### 1. Outliers have a large influence on the dataset's covariance matrix $S_X$. \n",
    "As an example let's create a dataset."
   ]
  },
  {
   "cell_type": "code",
   "execution_count": 101,
   "metadata": {},
   "outputs": [],
   "source": [
    "# Generate a set of random values\n",
    "# Fix the seed of the random generator to get replicable resutls\n",
    "np.random.seed(0)\n",
    "# Create 2 arrays of random numbers of size 10, 1\n",
    "X1 = np.random.randn(10,1)\n",
    "X2 = np.random.randn(10,1)\n",
    "# Stack the two random arrays horizontally\n",
    "X = np.hstack([X1,X2])"
   ]
  },
  {
   "cell_type": "markdown",
   "metadata": {},
   "source": [
    "### Putting the metrics at work"
   ]
  },
  {
   "cell_type": "code",
   "execution_count": 102,
   "metadata": {},
   "outputs": [
    {
     "data": {
      "text/plain": [
       "array([[0.        , 1.8912727 , 0.99869937, 0.47736522, 0.3171833 ,\n",
       "        2.74788123, 1.5764305 , 1.94698117, 1.87490557, 1.68170134],\n",
       "       [1.8912727 , 0.        , 0.90295712, 2.27247172, 1.78162678,\n",
       "        1.77568858, 0.55136995, 1.74868006, 1.24729233, 2.30839286],\n",
       "       [0.99869937, 0.90295712, 0.        , 1.41485705, 0.94371641,\n",
       "        2.00215822, 0.73360099, 1.48682542, 1.1710285 , 1.71214444],\n",
       "       [0.47736522, 2.27247172, 1.41485705, 0.        , 0.49313733,\n",
       "        3.22514632, 1.88405676, 2.41447344, 2.35191251, 2.07415218],\n",
       "       [0.3171833 , 1.78162678, 0.94371641, 0.49313733, 0.        ,\n",
       "        2.84696904, 1.39452635, 2.12067147, 1.97511236, 1.95126329],\n",
       "       [2.74788123, 1.77568858, 2.00215822, 3.22514632, 2.84696904,\n",
       "        0.        , 2.24972888, 0.9861468 , 0.8743019 , 1.82674535],\n",
       "       [1.5764305 , 0.55136995, 0.73360099, 1.88405676, 1.39452635,\n",
       "        2.24972888, 0.        , 2.02499136, 1.58248035, 2.40935143],\n",
       "       [1.94698117, 1.74868006, 1.48682542, 2.41447344, 2.12067147,\n",
       "        0.9861468 , 2.02499136, 0.        , 0.52045697, 0.85843699],\n",
       "       [1.87490557, 1.24729233, 1.1710285 , 2.35191251, 1.97511236,\n",
       "        0.8743019 , 1.58248035, 0.52045697, 0.        , 1.27525635],\n",
       "       [1.68170134, 2.30839286, 1.71214444, 2.07415218, 1.95126329,\n",
       "        1.82674535, 2.40935143, 0.85843699, 1.27525635, 0.        ]])"
      ]
     },
     "execution_count": 102,
     "metadata": {},
     "output_type": "execute_result"
    }
   ],
   "source": [
    "# for this exercise we will use the euclidean distance\n",
    "dist = DistanceMetric.get_metric('euclidean')\n",
    "# Compute the pairwise distance between the random arrays, this will return a matrix of size(X)^2 where the ij value \n",
    "# is the distance between the vecor i and the vector j ( the matrix is simetric with ij=0 for all i=j)\n",
    "dist.pairwise(X)"
   ]
  },
  {
   "cell_type": "markdown",
   "metadata": {},
   "source": [
    "### 2. In a second step, a \"bumped\" dataset $Z$ is created"
   ]
  },
  {
   "cell_type": "code",
   "execution_count": 103,
   "metadata": {},
   "outputs": [],
   "source": [
    "# Copy the data in X to Z and \"bump\" it \n",
    "Z = X.copy()\n",
    "Z[0,1] = Z[0,1]+3\n",
    "Z[0,0] = Z[0,0]+2"
   ]
  },
  {
   "cell_type": "markdown",
   "metadata": {},
   "source": [
    "### 3. For a new point $Y = [3,3]$, we have to consider how close it is to the overal set of observations. The Mahalanobis distance is calculated against both data-sets."
   ]
  },
  {
   "cell_type": "code",
   "execution_count": 107,
   "metadata": {},
   "outputs": [
    {
     "name": "stdout",
     "output_type": "stream",
     "text": [
      "The solution is:\n",
      "Distance to X: 13.804644778644972\n",
      "Distance to Z: 7.856397708723\n"
     ]
    }
   ],
   "source": [
    "# Create an distance metric corresponding to the mahalanobis distance\n",
    "# we will pass the covariance matrix to each of the metrics, the \".T\" method refers to the transpose of the matrix\n",
    "dist_X = DistanceMetric.get_metric('mahalanobis', V=np.cov(X.T))\n",
    "dist_Z = DistanceMetric.get_metric('mahalanobis', V=np.cov(Z.T))\n",
    "\n",
    "Y = np.array([3,3]).reshape(1,2)\n",
    "distance_to_X= np.sqrt(sum(dist_X.pairwise(X,Y)**2)[0])\n",
    "distance_to_Z= np.sqrt(sum(dist_Z.pairwise(Z,Y)**2)[0])\n",
    "print(\"The solution is:\")\n",
    "print(\"Distance to X:\", distance_to_X)\n",
    "print(\"Distance to Z:\", distance_to_Z)"
   ]
  },
  {
   "cell_type": "code",
   "execution_count": 145,
   "metadata": {},
   "outputs": [
    {
     "data": {
      "image/png": "[encoded data removed]",
      "text/plain": [
       "<Figure size 720x432 with 2 Axes>"
      ]
     },
     "metadata": {},
     "output_type": "display_data"
    }
   ],
   "source": [
    "fig, ax = plt.subplots(1,2, figsize=(10,6))\n",
    "# Ploting both datasets and the new point\n",
    "ax[0].scatter(X[:,0],X[:,1])\n",
    "ax[0].scatter(Y[0][0], Y[0][1], marker='*', color='black')\n",
    "ax[0].set_title('Dist Y to X = 13.80')\n",
    "# Ploting second dataset\n",
    "ax[1].scatter(Z[1:,0],Z[1:,1])\n",
    "ax[1].scatter(Z[0,0], Z[0,1], marker='^', color='red')\n",
    "ax[1].scatter(Y[0][0], Y[0][1], marker='*', color='black')\n",
    "# Final adjustments for the table\n",
    "ax[1].set_title('Dist Y to Z = 7.86')\n",
    "plt.legend(['inlier', 'outlier','new observation']);"
   ]
  },
  {
   "cell_type": "markdown",
   "metadata": {},
   "source": [
    "### Using Minimum Covariance Determinant"
   ]
  },
  {
   "cell_type": "code",
   "execution_count": 146,
   "metadata": {},
   "outputs": [],
   "source": [
    "from sklearn.covariance import MinCovDet\n",
    "robust_Z = MinCovDet().fit(Z)\n",
    "d_robust = robust_Z.mahalanobis(Y)"
   ]
  },
  {
   "cell_type": "code",
   "execution_count": 151,
   "metadata": {},
   "outputs": [
    {
     "data": {
      "image/png": "[encoded data removed]",
      "text/plain": [
       "<Figure size 1080x432 with 3 Axes>"
      ]
     },
     "metadata": {},
     "output_type": "display_data"
    }
   ],
   "source": [
    "fig, ax = plt.subplots(1,3, figsize=(15,6))\n",
    "# Ploting both datasets and the new point\n",
    "ax[0].scatter(X[:,0],X[:,1])\n",
    "ax[0].scatter(Y[0][0], Y[0][1], marker='*', color='black')\n",
    "ax[0].set_title('Dist Y to X = 13.80')\n",
    "# Ploting second dataset\n",
    "ax[1].scatter(Z[1:,0],Z[1:,1])\n",
    "ax[1].scatter(Z[0,0], Z[0,1], marker='^', color='red')\n",
    "ax[1].scatter(Y[0][0], Y[0][1], marker='*', color='black')\n",
    "ax[1].set_title('Dist Y to Z = 7.86')\n",
    "# Plotting the Z dataset but calculating the distance with robust minimum covariance determinant\n",
    "ax[2].scatter(Z[1:,0],Z[1:,1])\n",
    "ax[2].scatter(Z[0,0], Z[0,1], marker='^', color='red')\n",
    "ax[2].scatter(Y[0][0], Y[0][1], marker='*', color='black')\n",
    "ax[2].set_title('Dist Y to Z = %.2f' % (d_robust))\n",
    "# Final adjustments for the table\n",
    "plt.legend(['inlier', 'outlier','new observation']);"
   ]
  }
 ],
 "metadata": {
  "kernelspec": {
   "display_name": "Python 3",
   "language": "python",
   "name": "python3"
  },
  "language_info": {
   "codemirror_mode": {
    "name": "ipython",
    "version": 3
   },
   "file_extension": ".py",
   "mimetype": "text/x-python",
   "name": "python",
   "nbconvert_exporter": "python",
   "pygments_lexer": "ipython3",
   "version": "3.6.5"
  }
 },
 "nbformat": 4,
 "nbformat_minor": 4
}

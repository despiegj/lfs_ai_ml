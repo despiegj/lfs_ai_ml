{
 "cells": [
  {
   "cell_type": "markdown",
   "metadata": {},
   "source": [
    "# Multivariate kernel density estimation"
   ]
  },
  {
   "cell_type": "code",
   "execution_count": 3,
   "metadata": {},
   "outputs": [],
   "source": [
    "# Import the necessary libraries\n",
    "import numpy as np\n",
    "import pandas as pd\n",
    "import matplotlib.pyplot as plt \n",
    "import statsmodels.api as sm\n",
    "import seaborn as sns\n",
    "sns.set()\n",
    "%matplotlib inline"
   ]
  },
  {
   "cell_type": "code",
   "execution_count": 4,
   "metadata": {},
   "outputs": [
    {
     "data": {
      "text/html": [
       "<div>\n",
       "<style scoped>\n",
       "    .dataframe tbody tr th:only-of-type {\n",
       "        vertical-align: middle;\n",
       "    }\n",
       "\n",
       "    .dataframe tbody tr th {\n",
       "        vertical-align: top;\n",
       "    }\n",
       "\n",
       "    .dataframe thead th {\n",
       "        text-align: right;\n",
       "    }\n",
       "</style>\n",
       "<table border=\"1\" class=\"dataframe\">\n",
       "  <thead>\n",
       "    <tr style=\"text-align: right;\">\n",
       "      <th></th>\n",
       "      <th>Name</th>\n",
       "      <th>Realised 1yr Vol</th>\n",
       "      <th>CF2Debt Ratio</th>\n",
       "      <th>DefaultRisk</th>\n",
       "    </tr>\n",
       "  </thead>\n",
       "  <tbody>\n",
       "    <tr>\n",
       "      <th>477</th>\n",
       "      <td>K+S AG</td>\n",
       "      <td>36.53</td>\n",
       "      <td>-0.40</td>\n",
       "      <td>High</td>\n",
       "    </tr>\n",
       "    <tr>\n",
       "      <th>478</th>\n",
       "      <td>Lundin Petroleum AB</td>\n",
       "      <td>29.05</td>\n",
       "      <td>-0.48</td>\n",
       "      <td>High</td>\n",
       "    </tr>\n",
       "    <tr>\n",
       "      <th>479</th>\n",
       "      <td>UnipolSai SpA</td>\n",
       "      <td>29.79</td>\n",
       "      <td>-0.49</td>\n",
       "      <td>Low</td>\n",
       "    </tr>\n",
       "    <tr>\n",
       "      <th>480</th>\n",
       "      <td>Capital &amp; Counties Properties PLC</td>\n",
       "      <td>17.62</td>\n",
       "      <td>-0.55</td>\n",
       "      <td>Low</td>\n",
       "    </tr>\n",
       "    <tr>\n",
       "      <th>481</th>\n",
       "      <td>TNT Express NV</td>\n",
       "      <td>32.70</td>\n",
       "      <td>-0.77</td>\n",
       "      <td>High</td>\n",
       "    </tr>\n",
       "  </tbody>\n",
       "</table>\n",
       "</div>"
      ],
      "text/plain": [
       "                                  Name   Realised 1yr Vol   CF2Debt Ratio  \\\n",
       "477                             K+S AG              36.53           -0.40   \n",
       "478                Lundin Petroleum AB              29.05           -0.48   \n",
       "479                      UnipolSai SpA              29.79           -0.49   \n",
       "480  Capital & Counties Properties PLC              17.62           -0.55   \n",
       "481                     TNT Express NV              32.70           -0.77   \n",
       "\n",
       "    DefaultRisk  \n",
       "477        High  \n",
       "478        High  \n",
       "479         Low  \n",
       "480         Low  \n",
       "481        High  "
      ]
     },
     "execution_count": 4,
     "metadata": {},
     "output_type": "execute_result"
    }
   ],
   "source": [
    "# Read the DataKDE csv and display the 5 last rows\n",
    "df = pd.read_csv('../../../Data/DataKDE.csv')\n",
    "df.tail()"
   ]
  },
  {
   "cell_type": "markdown",
   "metadata": {},
   "source": [
    "Not overly happy with the column names in the csv file, so let's see if we can change them :\n",
    "into ' Volatility ' and 'FCF2Debt '"
   ]
  },
  {
   "cell_type": "code",
   "execution_count": 5,
   "metadata": {},
   "outputs": [
    {
     "data": {
      "text/plain": [
       "Index(['Name', 'Volatility', 'CF2Debt', 'DefaultRisk'], dtype='object')"
      ]
     },
     "execution_count": 5,
     "metadata": {},
     "output_type": "execute_result"
    }
   ],
   "source": [
    "df.columns = ['Name', 'Volatility', 'CF2Debt', 'DefaultRisk']\n",
    "df.columns"
   ]
  },
  {
   "cell_type": "markdown",
   "metadata": {},
   "source": [
    "We use the groupby() function of Pandas to have some average position of the storm"
   ]
  },
  {
   "cell_type": "code",
   "execution_count": 8,
   "metadata": {},
   "outputs": [],
   "source": [
    "# Group the rows with the same \"DefaultRisk\"\n",
    "dfs = df.groupby('DefaultRisk')"
   ]
  },
  {
   "cell_type": "code",
   "execution_count": 10,
   "metadata": {},
   "outputs": [
    {
     "data": {
      "text/html": [
       "<div>\n",
       "<style scoped>\n",
       "    .dataframe tbody tr th:only-of-type {\n",
       "        vertical-align: middle;\n",
       "    }\n",
       "\n",
       "    .dataframe tbody tr th {\n",
       "        vertical-align: top;\n",
       "    }\n",
       "\n",
       "    .dataframe thead th {\n",
       "        text-align: right;\n",
       "    }\n",
       "</style>\n",
       "<table border=\"1\" class=\"dataframe\">\n",
       "  <thead>\n",
       "    <tr style=\"text-align: right;\">\n",
       "      <th></th>\n",
       "      <th>Volatility</th>\n",
       "      <th>CF2Debt</th>\n",
       "    </tr>\n",
       "    <tr>\n",
       "      <th>DefaultRisk</th>\n",
       "      <th></th>\n",
       "      <th></th>\n",
       "    </tr>\n",
       "  </thead>\n",
       "  <tbody>\n",
       "    <tr>\n",
       "      <th>High</th>\n",
       "      <td>30.477500</td>\n",
       "      <td>0.075000</td>\n",
       "    </tr>\n",
       "    <tr>\n",
       "      <th>Low</th>\n",
       "      <td>23.226425</td>\n",
       "      <td>1.435894</td>\n",
       "    </tr>\n",
       "  </tbody>\n",
       "</table>\n",
       "</div>"
      ],
      "text/plain": [
       "             Volatility   CF2Debt\n",
       "DefaultRisk                      \n",
       "High          30.477500  0.075000\n",
       "Low           23.226425  1.435894"
      ]
     },
     "execution_count": 10,
     "metadata": {},
     "output_type": "execute_result"
    }
   ],
   "source": [
    "# The grouped dataframe has the following properties \n",
    "AvgLevels = dfs[['Volatility','CF2Debt']].mean()\n",
    "# display the mean of the columns \"volatility\" and \"CF2Debt\"\n",
    "AvgLevels"
   ]
  },
  {
   "cell_type": "markdown",
   "metadata": {},
   "source": [
    "<b>First Observation:</b><br>High Realized Equity Volatility and Low Free Cashflow is associated with High Default Risk"
   ]
  },
  {
   "cell_type": "code",
   "execution_count": 11,
   "metadata": {},
   "outputs": [
    {
     "name": "stdout",
     "output_type": "stream",
     "text": [
      "<class 'pandas.core.frame.DataFrame'>\n",
      "The average realized equity volatility of Low Default is :  23.23\n",
      "(This result matches what we found when earlier grouping the dataframe)\n"
     ]
    }
   ],
   "source": [
    "# Creating two dataFrames from the original dataframe df accroding to the Default Risk\n",
    "df_HDefRisk = df[(df.DefaultRisk == 'High')]\n",
    "df_LDefRisk = df[(df.DefaultRisk == 'Low')]\n",
    "print(type(df_HDefRisk))\n",
    "print((\"The average realized equity volatility of Low Default is : {k: 0.02f}\").format(k=df_LDefRisk['Volatility'].mean()))\n",
    "print(\"(This result matches what we found when earlier grouping the dataframe)\")"
   ]
  },
  {
   "cell_type": "code",
   "execution_count": 12,
   "metadata": {},
   "outputs": [
    {
     "data": {
      "image/png": "[encoded data removed]",
      "text/plain": [
       "<Figure size 720x720 with 1 Axes>"
      ]
     },
     "metadata": {
      "needs_background": "light"
     },
     "output_type": "display_data"
    }
   ],
   "source": [
    "plt.figure(figsize=(10,10))\n",
    "# Plot both high and low risk data's Volatility agains the \"CF2Debt\"\n",
    "plt.plot(df_HDefRisk.Volatility,df_HDefRisk.CF2Debt,'or',label='High Default Risk')\n",
    "plt.plot(df_LDefRisk.Volatility,df_LDefRisk.CF2Debt,'ob',label='Low Default Risk')\n",
    "plt.legend()\n",
    "plt.xlabel('Volatility (%)')\n",
    "plt.ylabel('CashFlow / Debt');"
   ]
  },
  {
   "cell_type": "markdown",
   "metadata": {},
   "source": [
    "The Multivariate kernel density estimator from the <b>statsmodels </b> package is going to be used. \n",
    "We can find more info on the model using the \"?\" in front of the function"
   ]
  },
  {
   "cell_type": "code",
   "execution_count": 13,
   "metadata": {},
   "outputs": [],
   "source": [
    "# The function \"KDEMultivariate\" receives a list with the data, and a \"var_time\" for each element in data.\n",
    "# the \"c\" stands for continuous data. see https://www.statsmodels.org/stable/generated/statsmodels.nonparametric.kernel_density.KDEMultivariate.html\n",
    "KDE_HighDefaultRisk = sm.nonparametric.KDEMultivariate(data=[df_HDefRisk.Volatility, df_HDefRisk.CF2Debt], \n",
    "                                                       var_type='cc')\n",
    "KDE_LowDefaultRisk = sm.nonparametric.KDEMultivariate(data=[df_LDefRisk.Volatility, df_LDefRisk.CF2Debt], \n",
    "                                                      var_type='cc')"
   ]
  },
  {
   "cell_type": "code",
   "execution_count": 10,
   "metadata": {},
   "outputs": [
    {
     "name": "stdout",
     "output_type": "stream",
     "text": [
      "0.013090641803160831\n",
      "0.000107063991959003\n",
      "[4.0105288  0.10812561]\n",
      "[1.92194748 2.2855728 ]\n"
     ]
    }
   ],
   "source": [
    "# Low free cashflow is creating high default risk\n",
    "print(KDE_LowDefaultRisk.pdf([20,1]))\n",
    "print(KDE_HighDefaultRisk.pdf([20,1]))\n",
    "print(KDE_HighDefaultRisk.bw)\n",
    "print(KDE_LowDefaultRisk.bw)"
   ]
  },
  {
   "cell_type": "markdown",
   "metadata": {},
   "source": [
    "<h3> Use the seaborn visualization package </h3> <br>\n",
    "This comes with a 2D KDE calculation "
   ]
  },
  {
   "cell_type": "code",
   "execution_count": 15,
   "metadata": {},
   "outputs": [
    {
     "data": {
      "image/png": "[encoded data removed]",
      "text/plain": [
       "<Figure size 1080x576 with 2 Axes>"
      ]
     },
     "metadata": {
      "needs_background": "light"
     },
     "output_type": "display_data"
    }
   ],
   "source": [
    "f, ax = plt.subplots(1,2,figsize=(15,8))\n",
    "# We can do te KDE and plot it directly using the sns.kdeplot routine\n",
    "sns.kdeplot(df_HDefRisk.Volatility,df_HDefRisk.CF2Debt,\n",
    "                 cmap=\"Reds\", shade=True, shade_lowest=False,ax=ax[1])\n",
    "\n",
    "sns.kdeplot(df_LDefRisk.Volatility,df_LDefRisk.CF2Debt,\n",
    "                 cmap=\"Blues\", shade=True, shade_lowest=False,ax=ax[0])\n",
    "# limit the axis of the plot\n",
    "ax[0].set_ylim(-0.5,2)\n",
    "ax[1].set_ylim(-0.5,2)\n",
    "ax[0].set_xlim(0,50)\n",
    "ax[1].set_xlim(0,50);"
   ]
  },
  {
   "cell_type": "code",
   "execution_count": null,
   "metadata": {},
   "outputs": [],
   "source": []
  }
 ],
 "metadata": {
  "anaconda-cloud": {},
  "kernelspec": {
   "display_name": "Python 3",
   "language": "python",
   "name": "python3"
  },
  "language_info": {
   "codemirror_mode": {
    "name": "ipython",
    "version": 3
   },
   "file_extension": ".py",
   "mimetype": "text/x-python",
   "name": "python",
   "nbconvert_exporter": "python",
   "pygments_lexer": "ipython3",
   "version": "3.6.5"
  },
  "toc": {
   "base_numbering": 1,
   "nav_menu": {},
   "number_sections": true,
   "sideBar": true,
   "skip_h1_title": false,
   "title_cell": "Table of Contents",
   "title_sidebar": "Contents",
   "toc_cell": false,
   "toc_position": {},
   "toc_section_display": true,
   "toc_window_display": false
  },
  "varInspector": {
   "cols": {
    "lenName": 16,
    "lenType": 16,
    "lenVar": 40
   },
   "kernels_config": {
    "python": {
     "delete_cmd_postfix": "",
     "delete_cmd_prefix": "del ",
     "library": "var_list.py",
     "varRefreshCmd": "print(var_dic_list())"
    },
    "r": {
     "delete_cmd_postfix": ") ",
     "delete_cmd_prefix": "rm(",
     "library": "var_list.r",
     "varRefreshCmd": "cat(var_dic_list()) "
    }
   },
   "types_to_exclude": [
    "module",
    "function",
    "builtin_function_or_method",
    "instance",
    "_Feature"
   ],
   "window_display": false
  }
 },
 "nbformat": 4,
 "nbformat_minor": 2
}

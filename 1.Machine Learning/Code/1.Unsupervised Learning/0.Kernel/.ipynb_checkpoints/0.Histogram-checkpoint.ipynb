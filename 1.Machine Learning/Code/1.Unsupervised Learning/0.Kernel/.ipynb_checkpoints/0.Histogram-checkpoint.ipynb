{
 "cells": [
  {
   "cell_type": "markdown",
   "metadata": {},
   "source": [
    "# Histograms\n",
    "The following code will demonstrate the use of histograms for data analysis"
   ]
  },
  {
   "cell_type": "code",
   "execution_count": 1,
   "metadata": {},
   "outputs": [],
   "source": [
    "import pandas as pd\n",
    "import numpy as np\n",
    "import matplotlib.pyplot as plt\n",
    "import seaborn as sns\n",
    "sns.set()\n",
    "%matplotlib inline"
   ]
  },
  {
   "cell_type": "markdown",
   "metadata": {},
   "source": [
    "We will start by reading the Data and transform data into matrix"
   ]
  },
  {
   "cell_type": "code",
   "execution_count": 2,
   "metadata": {},
   "outputs": [],
   "source": [
    "# Use pandas module \"read_csv\" to read from the CoCo csv file\n",
    "data = pd.read_csv('../../../Data/CoCo.csv')\n",
    "# Store the \"yield\" values as an array with the method \".values\"\n",
    "CoCo =  data['yield'].values"
   ]
  },
  {
   "cell_type": "markdown",
   "metadata": {},
   "source": [
    "The function \"matplotlib.pyplot.hist\" or in our case \"plt.hist\" will copute and draw the histogram of its argument.\n",
    "\n",
    "Among the arguments of the function are:\n",
    "\n",
    "_bins_ :\n",
    "* If bins is an integer, it defines the number of equal-width bins in the range.\n",
    "\n",
    "* If bins is a sequence, it defines the bin edges, including the left edge of the first bin and the right edge of the last bin; in this case, bins may be unequally spaced. All but the last (righthand-most) bin is half-open.\n",
    "\n",
    "_histtype_ : {'bar', 'barstacked', 'step', 'stepfilled'}\n",
    "* type of histogram to draw\n",
    "\n",
    "_align_ : {'left', 'mid', 'right'}\n",
    "\n",
    "* Controls how the histogram is plotted.\n",
    "\n",
    "For a detailed explanation see:\n",
    "\n",
    "https://matplotlib.org/3.2.2/api/_as_gen/matplotlib.pyplot.hist.html"
   ]
  },
  {
   "cell_type": "code",
   "execution_count": 4,
   "metadata": {},
   "outputs": [
    {
     "data": {
      "image/png": "[encoded data removed]",
      "text/plain": [
       "<Figure size 576x576 with 1 Axes>"
      ]
     },
     "metadata": {
      "needs_background": "light"
     },
     "output_type": "display_data"
    }
   ],
   "source": [
    "fig= plt.subplots(1,1,figsize=(8,8))\n",
    "# Plot the histogram of CoCo with each bin starting at a value of 4 added 0.2 consecutively until 12\n",
    "# np.arrange generates a list of numbers starting at four, ending in 12 and each with an increase of .2\n",
    "plt.hist(CoCo,bins=np.arange(4,12,0.2),histtype='bar',align='mid')\n",
    "plt.title('bar',fontsize=18)\n",
    "plt.xlabel('Yield (%)');"
   ]
  },
  {
   "cell_type": "markdown",
   "metadata": {},
   "source": [
    "#### Using two different methods : bin sizes and bin buckets:\n"
   ]
  },
  {
   "cell_type": "code",
   "execution_count": 5,
   "metadata": {},
   "outputs": [
    {
     "data": {
      "image/png": "[encoded data removed]",
      "text/plain": [
       "<Figure size 576x576 with 2 Axes>"
      ]
     },
     "metadata": {
      "needs_background": "light"
     },
     "output_type": "display_data"
    }
   ],
   "source": [
    "fig= plt.figure(figsize=(8,8))\n",
    "plt.subplot(2,1,1)\n",
    "# If we pass to the argument \"bins\" an array, it will use it to generate the bin edges \n",
    "plt.hist(CoCo,bins=np.arange(4,12,1),histtype='bar',align='mid')\n",
    "plt.subplot(2,1,2)\n",
    "# If the argument is a number, it defines the number of equal-width bins in the range.\n",
    "plt.hist(CoCo,bins=20,histtype='bar',align='mid');"
   ]
  }
 ],
 "metadata": {
  "anaconda-cloud": {},
  "kernelspec": {
   "display_name": "Python 3",
   "language": "python",
   "name": "python3"
  },
  "language_info": {
   "codemirror_mode": {
    "name": "ipython",
    "version": 3
   },
   "file_extension": ".py",
   "mimetype": "text/x-python",
   "name": "python",
   "nbconvert_exporter": "python",
   "pygments_lexer": "ipython3",
   "version": "3.6.5"
  },
  "toc": {
   "base_numbering": 1,
   "nav_menu": {},
   "number_sections": true,
   "sideBar": true,
   "skip_h1_title": false,
   "title_cell": "Table of Contents",
   "title_sidebar": "Contents",
   "toc_cell": false,
   "toc_position": {},
   "toc_section_display": true,
   "toc_window_display": false
  },
  "varInspector": {
   "cols": {
    "lenName": 16,
    "lenType": 16,
    "lenVar": 40
   },
   "kernels_config": {
    "python": {
     "delete_cmd_postfix": "",
     "delete_cmd_prefix": "del ",
     "library": "var_list.py",
     "varRefreshCmd": "print(var_dic_list())"
    },
    "r": {
     "delete_cmd_postfix": ") ",
     "delete_cmd_prefix": "rm(",
     "library": "var_list.r",
     "varRefreshCmd": "cat(var_dic_list()) "
    }
   },
   "types_to_exclude": [
    "module",
    "function",
    "builtin_function_or_method",
    "instance",
    "_Feature"
   ],
   "window_display": false
  }
 },
 "nbformat": 4,
 "nbformat_minor": 1
}

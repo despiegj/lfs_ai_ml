{
 "cells": [
  {
   "cell_type": "markdown",
   "metadata": {},
   "source": [
    "# Use case: Bitcoin"
   ]
  },
  {
   "cell_type": "code",
   "execution_count": 1,
   "metadata": {},
   "outputs": [],
   "source": [
    "# Import the necessary libraries\n",
    "import pandas as pd\n",
    "import numpy as np\n",
    "import matplotlib.pyplot as plt\n",
    "import seaborn as sns\n",
    "sns.set()\n",
    "%matplotlib inline"
   ]
  },
  {
   "cell_type": "markdown",
   "metadata": {},
   "source": [
    "<h2>Data</h2>"
   ]
  },
  {
   "cell_type": "code",
   "execution_count": 4,
   "metadata": {},
   "outputs": [
    {
     "data": {
      "text/html": [
       "<div>\n",
       "<style scoped>\n",
       "    .dataframe tbody tr th:only-of-type {\n",
       "        vertical-align: middle;\n",
       "    }\n",
       "\n",
       "    .dataframe tbody tr th {\n",
       "        vertical-align: top;\n",
       "    }\n",
       "\n",
       "    .dataframe thead th {\n",
       "        text-align: right;\n",
       "    }\n",
       "</style>\n",
       "<table border=\"1\" class=\"dataframe\">\n",
       "  <thead>\n",
       "    <tr style=\"text-align: right;\">\n",
       "      <th></th>\n",
       "      <th>XBT Curncy</th>\n",
       "    </tr>\n",
       "    <tr>\n",
       "      <th>Date</th>\n",
       "      <th></th>\n",
       "    </tr>\n",
       "  </thead>\n",
       "  <tbody>\n",
       "    <tr>\n",
       "      <th>2015-07-15</th>\n",
       "      <td>291.2523</td>\n",
       "    </tr>\n",
       "    <tr>\n",
       "      <th>2015-07-16</th>\n",
       "      <td>276.1400</td>\n",
       "    </tr>\n",
       "    <tr>\n",
       "      <th>2015-07-17</th>\n",
       "      <td>278.2650</td>\n",
       "    </tr>\n",
       "    <tr>\n",
       "      <th>2015-07-21</th>\n",
       "      <td>278.9625</td>\n",
       "    </tr>\n",
       "    <tr>\n",
       "      <th>2015-07-22</th>\n",
       "      <td>277.0599</td>\n",
       "    </tr>\n",
       "  </tbody>\n",
       "</table>\n",
       "</div>"
      ],
      "text/plain": [
       "            XBT Curncy\n",
       "Date                  \n",
       "2015-07-15    291.2523\n",
       "2015-07-16    276.1400\n",
       "2015-07-17    278.2650\n",
       "2015-07-21    278.9625\n",
       "2015-07-22    277.0599"
      ]
     },
     "execution_count": 4,
     "metadata": {},
     "output_type": "execute_result"
    }
   ],
   "source": [
    "# Read data into dataframe\n",
    "df = pd.read_csv('../../../Data/Bitcoindata.csv',parse_dates=True,index_col='Date')\n",
    "# Display the first five rows\n",
    "df.head()"
   ]
  },
  {
   "cell_type": "code",
   "execution_count": 5,
   "metadata": {},
   "outputs": [],
   "source": [
    "# Change the name of the column to \"Close Price\"\n",
    "df.columns=['Close Price']\n",
    "# Sort the data ascending in datetime\n",
    "df.sort_index(ascending=True,inplace=True)"
   ]
  },
  {
   "cell_type": "code",
   "execution_count": 6,
   "metadata": {},
   "outputs": [
    {
     "data": {
      "image/png": "[encoded data removed]",
      "text/plain": [
       "<Figure size 720x360 with 1 Axes>"
      ]
     },
     "metadata": {
      "needs_background": "light"
     },
     "output_type": "display_data"
    }
   ],
   "source": [
    "# plot our data in a figure of size 10x5\n",
    "df.plot(figsize=(10,5));"
   ]
  },
  {
   "cell_type": "markdown",
   "metadata": {},
   "source": [
    "#### Calculate the log returns"
   ]
  },
  {
   "cell_type": "code",
   "execution_count": 7,
   "metadata": {},
   "outputs": [
    {
     "data": {
      "text/html": [
       "<div>\n",
       "<style scoped>\n",
       "    .dataframe tbody tr th:only-of-type {\n",
       "        vertical-align: middle;\n",
       "    }\n",
       "\n",
       "    .dataframe tbody tr th {\n",
       "        vertical-align: top;\n",
       "    }\n",
       "\n",
       "    .dataframe thead th {\n",
       "        text-align: right;\n",
       "    }\n",
       "</style>\n",
       "<table border=\"1\" class=\"dataframe\">\n",
       "  <thead>\n",
       "    <tr style=\"text-align: right;\">\n",
       "      <th></th>\n",
       "      <th>Close Price</th>\n",
       "      <th>Ret</th>\n",
       "    </tr>\n",
       "    <tr>\n",
       "      <th>Date</th>\n",
       "      <th></th>\n",
       "      <th></th>\n",
       "    </tr>\n",
       "  </thead>\n",
       "  <tbody>\n",
       "    <tr>\n",
       "      <th>2015-07-15</th>\n",
       "      <td>291.2523</td>\n",
       "      <td>NaN</td>\n",
       "    </tr>\n",
       "    <tr>\n",
       "      <th>2015-07-16</th>\n",
       "      <td>276.1400</td>\n",
       "      <td>-0.051887</td>\n",
       "    </tr>\n",
       "    <tr>\n",
       "      <th>2015-07-17</th>\n",
       "      <td>278.2650</td>\n",
       "      <td>0.007695</td>\n",
       "    </tr>\n",
       "    <tr>\n",
       "      <th>2015-07-21</th>\n",
       "      <td>278.9625</td>\n",
       "      <td>0.002507</td>\n",
       "    </tr>\n",
       "    <tr>\n",
       "      <th>2015-07-22</th>\n",
       "      <td>277.0599</td>\n",
       "      <td>-0.006820</td>\n",
       "    </tr>\n",
       "  </tbody>\n",
       "</table>\n",
       "</div>"
      ],
      "text/plain": [
       "            Close Price       Ret\n",
       "Date                             \n",
       "2015-07-15     291.2523       NaN\n",
       "2015-07-16     276.1400 -0.051887\n",
       "2015-07-17     278.2650  0.007695\n",
       "2015-07-21     278.9625  0.002507\n",
       "2015-07-22     277.0599 -0.006820"
      ]
     },
     "execution_count": 7,
     "metadata": {},
     "output_type": "execute_result"
    }
   ],
   "source": [
    "# Percentage change with a one period lag\n",
    "df['Ret'] = df['Close Price'].pct_change(periods=1)\n",
    "df.head()"
   ]
  },
  {
   "cell_type": "code",
   "execution_count": 8,
   "metadata": {},
   "outputs": [],
   "source": [
    "# log return: the function apply will perform an operation to each element in the column 'Ret'\n",
    "df['LogRet'] = df['Ret'].apply(lambda x: np.log(1+x))\n",
    "# Clean the data: replace the infinite and negative infinite values with a Nan and then drop all Nans\n",
    "df.replace([np.inf, -np.inf], np.nan,inplace=True)\n",
    "df.dropna(inplace=True)"
   ]
  },
  {
   "cell_type": "markdown",
   "metadata": {},
   "source": [
    "Calculate the Volatility"
   ]
  },
  {
   "cell_type": "code",
   "execution_count": 9,
   "metadata": {},
   "outputs": [
    {
     "name": "stdout",
     "output_type": "stream",
     "text": [
      "Volatility of Bitcoin = 73.87 %\n"
     ]
    }
   ],
   "source": [
    "# Calculate the volatility and round it to two decimals\n",
    "print('Volatility of Bitcoin =',np.round(df['LogRet'].std()*np.sqrt(250)*100,2), '%')"
   ]
  },
  {
   "cell_type": "markdown",
   "metadata": {},
   "source": [
    "## Are Bitcoin prices Normally distributed ?\n",
    "\n",
    "We will use the science python library (scipy) for this"
   ]
  },
  {
   "cell_type": "code",
   "execution_count": 11,
   "metadata": {},
   "outputs": [],
   "source": [
    "# Import the statistics module\n",
    "from scipy import stats"
   ]
  },
  {
   "cell_type": "markdown",
   "metadata": {},
   "source": [
    "Calculate quantiles for a probability plot, and optionally show the plot.\n",
    "Generates a probability plot of sample data against the quantiles of a specified theoretical distribution (the normal distribution by default).<br>\n",
    "Probplot optionally calculates a best-fit line for the data and plots the results using Matplotlib or a given plot function."
   ]
  },
  {
   "cell_type": "code",
   "execution_count": 16,
   "metadata": {},
   "outputs": [
    {
     "name": "stdout",
     "output_type": "stream",
     "text": [
      "R Squared: 91.55584320796945  %\n"
     ]
    },
    {
     "data": {
      "image/png": "[encoded data removed]",
      "text/plain": [
       "<Figure size 432x288 with 1 Axes>"
      ]
     },
     "metadata": {
      "needs_background": "light"
     },
     "output_type": "display_data"
    }
   ],
   "source": [
    "# get the values of the log return\n",
    "data = df['LogRet'].values\n",
    "# Compute and plot quantiles using probplot\n",
    "res = stats.probplot(data,fit=True,plot=plt,dist='norm')\n",
    "# Print the R^2 error with respect to the normal distribution, this is stored on the last element of the last element\n",
    "# of the result of probplot\n",
    "print('R Squared:',100*res[-1][-1],' %')"
   ]
  },
  {
   "cell_type": "markdown",
   "metadata": {},
   "source": [
    "A better candidate to replace the normal distribution function is the laplace-function:"
   ]
  },
  {
   "cell_type": "code",
   "execution_count": 17,
   "metadata": {},
   "outputs": [
    {
     "name": "stdout",
     "output_type": "stream",
     "text": [
      "R Squared: 96.70803988238009  %\n"
     ]
    },
    {
     "data": {
      "image/png": "[encoded data removed]",
      "text/plain": [
       "<Figure size 432x288 with 1 Axes>"
      ]
     },
     "metadata": {
      "needs_background": "light"
     },
     "output_type": "display_data"
    }
   ],
   "source": [
    "data = np.array(df['LogRet'])\n",
    "# We repeat the process but this time with the laplace-function distribution\n",
    "res = stats.probplot(data,fit=True,plot=plt,dist='laplace')\n",
    "plt.xlim([-4,4])\n",
    "print('R Squared:',100*res[-1][-1],' %')"
   ]
  },
  {
   "cell_type": "markdown",
   "metadata": {},
   "source": [
    "The <b>Kolmogorov-Smirnov</b> test. <br>\n",
    "Using the cumulative density function (<b>CDF</b>) of the returns and compare those with a fitted CDF using the kolmogorov-smirnov two sample test (scipy.stats.kstest). <br>\n",
    "This test will allow us to verify if the CDF of the two series come from the same distribution ( in our case the Normal distribution function) <br>\n",
    "The kstest outputs:\n",
    "<ol>\n",
    "<li>the ks statistic\n",
    "<li> a p-value\n",
    "</ol></br>\n",
    "<br>\n",
    "P-values less than 0.05 means we can reject the null hypothesis that the two series were drawn from the same distribution. The smaller the p-value the more confident we are that they came from a different distributions.\n",
    "\n",
    "First we will analyze the entire return series, then compare the test across years.\n",
    "\n",
    "Documentation : https://docs.scipy.org/doc/scipy/reference/generated/scipy.stats.kstest.html\n",
    " "
   ]
  },
  {
   "cell_type": "code",
   "execution_count": 18,
   "metadata": {},
   "outputs": [
    {
     "name": "stdout",
     "output_type": "stream",
     "text": [
      "Testing normal distribution: KstestResult(statistic=0.4422787810822094, pvalue=6.831837019807413e-76)\n",
      "->Reject Null hypothesis\n"
     ]
    }
   ],
   "source": [
    "print('Testing normal distribution:',stats.kstest(data, 'norm'))\n",
    "print('->Reject Null hypothesis')"
   ]
  },
  {
   "cell_type": "markdown",
   "metadata": {},
   "source": [
    "<h2>Kernel Density Function </h2> <br>\n",
    "A Non-Parametric Density Estimate (= Kernel)"
   ]
  },
  {
   "cell_type": "code",
   "execution_count": 19,
   "metadata": {},
   "outputs": [],
   "source": [
    "from sklearn.neighbors import KernelDensity\n",
    "from sklearn.model_selection import GridSearchCV"
   ]
  },
  {
   "cell_type": "markdown",
   "metadata": {},
   "source": [
    "#### Calculate the Kernel Density Fit\n",
    "As done in past notebooks, we will calculate the density fit for the log return"
   ]
  },
  {
   "cell_type": "code",
   "execution_count": 20,
   "metadata": {},
   "outputs": [],
   "source": [
    "data = np.array(df['LogRet']).reshape(-1,1)\n",
    "kde = KernelDensity(kernel='gaussian', bandwidth=0.02)\n",
    "kde.fit(data);"
   ]
  },
  {
   "cell_type": "code",
   "execution_count": 21,
   "metadata": {},
   "outputs": [
    {
     "data": {
      "image/png": "[encoded data removed]",
      "text/plain": [
       "<Figure size 720x360 with 1 Axes>"
      ]
     },
     "metadata": {
      "needs_background": "light"
     },
     "output_type": "display_data"
    }
   ],
   "source": [
    "fig, ax = plt.subplots(figsize=(10,5))\n",
    "ax.plot(np.arange(-0.4,0.4,0.001).reshape(-1,1),\n",
    "        np.exp(kde.score_samples(np.arange(-0.4,0.4,0.001).reshape(-1,1))))\n",
    "ax.set_xlabel('Return');"
   ]
  },
  {
   "cell_type": "markdown",
   "metadata": {},
   "source": [
    "Parametric Density Estimation <br>\n",
    "Which is the optimal bandwidth and optimal kernel (tophat or gaussian)"
   ]
  },
  {
   "cell_type": "code",
   "execution_count": 22,
   "metadata": {},
   "outputs": [
    {
     "name": "stderr",
     "output_type": "stream",
     "text": [
      "d:\\raul\\documents\\workspace\\jan_slides\\lib\\site-packages\\sklearn\\model_selection\\_search.py:814: RuntimeWarning: invalid value encountered in subtract\n",
      "  array_means[:, np.newaxis]) ** 2,\n"
     ]
    },
    {
     "data": {
      "text/plain": [
       "GridSearchCV(estimator=KernelDensity(),\n",
       "             param_grid={'bandwidth': array([0.001, 0.002, 0.003, 0.004, 0.005, 0.006, 0.007, 0.008, 0.009,\n",
       "       0.01 , 0.011, 0.012, 0.013, 0.014, 0.015, 0.016, 0.017, 0.018,\n",
       "       0.019, 0.02 , 0.021, 0.022, 0.023, 0.024, 0.025, 0.026, 0.027,\n",
       "       0.028, 0.029, 0.03 , 0.031, 0.032, 0.033, 0.034, 0.035, 0.036,\n",
       "       0.037, 0.038, 0.039, 0.04 , 0.041, 0.042, 0.043, 0.044, 0.045,\n",
       "       0.046, 0.047, 0.048, 0.049]),\n",
       "                         'kernel': ['gaussian', 'tophat']})"
      ]
     },
     "execution_count": 22,
     "metadata": {},
     "output_type": "execute_result"
    }
   ],
   "source": [
    "data = np.array(df['LogRet']).reshape(-1,1)\n",
    "# Define a grid with the search space for the bandwidth, but now we will also tell the grid search to\n",
    "# try two different kernels to see which one works the best\n",
    "param_grid = {'bandwidth': np.arange(0.001,0.05,0.001),\n",
    "              'kernel':['gaussian','tophat']}\n",
    "# Initialize and fit the grid search\n",
    "grid = GridSearchCV(KernelDensity(),param_grid)\n",
    "grid.fit(data)"
   ]
  },
  {
   "cell_type": "code",
   "execution_count": 24,
   "metadata": {},
   "outputs": [
    {
     "name": "stdout",
     "output_type": "stream",
     "text": [
      "gaussian\n",
      "0.02\n"
     ]
    }
   ],
   "source": [
    "# We have succesfully alculated the best parameter:\n",
    "print(grid.best_params_['kernel'])\n",
    "print(grid.best_params_['bandwidth'])"
   ]
  },
  {
   "cell_type": "markdown",
   "metadata": {},
   "source": [
    "Plotting the density function"
   ]
  },
  {
   "cell_type": "code",
   "execution_count": 25,
   "metadata": {
    "scrolled": true
   },
   "outputs": [
    {
     "data": {
      "image/png": "[encoded data removed]",
      "text/plain": [
       "<Figure size 720x360 with 1 Axes>"
      ]
     },
     "metadata": {
      "needs_background": "light"
     },
     "output_type": "display_data"
    }
   ],
   "source": [
    "# Plot the density function using the best parameters obtained by the grid search\n",
    "kde_opt = KernelDensity(kernel=grid.best_params_['kernel'], bandwidth=grid.best_params_['bandwidth'])\n",
    "kde_opt.fit(data);\n",
    "fig, ax = plt.subplots(figsize=(10,5))\n",
    "ax.plot(np.arange(-0.4,0.4,0.001).reshape(-1,1),\n",
    "        np.exp(kde_opt.score_samples(np.arange(-0.4,0.4,0.001).reshape(-1,1))))\n",
    "ax.set_xlabel('Return');"
   ]
  },
  {
   "cell_type": "markdown",
   "metadata": {},
   "source": [
    "<h2>Gaussian Mixture</h2> <br>\n",
    "Studying the bitcoin returns as the combination of <b>three</b> gaussians. Each gaussian represents a regime\n",
    "\n",
    "For more information see: \n",
    "\n",
    "https://scikit-learn.org/stable/modules/generated/sklearn.mixture.GaussianMixture.html"
   ]
  },
  {
   "cell_type": "code",
   "execution_count": 26,
   "metadata": {},
   "outputs": [],
   "source": [
    "# import the mixture model from scikit-learn\n",
    "from sklearn import mixture"
   ]
  },
  {
   "cell_type": "code",
   "execution_count": 34,
   "metadata": {},
   "outputs": [
    {
     "data": {
      "text/plain": [
       "GaussianMixture(n_components=3)"
      ]
     },
     "execution_count": 34,
     "metadata": {},
     "output_type": "execute_result"
    }
   ],
   "source": [
    "# Initialize the model with with three gaussians and fit it to the data\n",
    "clf = mixture.GaussianMixture(n_components=3)\n",
    "clf.fit(data.reshape(-1,1))"
   ]
  },
  {
   "cell_type": "code",
   "execution_count": 37,
   "metadata": {},
   "outputs": [
    {
     "name": "stdout",
     "output_type": "stream",
     "text": [
      "Regime 0\n",
      "Prob 78.46639000083843 %\n",
      "Avg: [0.58842376] %\n",
      "\n",
      "\n",
      "Regime 1\n",
      "Prob 8.694814418688107 %\n",
      "Avg: [-7.402553] %\n",
      "\n",
      "\n",
      "Regime 2\n",
      "Prob 12.838795580473427 %\n",
      "Avg: [6.33833785] %\n",
      "\n",
      "\n"
     ]
    }
   ],
   "source": [
    "# Print the weights and the means of each component stored in the clf variable\n",
    "for i in np.arange(0,3):\n",
    "    print('Regime',i)\n",
    "    print('Prob',clf.weights_[i]*100,'%')\n",
    "    print('Avg:',clf.means_[i]*100,'%')\n",
    "    print('\\n')"
   ]
  },
  {
   "cell_type": "code",
   "execution_count": 38,
   "metadata": {},
   "outputs": [
    {
     "name": "stdout",
     "output_type": "stream",
     "text": [
      "Regime 0 78.47 % [Mean= 0.59 %, StDev= 1.92 ]\n",
      "Regime 1 8.69 % [Mean= -7.4 %, StDev= 4.47 ]\n",
      "Regime 2 12.84 % [Mean= 6.34 %, StDev= 7.58 ]\n"
     ]
    }
   ],
   "source": [
    "# Print the weights, the means and the standard deviation of each component stored in the clf variable\n",
    "for i in np.arange(0,len(clf.weights_)):\n",
    "    print('Regime',i,np.round(100*clf.weights_[i],2),'%',\n",
    "          '[Mean=',np.round(100*clf.means_[i,0],2),\n",
    "          '%, StDev=',np.round(100*np.sqrt(clf.covariances_[i][0,0]),2),']')"
   ]
  },
  {
   "cell_type": "markdown",
   "metadata": {},
   "source": [
    "How does one know which regime we are in ?"
   ]
  },
  {
   "cell_type": "code",
   "execution_count": 39,
   "metadata": {},
   "outputs": [
    {
     "data": {
      "image/png": "[encoded data removed]",
      "text/plain": [
       "<Figure size 576x576 with 1 Axes>"
      ]
     },
     "metadata": {
      "needs_background": "light"
     },
     "output_type": "display_data"
    }
   ],
   "source": [
    "fig = plt.subplots(1, 1, figsize=(8,8))\n",
    "# Generate am array from -0.4 to 0.4 in steps of 0.001\n",
    "x = np.arange(-0.4, 0.4, 0.001)\n",
    "for i in np.arange(0, len(clf.weights_)):\n",
    "    # Plot the probability density function for each of the component\n",
    "    plt.plot(x,\n",
    "             stats.norm.pdf(x, loc=clf.means_[i,0], scale=np.sqrt(clf.covariances_[i][0,0])),\n",
    "             label='Regime '+str(i)+' :'+str(np.round(100*clf.weights_[i],2))+'%')\n",
    "    plt.legend()"
   ]
  },
  {
   "cell_type": "code",
   "execution_count": null,
   "metadata": {},
   "outputs": [],
   "source": []
  }
 ],
 "metadata": {
  "anaconda-cloud": {},
  "kernelspec": {
   "display_name": "Python 3",
   "language": "python",
   "name": "python3"
  },
  "language_info": {
   "codemirror_mode": {
    "name": "ipython",
    "version": 3
   },
   "file_extension": ".py",
   "mimetype": "text/x-python",
   "name": "python",
   "nbconvert_exporter": "python",
   "pygments_lexer": "ipython3",
   "version": "3.6.5"
  },
  "toc": {
   "base_numbering": 1,
   "nav_menu": {},
   "number_sections": true,
   "sideBar": true,
   "skip_h1_title": false,
   "title_cell": "Table of Contents",
   "title_sidebar": "Contents",
   "toc_cell": false,
   "toc_position": {},
   "toc_section_display": true,
   "toc_window_display": false
  },
  "varInspector": {
   "cols": {
    "lenName": 16,
    "lenType": 16,
    "lenVar": 40
   },
   "kernels_config": {
    "python": {
     "delete_cmd_postfix": "",
     "delete_cmd_prefix": "del ",
     "library": "var_list.py",
     "varRefreshCmd": "print(var_dic_list())"
    },
    "r": {
     "delete_cmd_postfix": ") ",
     "delete_cmd_prefix": "rm(",
     "library": "var_list.r",
     "varRefreshCmd": "cat(var_dic_list()) "
    }
   },
   "types_to_exclude": [
    "module",
    "function",
    "builtin_function_or_method",
    "instance",
    "_Feature"
   ],
   "window_display": false
  }
 },
 "nbformat": 4,
 "nbformat_minor": 2
}
